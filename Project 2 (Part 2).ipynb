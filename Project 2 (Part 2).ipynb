{
 "cells": [
  {
   "cell_type": "markdown",
   "id": "c4ad5d1c",
   "metadata": {},
   "source": [
    "## Import Libraries and Load Data"
   ]
  },
  {
   "cell_type": "code",
   "execution_count": 1,
   "id": "eb9ee68f",
   "metadata": {},
   "outputs": [],
   "source": [
    "import pandas as pd\n",
    "import numpy as np\n",
    "import seaborn as sns\n",
    "import matplotlib.pyplot as plt\n",
    "from sklearn.linear_model import LinearRegression, LassoCV, RidgeCV\n",
    "from sklearn.preprocessing import PolynomialFeatures, StandardScaler, OneHotEncoder\n",
    "from sklearn.feature_selection import chi2, f_regression, SelectKBest\n",
    "from sklearn.model_selection import train_test_split, cross_val_score, cross_val_predict\n",
    "from sklearn import metrics\n",
    "from sklearn.pipeline import Pipeline \n",
    "import category_encoders as ce\n",
    "from sklearn.compose import ColumnTransformer\n",
    "from sklearn import set_config\n",
    "set_config(display=\"diagram\")\n",
    "%matplotlib inline"
   ]
  },
  {
   "cell_type": "code",
   "execution_count": 2,
   "id": "b17a5c87",
   "metadata": {},
   "outputs": [],
   "source": [
    "hdb = pd.read_csv(\"../data/hdb.csv\")"
   ]
  },
  {
   "cell_type": "code",
   "execution_count": 3,
   "id": "b57ff85d",
   "metadata": {},
   "outputs": [],
   "source": [
    "#remove unnamed column\n",
    "hdb = hdb.drop(columns=\"Unnamed: 0\")"
   ]
  },
  {
   "cell_type": "code",
   "execution_count": 4,
   "id": "47482bd7",
   "metadata": {
    "scrolled": true
   },
   "outputs": [
    {
     "data": {
      "text/plain": [
       "(150634, 78)"
      ]
     },
     "execution_count": 4,
     "metadata": {},
     "output_type": "execute_result"
    }
   ],
   "source": [
    "hdb.shape"
   ]
  },
  {
   "cell_type": "markdown",
   "id": "e6cd3c08",
   "metadata": {},
   "source": [
    "## Preprocessing"
   ]
  },
  {
   "cell_type": "markdown",
   "id": "9e7438d1",
   "metadata": {},
   "source": [
    "##### Preprocessing: One-Hot Encoding for variable \"flat_model\""
   ]
  },
  {
   "cell_type": "code",
   "execution_count": 5,
   "id": "45f30186",
   "metadata": {},
   "outputs": [],
   "source": [
    "#initiate and fit the encoding\n",
    "ohe = OneHotEncoder(sparse=False)\n",
    "transformed = ohe.fit_transform(hdb[[\"flat_model\"]])\n",
    "\n",
    "#construct a dataframe for ohe columns\n",
    "columnname = ohe.get_feature_names_out([\"flat_model\"])\n",
    "transformed_df = pd.DataFrame(transformed, columns=columnname)\n",
    "\n",
    "#lowercase and replace empty space in column name\n",
    "transformed_df.columns = transformed_df.columns.str.lower().str.replace(' ', '_')\n",
    "\n",
    "#concat the ohe dataframe into hdb dataframe\n",
    "hdb = pd.concat([hdb, transformed_df], axis=1)"
   ]
  },
  {
   "cell_type": "markdown",
   "id": "6a3d5988",
   "metadata": {},
   "source": [
    "##### Preprocessing: Target Encoding  for variable \"mrt_name\""
   ]
  },
  {
   "cell_type": "code",
   "execution_count": 6,
   "id": "e21ccfdc",
   "metadata": {},
   "outputs": [],
   "source": [
    "#initiate and fit the encoding\n",
    "te = ce.TargetEncoder()\n",
    "te_fit_mrt = te.fit(hdb[\"mrt_name\"], hdb[\"resale_price\"])\n",
    "\n",
    "#create a column to store encoded value\n",
    "hdb[\"mrt_name_encoded\"] = te_fit_mrt.transform(hdb[\"mrt_name\"])"
   ]
  },
  {
   "cell_type": "markdown",
   "id": "a30e43c8",
   "metadata": {},
   "source": [
    "##### Preprocessing: Target Encoding  for variable \"planning_area\""
   ]
  },
  {
   "cell_type": "code",
   "execution_count": 7,
   "id": "00e23f48",
   "metadata": {},
   "outputs": [],
   "source": [
    "#initiate and fit the encoding\n",
    "te = ce.TargetEncoder()\n",
    "te_fit_pa = te.fit(hdb[\"planning_area\"], hdb[\"resale_price\"])\n",
    "\n",
    "#create a column to store encoded value\n",
    "hdb[\"planning_area_encoded\"] = te_fit_pa.transform(hdb[\"planning_area\"])"
   ]
  },
  {
   "cell_type": "markdown",
   "id": "5782fe49",
   "metadata": {},
   "source": [
    "##### Preprocessing: Train / Val Split"
   ]
  },
  {
   "cell_type": "code",
   "execution_count": 8,
   "id": "4c60e956",
   "metadata": {},
   "outputs": [],
   "source": [
    "X = hdb.drop(\"resale_price\", axis=1)\n",
    "y = hdb[\"resale_price\"]\n",
    "\n",
    "X_train, X_val, y_train, y_val = train_test_split(X, y, test_size=0.25, random_state=10)"
   ]
  },
  {
   "cell_type": "markdown",
   "id": "95fd8a5b",
   "metadata": {},
   "source": [
    "##### Preprocessing: Scaling"
   ]
  },
  {
   "cell_type": "code",
   "execution_count": 9,
   "id": "0fd393d1",
   "metadata": {},
   "outputs": [],
   "source": [
    "# for continuos variables\n",
    "# and target-encoded variables (\"planning_area_encoded\", \"mrt_name_encoded\")\n",
    "\n",
    "scaling_features = ['floor_area_sqm', 'tranc_year', 'tranc_month', 'hdb_age', 'max_floor_lvl', \n",
    "                      'total_dwelling_units', '1room_sold', '2room_sold', '3room_sold',\n",
    "                      '4room_sold', '5room_sold', 'exec_sold','multigen_sold', 'studio_apartment_sold',\n",
    "                      '1room_rental', '2room_rental','3room_rental', 'other_room_rental', 'latitude',\n",
    "                      'longitude','mall_within_500m', 'mall_within_1km', 'mall_within_2km',\n",
    "                      'hawker_nearest_distance', 'hawker_within_500m','hawker_within_1km',\n",
    "                      'hawker_within_2km', 'hawker_food_stalls', 'hawker_market_stalls',\n",
    "                      'mrt_nearest_distance', 'bus_interchange', 'mrt_interchange', 'mrt_latitude',\n",
    "                      'mrt_longitude', 'bus_stop_nearest_distance', 'bus_stop_latitude', 'bus_stop_longitude',\n",
    "                      'pri_sch_nearest_distance', 'vacancy','pri_sch_latitude', 'pri_sch_longitude',\n",
    "                      'sec_sch_nearest_dist', 'cutoff_point', 'sec_sch_latitude', 'sec_sch_longitude',\n",
    "                       'planning_area_encoded', 'mrt_name_encoded']\n",
    "\n",
    "#initiate scaling and fit the scaler\n",
    "ss = StandardScaler()\n",
    "ss_fit = ss.fit(X_train[scaling_features])\n",
    "X_train[scaling_features] = ss_fit.transform(X_train[scaling_features])\n",
    "X_val[scaling_features] = ss.transform(X_val[scaling_features])"
   ]
  },
  {
   "cell_type": "markdown",
   "id": "1d2411a6",
   "metadata": {},
   "source": [
    "## Baseline Model"
   ]
  },
  {
   "cell_type": "markdown",
   "id": "214be3af",
   "metadata": {},
   "source": [
    "The baseline model will be based on the continuos variables that have correlation of more than 0.5 with resale price, which include the following independent variables:\n",
    "1) flat_type_encoded\\\n",
    "2) floor_area_sqm"
   ]
  },
  {
   "cell_type": "markdown",
   "id": "09e3e1f5",
   "metadata": {},
   "source": [
    "##### Linear Regression"
   ]
  },
  {
   "cell_type": "code",
   "execution_count": 10,
   "id": "ac7dd2dc",
   "metadata": {},
   "outputs": [],
   "source": [
    "# initiate the regressor\n",
    "lr = LinearRegression()\n",
    "\n",
    "# fit the train dataset\n",
    "lr.fit(X_train[[\"flat_type_encoded\", \"floor_area_sqm\"]], y_train)\n",
    "\n",
    "# predict the val dataset\n",
    "lr_y_pred = lr.predict(X_val[[\"flat_type_encoded\", \"floor_area_sqm\"]])"
   ]
  },
  {
   "cell_type": "markdown",
   "id": "32e663ee",
   "metadata": {},
   "source": [
    "##### R2 score"
   ]
  },
  {
   "cell_type": "code",
   "execution_count": 11,
   "id": "5ae8394e",
   "metadata": {},
   "outputs": [
    {
     "name": "stdout",
     "output_type": "stream",
     "text": [
      "R2 score for training set: 0.4454\n",
      "R2 score for validation set: 0.4452\n",
      "Cross Val Score: 0.4453\n"
     ]
    }
   ],
   "source": [
    "#train dataset\n",
    "print(f'R2 score for training set: {lr.score(X_train[[\"flat_type_encoded\", \"floor_area_sqm\"]], y_train):.4f}')\n",
    "\n",
    "#val dataset\n",
    "print(f'R2 score for validation set: {lr.score(X_val[[\"flat_type_encoded\", \"floor_area_sqm\"]], y_val):.4f}')\n",
    "\n",
    "#cross val on train dataset\n",
    "print(f'Cross Val Score: {cross_val_score(lr, X_train[[\"flat_type_encoded\", \"floor_area_sqm\"]], y_train, cv=5).mean():.4f}')"
   ]
  },
  {
   "cell_type": "markdown",
   "id": "8dd02b88",
   "metadata": {},
   "source": [
    "##### RMSE and Median Resale Price"
   ]
  },
  {
   "cell_type": "code",
   "execution_count": 12,
   "id": "3fde289f",
   "metadata": {},
   "outputs": [
    {
     "name": "stdout",
     "output_type": "stream",
     "text": [
      "Training data RMSE: 106713.97070828885\n",
      "Validation data RMSE: 106783.66408297708\n",
      "Median: 420000.0\n"
     ]
    }
   ],
   "source": [
    "#train dataset\n",
    "print(\"Training data RMSE:\", metrics.mean_squared_error(y_train, \n",
    "                                                        lr.predict(X_train[[\"flat_type_encoded\", \"floor_area_sqm\"]]),\n",
    "                                                        squared=False))\n",
    "\n",
    "#val dataset\n",
    "print(\"Validation data RMSE:\", metrics.mean_squared_error(y_val, \n",
    "                                                       lr.predict(X_val[[\"flat_type_encoded\", \"floor_area_sqm\"]]),\n",
    "                                                       squared=False))\n",
    "\n",
    "#average resale price, use median to minimise the effect of outlier\n",
    "print(\"Median:\", y_train.median())"
   ]
  },
  {
   "cell_type": "markdown",
   "id": "5a13013f",
   "metadata": {},
   "source": [
    "The R2 score is too low that these two factors only explains 44% of the resale price variation. The RMSE of both train and val datasets are 106k SGD. When the average resale price is 420 SGD, the error accounted for around 25%. This is a underfitted model as the error on both the training and validation sets is very high. We expect to build a model with more independent variables to capture as much signal as possible, with lower prediction error."
   ]
  },
  {
   "cell_type": "markdown",
   "id": "1d2f016d",
   "metadata": {},
   "source": [
    "## First Attempt on Modeling"
   ]
  },
  {
   "cell_type": "markdown",
   "id": "29f1f4e5",
   "metadata": {},
   "source": [
    "The 29 features selected in the EDA process. \n",
    "\n",
    "The continuos features are \"floor_area_sqm\", \"hdb_age\", \"max_floor_lvl\", \"3room_sold\", \"5room_sold\". \n",
    "\n",
    "The encoded variables are \"planning_area_encoded\", \"mrt_name_encoded\", 'flat_type_encoded', 'storey_range_encoded', 'mrt_name_encoded', and 20 one-hot encoded 'flat_model'."
   ]
  },
  {
   "cell_type": "code",
   "execution_count": 13,
   "id": "d183ab19",
   "metadata": {},
   "outputs": [],
   "source": [
    "eda_features = [\"floor_area_sqm\", \"hdb_age\", \"max_floor_lvl\", \"3room_sold\", \"5room_sold\", \"planning_area_encoded\",\n",
    "                  \"mrt_name_encoded\", 'flat_type_encoded', 'storey_range_encoded', 'flat_model_2-room',\n",
    "                  'flat_model_adjoined_flat', 'flat_model_apartment','flat_model_dbss', 'flat_model_improved',\n",
    "                  'flat_model_improved-maisonette', 'flat_model_maisonette', 'flat_model_model_a',\n",
    "                  'flat_model_model_a-maisonette','flat_model_model_a2', 'flat_model_multi_generation',\n",
    "                  'flat_model_new_generation', 'flat_model_premium_apartment','flat_model_premium_apartment_loft',\n",
    "                  'flat_model_premium_maisonette','flat_model_simplified', 'flat_model_standard', 'flat_model_terrace',\n",
    "                  'flat_model_type_s1', 'flat_model_type_s2']"
   ]
  },
  {
   "cell_type": "markdown",
   "id": "f74778a4",
   "metadata": {},
   "source": [
    "##### X and y variables"
   ]
  },
  {
   "cell_type": "code",
   "execution_count": 14,
   "id": "d6f0f6bd",
   "metadata": {},
   "outputs": [],
   "source": [
    "#masking for X variables, to get only interested columns\n",
    "X_train_1 = X_train[eda_features]\n",
    "X_val_1 = X_val[eda_features]"
   ]
  },
  {
   "cell_type": "code",
   "execution_count": 15,
   "id": "f118bb8e",
   "metadata": {},
   "outputs": [
    {
     "data": {
      "text/plain": [
       "(112975, 29)"
      ]
     },
     "execution_count": 15,
     "metadata": {},
     "output_type": "execute_result"
    }
   ],
   "source": [
    "X_train_1.shape"
   ]
  },
  {
   "cell_type": "markdown",
   "id": "04cb9c82",
   "metadata": {},
   "source": [
    "##### Linear Regression, Ridge Regression and Lasso Regression "
   ]
  },
  {
   "cell_type": "code",
   "execution_count": 16,
   "id": "63baa0c9",
   "metadata": {},
   "outputs": [],
   "source": [
    "#linear regression\n",
    "#not dropping one of the one-hot encoded column as the multicollinearity effect can be captured by regularization model\n",
    "lr = LinearRegression()\n",
    "lr.fit(X_train_1, y_train)\n",
    "lr_y_pred = lr.predict(X_val_1)\n",
    "\n",
    "#ridge regression\n",
    "ridge = RidgeCV(alphas=(0.1,50,1000))\n",
    "ridge.fit(X_train_1, y_train)\n",
    "ridge_y_pred = ridge.predict(X_val_1)\n",
    "\n",
    "#lasso regression\n",
    "lasso = LassoCV(n_alphas=200, cv=5, max_iter=50000)\n",
    "lasso.fit(X_train_1, y_train)\n",
    "lasso_y_pred = lasso.predict(X_val_1)"
   ]
  },
  {
   "cell_type": "markdown",
   "id": "1354f00e",
   "metadata": {},
   "source": [
    "##### Intercept Terms and Coefficients"
   ]
  },
  {
   "cell_type": "code",
   "execution_count": 17,
   "id": "64c59139",
   "metadata": {},
   "outputs": [
    {
     "name": "stdout",
     "output_type": "stream",
     "text": [
      "OLS intercept: 459571.8982 \n",
      "\n",
      "flat_model_terrace                   343385.525120\n",
      "flat_model_improved-maisonette       125766.336130\n",
      "flat_model_dbss                       95736.335062\n",
      "flat_model_model_a-maisonette         78824.871975\n",
      "floor_area_sqm                        76151.654535\n",
      "flat_model_multi_generation           51787.726276\n",
      "flat_model_premium_apartment_loft     47789.071185\n",
      "flat_model_adjoined_flat              44559.011720\n",
      "max_floor_lvl                         43961.186508\n",
      "flat_model_premium_maisonette         41290.985666\n",
      "mrt_name_encoded                      25062.279580\n",
      "planning_area_encoded                 24457.880471\n",
      "flat_type_encoded                     13977.181510\n",
      "storey_range_encoded                  11335.058608\n",
      "3room_sold                            -6004.400766\n",
      "hdb_age                               -8999.001906\n",
      "5room_sold                           -10300.971092\n",
      "flat_model_maisonette                -11542.329677\n",
      "flat_model_type_s2                   -15184.358032\n",
      "flat_model_new_generation            -38234.939518\n",
      "flat_model_standard                  -41749.225964\n",
      "flat_model_simplified                -50157.679752\n",
      "flat_model_apartment                 -63889.044484\n",
      "flat_model_improved                  -74694.280188\n",
      "flat_model_model_a                   -82638.107054\n",
      "flat_model_type_s1                   -85802.588199\n",
      "flat_model_premium_apartment         -90967.521060\n",
      "flat_model_model_a2                 -112597.430617\n",
      "flat_model_2-room                   -161682.358591\n",
      "dtype: float64\n",
      "\n",
      "\n",
      "Ridge intercept: 459880.4887 \n",
      "\n",
      "flat_model_terrace                   342585.420654\n",
      "flat_model_improved-maisonette       124638.959243\n",
      "flat_model_dbss                       95444.637465\n",
      "flat_model_model_a-maisonette         78488.865644\n",
      "floor_area_sqm                        76159.480197\n",
      "flat_model_multi_generation           51378.088499\n",
      "flat_model_premium_apartment_loft     47361.120692\n",
      "flat_model_adjoined_flat              44239.016862\n",
      "max_floor_lvl                         43960.246313\n",
      "flat_model_premium_maisonette         40656.015911\n",
      "mrt_name_encoded                      25063.627498\n",
      "planning_area_encoded                 24456.708711\n",
      "flat_type_encoded                     13970.583095\n",
      "storey_range_encoded                  11335.159414\n",
      "3room_sold                            -6003.857573\n",
      "hdb_age                               -8998.554266\n",
      "5room_sold                           -10301.268318\n",
      "flat_model_maisonette                -11834.448303\n",
      "flat_model_type_s2                   -15447.124933\n",
      "flat_model_new_generation            -38523.242883\n",
      "flat_model_standard                  -42034.148322\n",
      "flat_model_simplified                -50442.456072\n",
      "flat_model_apartment                 -64178.261899\n",
      "flat_model_improved                  -74981.639370\n",
      "flat_model_model_a                   -82926.736500\n",
      "flat_model_type_s1                   -86038.734362\n",
      "flat_model_premium_apartment         -91253.393724\n",
      "flat_model_model_a2                 -112876.386531\n",
      "flat_model_2-room                   -154255.552071\n",
      "dtype: float64\n",
      "\n",
      "\n",
      "Lasso intercept: 431790.3764 \n",
      "\n",
      "flat_model_terrace                   221957.523653\n",
      "flat_model_dbss                      128665.962379\n",
      "floor_area_sqm                        80984.297920\n",
      "flat_model_model_a-maisonette         59711.814964\n",
      "max_floor_lvl                         43709.396645\n",
      "mrt_name_encoded                      25457.429649\n",
      "planning_area_encoded                 23998.812023\n",
      "flat_model_maisonette                 22366.066330\n",
      "flat_model_adjoined_flat              22107.431997\n",
      "storey_range_encoded                  11316.066266\n",
      "flat_type_encoded                     10193.194501\n",
      "flat_model_new_generation               473.478538\n",
      "flat_model_standard                      -0.000000\n",
      "flat_model_premium_maisonette             0.000000\n",
      "flat_model_premium_apartment_loft         0.000000\n",
      "flat_model_type_s1                       -0.000000\n",
      "flat_model_multi_generation               0.000000\n",
      "flat_model_improved-maisonette            0.000000\n",
      "flat_model_2-room                        -0.000000\n",
      "flat_model_type_s2                        0.000000\n",
      "3room_sold                            -4968.640283\n",
      "flat_model_simplified                 -6528.894481\n",
      "hdb_age                               -8713.539753\n",
      "5room_sold                           -10188.105879\n",
      "flat_model_apartment                 -23400.240276\n",
      "flat_model_improved                  -34795.453891\n",
      "flat_model_model_a                   -42945.655546\n",
      "flat_model_premium_apartment         -49493.048132\n",
      "flat_model_model_a2                  -64324.957510\n",
      "dtype: float64\n"
     ]
    }
   ],
   "source": [
    "#linear regression\n",
    "# intercept term\n",
    "print(f'OLS intercept: {lr.intercept_:.4f} \\n')\n",
    "# coefficients\n",
    "print(pd.Series(lr.coef_, index=X_val_1.columns).sort_values(ascending=False))\n",
    "\n",
    "print(\"\\n\")\n",
    "\n",
    "#ridge regression\n",
    "# intercept term\n",
    "print(f'Ridge intercept: {ridge.intercept_:.4f} \\n')\n",
    "# coefficients\n",
    "print(pd.Series(ridge.coef_, index=X_val_1.columns).sort_values(ascending=False))\n",
    "\n",
    "print(\"\\n\")\n",
    "\n",
    "#lasso regression\n",
    "# intercept term\n",
    "print(f'Lasso intercept: {lasso.intercept_:.4f} \\n')\n",
    "# coefficients\n",
    "print(pd.Series(lasso.coef_, index=X_val_1.columns).sort_values(ascending=False))"
   ]
  },
  {
   "cell_type": "markdown",
   "id": "52c9b796",
   "metadata": {},
   "source": [
    "Lasso regression shrinks 8 regression coefficients toward zero by penalizing the regression model with a penalty term called L1-norm. All of them are one-hot encoded variables. "
   ]
  },
  {
   "cell_type": "markdown",
   "id": "67df1986",
   "metadata": {},
   "source": [
    "##### Evaluation: R2 score"
   ]
  },
  {
   "cell_type": "code",
   "execution_count": 18,
   "id": "1d2e795e",
   "metadata": {},
   "outputs": [
    {
     "name": "stdout",
     "output_type": "stream",
     "text": [
      "Linear Regression:\n",
      "\n",
      "R2 score for training set: 0.7736\n",
      "R2 score for validation set: 0.7748\n",
      "Cross Val Score: 0.7734\n",
      "\n",
      "\n",
      "Ridge Regression:\n",
      "\n",
      "R2 score for training set: 0.7736\n",
      "R2 score for validation set: 0.7748\n",
      "Cross Val Score: 0.7734\n",
      "\n",
      "\n",
      "Lasso Regression:\n",
      "\n",
      "R2 score for training set: 0.7715\n",
      "R2 score for validation set: 0.7724\n",
      "Cross Val Score: 0.7713\n"
     ]
    }
   ],
   "source": [
    "#linear regression\n",
    "print(\"Linear Regression:\\n\")\n",
    "print(f'R2 score for training set: {lr.score(X_train_1, y_train):.4f}')\n",
    "print(f'R2 score for validation set: {lr.score(X_val_1, y_val):.4f}')\n",
    "print(f'Cross Val Score: {cross_val_score(lr, X_train_1, y_train, cv=5).mean():.4f}')\n",
    "\n",
    "print(\"\\n\")\n",
    "\n",
    "#ridge regression\n",
    "print(\"Ridge Regression:\\n\")\n",
    "print(f'R2 score for training set: {ridge.score(X_train_1, y_train):.4f}')\n",
    "print(f'R2 score for validation set: {ridge.score(X_val_1, y_val):.4f}')\n",
    "print(f'Cross Val Score: {cross_val_score(ridge, X_train_1, y_train, cv=5).mean():.4f}')\n",
    "\n",
    "print(\"\\n\")\n",
    "\n",
    "#lasso regression \n",
    "print(\"Lasso Regression:\\n\")\n",
    "print(f'R2 score for training set: {lasso.score(X_train_1, y_train):.4f}')\n",
    "print(f'R2 score for validation set: {lasso.score(X_val_1, y_val):.4f}')\n",
    "print(f'Cross Val Score: {cross_val_score(lasso, X_train_1, y_train, cv=5).mean():.4f}')"
   ]
  },
  {
   "cell_type": "markdown",
   "id": "3b51a361",
   "metadata": {},
   "source": [
    "No overfitting in these three models. The score means that x variables explain 77% of variation of target variable. Since R2 Score for validation set are similar to Cross Val Score, it means this is a representative test set, no sampling error issue. \n",
    "\n",
    "\n",
    "The best model should be the one with highest Cross Val Score, which is Ridge Regression. This is a better model comparing to baseline model. Since Lasso tends to outperformed only if there are a small number of significant parameters and Ridge works well if there are many large parameters of about the same value, it can be concluded that most of the variables included in this model are significant.\n",
    "\n",
    "The influential variables are those with higher coefficient, with flat_model_terrace, flat_model_2-room, flat_model_improved-maisonette, flat_model_model_a2, flat_model_dbss being the top five important in Ridge regression. Since all of them are flat model, we have high confidence to claim that flat model afect the resale price the most. This is followed by floor area, max floor lvl, nearest mrt name, planning area and flat types."
   ]
  },
  {
   "cell_type": "markdown",
   "id": "027bbfe9",
   "metadata": {},
   "source": [
    "##### Evaluation: RMSE"
   ]
  },
  {
   "cell_type": "code",
   "execution_count": 19,
   "id": "42351bf9",
   "metadata": {},
   "outputs": [
    {
     "name": "stdout",
     "output_type": "stream",
     "text": [
      "Linear Regression:\n",
      "RMSE for training set: 68183.82362872202\n",
      "RMSE for validation set: 68033.3656890765\n",
      "Cross Val Score: 68205.74295935957\n",
      "\n",
      "\n",
      "Ridge Regression:\n",
      "RMSE for training set: 68183.8334\n",
      "RMSE for validation set: 68033.1171\n",
      "Cross Val Score: 68205.5797\n",
      "\n",
      "\n",
      "Lasso Regression:\n",
      "RMSE for training set: 68498.7809\n",
      "RMSE for validation set: 68397.6579\n",
      "Cross Val Score: 68520.5629\n"
     ]
    }
   ],
   "source": [
    "#linear regression\n",
    "print(\"Linear Regression:\")\n",
    "print(f'RMSE for training set: {metrics.mean_squared_error(y_train, lr.predict(X_train_1), squared=False)}')\n",
    "print(f'RMSE for validation set: {metrics.mean_squared_error(y_val, lr.predict(X_val_1), squared=False)}')\n",
    "print(f'Cross Val Score: {cross_val_score(lr, X_train_1, y_train, cv=5, scoring=\"neg_root_mean_squared_error\").mean()*-1}')\n",
    "\n",
    "print(\"\\n\")\n",
    "\n",
    "#ridge regression\n",
    "print(\"Ridge Regression:\")\n",
    "print(f'RMSE for training set: {metrics.mean_squared_error(y_train, ridge.predict(X_train_1), squared=False):.4f}')\n",
    "print(f'RMSE for validation set: {metrics.mean_squared_error(y_val, ridge.predict(X_val_1), squared=False):.4f}')\n",
    "print(f'Cross Val Score: {cross_val_score(ridge, X_train_1, y_train, cv=5, scoring=\"neg_root_mean_squared_error\").mean()*-1:.4f}')\n",
    "\n",
    "print(\"\\n\")\n",
    "\n",
    "#lasso regression\n",
    "print(\"Lasso Regression:\")\n",
    "print(f'RMSE for training set: {metrics.mean_squared_error(y_train, lasso.predict(X_train_1), squared=False):.4f}')\n",
    "print(f'RMSE for validation set: {metrics.mean_squared_error(y_val, lasso.predict(X_val_1), squared=False):.4f}')\n",
    "print(f'Cross Val Score: {cross_val_score(lasso, X_train_1, y_train, cv=5, scoring=\"neg_root_mean_squared_error\").mean()*-1:.4f}')"
   ]
  },
  {
   "cell_type": "markdown",
   "id": "16ca47aa",
   "metadata": {},
   "source": [
    "The average distance/error in terms of resale price prediction $68k. The best model will be the model with lowest RMSE, which is Ridge Regression in this case. The prediction power is significantly improved from the baseline model."
   ]
  },
  {
   "cell_type": "markdown",
   "id": "e84b69e9",
   "metadata": {},
   "source": [
    "## Second Attempt on Modeling"
   ]
  },
  {
   "cell_type": "markdown",
   "id": "8220f152",
   "metadata": {},
   "source": [
    "As the R2 score for three models in first attempts are similar and no overfitting shown, we could try to improve the the prediction power by adding more variables, with goal to be above 80%. K-best feature selection with k=15 is used. \n",
    "\n",
    "The features included the same encoded variables as the first model, which are \"planning_area_encoded\", \"mrt_name_encoded\", 'flat_type_encoded', 'storey_range_encoded', 'mrt_name_encoded', and 20 one-hot encoded 'flat_model'.\n",
    "\n",
    "Kbest is applied on continuos features only, using f-regression method."
   ]
  },
  {
   "cell_type": "code",
   "execution_count": 20,
   "id": "57f4cf0a",
   "metadata": {},
   "outputs": [],
   "source": [
    "encoded_features = [\"planning_area_encoded\",\"mrt_name_encoded\", 'flat_type_encoded', 'storey_range_encoded',\n",
    "                    'flat_model_2-room','flat_model_adjoined_flat', 'flat_model_apartment','flat_model_dbss',\n",
    "                    'flat_model_improved','flat_model_improved-maisonette', 'flat_model_maisonette',\n",
    "                    'flat_model_model_a','flat_model_model_a-maisonette','flat_model_model_a2',\n",
    "                    'flat_model_multi_generation','flat_model_new_generation', 'flat_model_premium_apartment',\n",
    "                    'flat_model_premium_apartment_loft','flat_model_premium_maisonette','flat_model_simplified',\n",
    "                    'flat_model_standard', 'flat_model_terrace','flat_model_type_s1', 'flat_model_type_s2']\n",
    "\n",
    "#'lower', 'upper', 'mid' are removed because they are encoded in 'flat_type_encoded'\n",
    "#'floor_area_sqft' is removed as it is same as 'floor_area_sqm'\n",
    "#'lease_commence_date' and 'year_completed' are removed because it is similar to 'hdb_age'\n",
    "# binary, one hot encoded and target encoded variables are removed as well\n",
    "\n",
    "continuos_features = ['floor_area_sqm', 'tranc_year', 'tranc_month', 'hdb_age', 'max_floor_lvl', \n",
    "                      'total_dwelling_units', '1room_sold', '2room_sold', '3room_sold',\n",
    "                      '4room_sold', '5room_sold', 'exec_sold','multigen_sold', 'studio_apartment_sold',\n",
    "                      '1room_rental', '2room_rental','3room_rental', 'other_room_rental', 'latitude',\n",
    "                      'longitude','mall_within_500m', 'mall_within_1km', 'mall_within_2km',\n",
    "                      'hawker_nearest_distance', 'hawker_within_500m','hawker_within_1km',\n",
    "                      'hawker_within_2km', 'hawker_food_stalls', 'hawker_market_stalls',\n",
    "                      'mrt_nearest_distance', 'bus_interchange', 'mrt_interchange', 'mrt_latitude',\n",
    "                      'mrt_longitude', 'bus_stop_nearest_distance', 'bus_stop_latitude', 'bus_stop_longitude',\n",
    "                      'pri_sch_nearest_distance', 'vacancy','pri_sch_latitude', 'pri_sch_longitude',\n",
    "                      'sec_sch_nearest_dist', 'cutoff_point', 'sec_sch_latitude', 'sec_sch_longitude']"
   ]
  },
  {
   "cell_type": "markdown",
   "id": "718cd55f",
   "metadata": {},
   "source": [
    "##### K-best Feature Selection, k=15"
   ]
  },
  {
   "cell_type": "code",
   "execution_count": 21,
   "id": "133f30a1",
   "metadata": {},
   "outputs": [
    {
     "data": {
      "text/plain": [
       "['floor_area_sqm',\n",
       " 'hdb_age',\n",
       " 'max_floor_lvl',\n",
       " 'total_dwelling_units',\n",
       " '2room_sold',\n",
       " '3room_sold',\n",
       " '5room_sold',\n",
       " 'exec_sold',\n",
       " 'latitude',\n",
       " 'hawker_within_2km',\n",
       " 'mrt_nearest_distance',\n",
       " 'mrt_latitude',\n",
       " 'bus_stop_latitude',\n",
       " 'pri_sch_latitude',\n",
       " 'sec_sch_latitude']"
      ]
     },
     "execution_count": 21,
     "metadata": {},
     "output_type": "execute_result"
    }
   ],
   "source": [
    "#initiate with f-reg method and k=15\n",
    "select = SelectKBest(score_func=f_regression, k=15)\n",
    "\n",
    "#fit and transform all the continuos variables\n",
    "k_fit = select.fit(X_train[continuos_features], y_train)\n",
    "k_transform = k_fit.transform(X_train[continuos_features])\n",
    "\n",
    "#dataframe created to find best features among all the continuos variabes\n",
    "kept_features = pd.DataFrame({'columns': X_train[continuos_features].columns,\n",
    "                              'Kept': k_fit.get_support()})\n",
    "kept_features = kept_features[kept_features[\"Kept\"] == True][\"columns\"].tolist() \n",
    "\n",
    "#the 15 best continuos features\n",
    "kept_features"
   ]
  },
  {
   "cell_type": "markdown",
   "id": "e0b18de7",
   "metadata": {},
   "source": [
    "##### X and y variables"
   ]
  },
  {
   "cell_type": "code",
   "execution_count": 22,
   "id": "23b3b19e",
   "metadata": {},
   "outputs": [],
   "source": [
    "#combine 15 continuos features and the fixed/same categorical variables\n",
    "\n",
    "X_train_2 = pd.concat([X_train[kept_features], X_train[encoded_features]], axis=1)\n",
    "X_val_2 = pd.concat([X_val[kept_features], X_val[encoded_features]], axis=1)"
   ]
  },
  {
   "cell_type": "code",
   "execution_count": 23,
   "id": "d81e9a5a",
   "metadata": {},
   "outputs": [
    {
     "data": {
      "text/plain": [
       "(112975, 39)"
      ]
     },
     "execution_count": 23,
     "metadata": {},
     "output_type": "execute_result"
    }
   ],
   "source": [
    "#shape\n",
    "X_train_2.shape"
   ]
  },
  {
   "cell_type": "markdown",
   "id": "88899805",
   "metadata": {},
   "source": [
    "##### Linear Regression, Ridge Regression and Lasso Regression "
   ]
  },
  {
   "cell_type": "code",
   "execution_count": 24,
   "id": "dc17b576",
   "metadata": {},
   "outputs": [],
   "source": [
    "#linear regression\n",
    "lr = LinearRegression()\n",
    "lr.fit(X_train_2, y_train)\n",
    "lr_y_pred = lr.predict(X_val_2)\n",
    "\n",
    "#ridge regression\n",
    "ridge = RidgeCV(alphas=(0.1,50,1000))\n",
    "ridge.fit(X_train_2, y_train)\n",
    "ridge_y_pred = ridge.predict(X_val_2)\n",
    "\n",
    "#lasso regression\n",
    "lasso = LassoCV(n_alphas=200, cv=5, max_iter=50000)\n",
    "lasso.fit(X_train_2, y_train)\n",
    "lasso_y_pred = lasso.predict(X_val_2)"
   ]
  },
  {
   "cell_type": "markdown",
   "id": "ffe13fd3",
   "metadata": {},
   "source": [
    "##### Intercept Terms and Coefficients"
   ]
  },
  {
   "cell_type": "code",
   "execution_count": 25,
   "id": "846f8707",
   "metadata": {
    "scrolled": false
   },
   "outputs": [
    {
     "name": "stdout",
     "output_type": "stream",
     "text": [
      "OLS intercept: 456457.3249 \n",
      "\n",
      "flat_model_terrace                   300421.265942\n",
      "flat_model_improved-maisonette       103105.402969\n",
      "floor_area_sqm                        80471.429417\n",
      "flat_model_dbss                       69518.626934\n",
      "mrt_latitude                          45567.710593\n",
      "flat_model_multi_generation           42208.278969\n",
      "flat_model_model_a-maisonette         37673.339614\n",
      "flat_model_premium_maisonette         36708.796601\n",
      "max_floor_lvl                         30358.164956\n",
      "hawker_within_2km                     29013.825516\n",
      "flat_model_premium_apartment_loft     23729.207462\n",
      "bus_stop_latitude                     23242.849468\n",
      "flat_model_adjoined_flat              19192.390459\n",
      "flat_model_type_s2                    17711.156803\n",
      "planning_area_encoded                 16883.376513\n",
      "flat_type_encoded                     14673.565742\n",
      "mrt_name_encoded                      13250.666892\n",
      "storey_range_encoded                  12329.081531\n",
      "flat_model_maisonette                  8993.902949\n",
      "2room_sold                            -2728.917287\n",
      "3room_sold                            -3832.082613\n",
      "total_dwelling_units                  -3963.541803\n",
      "exec_sold                             -7589.870895\n",
      "5room_sold                            -7905.692463\n",
      "mrt_nearest_distance                 -19134.364552\n",
      "latitude                             -21236.628134\n",
      "sec_sch_latitude                     -30541.767900\n",
      "hdb_age                              -31000.680470\n",
      "pri_sch_latitude                     -33050.973281\n",
      "flat_model_apartment                 -38329.615462\n",
      "flat_model_simplified                -46685.346434\n",
      "flat_model_type_s1                   -49742.419982\n",
      "flat_model_new_generation            -50882.526975\n",
      "flat_model_standard                  -59977.975635\n",
      "flat_model_improved                  -77604.185090\n",
      "flat_model_2-room                    -78356.934912\n",
      "flat_model_premium_apartment         -79183.474375\n",
      "flat_model_model_a                   -81629.628846\n",
      "flat_model_model_a2                  -96870.260993\n",
      "dtype: float64\n",
      "\n",
      "\n",
      "Ridge intercept: 456580.9478 \n",
      "\n",
      "flat_model_terrace                   299864.984867\n",
      "flat_model_improved-maisonette       102307.436485\n",
      "floor_area_sqm                        80478.054618\n",
      "flat_model_dbss                       69410.289974\n",
      "mrt_latitude                          45565.759593\n",
      "flat_model_multi_generation           42004.217003\n",
      "flat_model_model_a-maisonette         37542.709711\n",
      "flat_model_premium_maisonette         36293.946284\n",
      "max_floor_lvl                         30357.457409\n",
      "hawker_within_2km                     29014.868440\n",
      "flat_model_premium_apartment_loft     23554.787891\n",
      "bus_stop_latitude                     23121.961602\n",
      "flat_model_adjoined_flat              19070.201561\n",
      "flat_model_type_s2                    17595.000390\n",
      "planning_area_encoded                 16882.175269\n",
      "flat_type_encoded                     14667.643615\n",
      "mrt_name_encoded                      13251.656477\n",
      "storey_range_encoded                  12329.119042\n",
      "flat_model_maisonette                  8885.207520\n",
      "2room_sold                            -2728.868712\n",
      "3room_sold                            -3831.440232\n",
      "total_dwelling_units                  -3964.307111\n",
      "exec_sold                             -7589.806142\n",
      "5room_sold                            -7905.798049\n",
      "mrt_nearest_distance                 -19134.111667\n",
      "latitude                             -21110.917679\n",
      "sec_sch_latitude                     -30543.082899\n",
      "hdb_age                              -31000.946456\n",
      "pri_sch_latitude                     -33052.990342\n",
      "flat_model_apartment                 -38435.629716\n",
      "flat_model_simplified                -46787.377832\n",
      "flat_model_type_s1                   -49815.802070\n",
      "flat_model_new_generation            -50987.868893\n",
      "flat_model_standard                  -60080.795764\n",
      "flat_model_2-room                    -74723.806963\n",
      "flat_model_improved                  -77708.607144\n",
      "flat_model_premium_apartment         -79286.414108\n",
      "flat_model_model_a                   -81735.367796\n",
      "flat_model_model_a2                  -96967.111397\n",
      "dtype: float64\n",
      "\n",
      "\n",
      "Lasso intercept: 425038.4639 \n",
      "\n",
      "flat_model_terrace                   184141.692955\n",
      "flat_model_dbss                      105222.666461\n",
      "floor_area_sqm                        85749.628420\n",
      "flat_model_maisonette                 42016.814673\n",
      "mrt_latitude                          34235.995253\n",
      "max_floor_lvl                         30404.641792\n",
      "hawker_within_2km                     29315.972537\n",
      "flat_model_model_a-maisonette         22856.870339\n",
      "planning_area_encoded                 16494.428890\n",
      "mrt_name_encoded                      13817.548936\n",
      "storey_range_encoded                  12226.381534\n",
      "flat_type_encoded                     10744.185144\n",
      "flat_model_adjoined_flat               1213.638203\n",
      "flat_model_multi_generation               0.000000\n",
      "flat_model_premium_apartment_loft         0.000000\n",
      "flat_model_premium_maisonette             0.000000\n",
      "flat_model_simplified                     0.000000\n",
      "flat_model_improved-maisonette            0.000000\n",
      "flat_model_type_s1                       -0.000000\n",
      "flat_model_apartment                     -0.000000\n",
      "flat_model_2-room                        -0.000000\n",
      "flat_model_type_s2                        0.000000\n",
      "latitude                                 -0.000000\n",
      "bus_stop_latitude                        -0.000000\n",
      "2room_sold                            -2411.739516\n",
      "3room_sold                            -2716.596792\n",
      "total_dwelling_units                  -4206.355132\n",
      "flat_model_new_generation             -5490.010217\n",
      "exec_sold                             -6227.705019\n",
      "5room_sold                            -7814.735309\n",
      "flat_model_standard                  -11197.043698\n",
      "mrt_nearest_distance                 -19005.474525\n",
      "sec_sch_latitude                     -23972.799040\n",
      "pri_sch_latitude                     -26583.968498\n",
      "hdb_age                              -31346.380242\n",
      "flat_model_improved                  -33079.423443\n",
      "flat_model_premium_apartment         -34151.768405\n",
      "flat_model_model_a                   -37680.897501\n",
      "flat_model_model_a2                  -43934.862500\n",
      "dtype: float64\n"
     ]
    }
   ],
   "source": [
    "#linear regression\n",
    "# intercept term\n",
    "print(f'OLS intercept: {lr.intercept_:.4f} \\n')\n",
    "# coefficients\n",
    "print(pd.Series(lr.coef_, index=X_val_2.columns).sort_values(ascending=False))\n",
    "\n",
    "print(\"\\n\")\n",
    "\n",
    "#ridge regression\n",
    "# intercept term\n",
    "print(f'Ridge intercept: {ridge.intercept_:.4f} \\n')\n",
    "# coefficients\n",
    "print(pd.Series(ridge.coef_, index=X_val_2.columns).sort_values(ascending=False))\n",
    "\n",
    "print(\"\\n\")\n",
    "\n",
    "#lasso regression\n",
    "# intercept term\n",
    "print(f'Lasso intercept: {lasso.intercept_:.4f} \\n')\n",
    "# coefficients\n",
    "print(pd.Series(lasso.coef_, index=X_val_2.columns).sort_values(ascending=False))"
   ]
  },
  {
   "cell_type": "markdown",
   "id": "9468df70",
   "metadata": {},
   "source": [
    "Lasso regression shrinks 11 regression coefficients toward zero by penalizing the regression model with a penalty term called L1-norm. 10 of them are one-hot encoded variables. Another is bus_stop_latitude. The reason Lasso model turns them into zero is due to their multicollinearity. By turning some of them into zero, other variables such as floor area, mrt latitude, hdb age and max floor lvl emerge as the powerful variables in resale price determination."
   ]
  },
  {
   "cell_type": "markdown",
   "id": "c971aba1",
   "metadata": {},
   "source": [
    "##### Evaluation: R2 score"
   ]
  },
  {
   "cell_type": "code",
   "execution_count": 26,
   "id": "6dcb0a61",
   "metadata": {},
   "outputs": [
    {
     "name": "stdout",
     "output_type": "stream",
     "text": [
      "Linear Regression:\n",
      "\n",
      "R2 score for training set: 0.8352\n",
      "R2 score for validation set: 0.8347\n",
      "Cross Val Score: 0.8350\n",
      "\n",
      "\n",
      "Ridge Regression:\n",
      "\n",
      "R2 score for training set: 0.8352\n",
      "R2 score for validation set: 0.8347\n",
      "Cross Val Score: 0.8350\n",
      "\n",
      "\n",
      "Lasso Regression:\n",
      "\n",
      "R2 score for training set: 0.8331\n",
      "R2 score for validation set: 0.8325\n",
      "Cross Val Score: 0.8329\n"
     ]
    }
   ],
   "source": [
    "#linear regression\n",
    "print(\"Linear Regression:\\n\")\n",
    "print(f'R2 score for training set: {lr.score(X_train_2, y_train):.4f}')\n",
    "print(f'R2 score for validation set: {lr.score(X_val_2, y_val):.4f}')\n",
    "print(f'Cross Val Score: {cross_val_score(lr, X_train_2, y_train, cv=5).mean():.4f}')\n",
    "\n",
    "print(\"\\n\")\n",
    "\n",
    "#ridge regression\n",
    "print(\"Ridge Regression:\\n\")\n",
    "print(f'R2 score for training set: {ridge.score(X_train_2, y_train):.4f}')\n",
    "print(f'R2 score for validation set: {ridge.score(X_val_2, y_val):.4f}')\n",
    "print(f'Cross Val Score: {cross_val_score(ridge, X_train_2, y_train, cv=5).mean():.4f}')\n",
    "\n",
    "print(\"\\n\")\n",
    "\n",
    "#linear regression\n",
    "print(\"Lasso Regression:\\n\")\n",
    "print(f'R2 score for training set: {lasso.score(X_train_2, y_train):.4f}')\n",
    "print(f'R2 score for validation set: {lasso.score(X_val_2, y_val):.4f}')\n",
    "print(f'Cross Val Score: {cross_val_score(lasso, X_train_2, y_train, cv=5).mean():.4f}')"
   ]
  },
  {
   "cell_type": "markdown",
   "id": "ee934c4a",
   "metadata": {},
   "source": [
    "No overfitting in these three models. The score indicates that 83% of variation of target variable is explained by the independent variables. Since R2 Score for validation set are similar to Cross Val Score, it means this is a representative test set, no sampling error issue. The best model should be the one with highest Cross Val Score, which is Ridge Regression, same as the result from first attempt, but with better prediction power.\n",
    "\n",
    "The k_best method has provided a better score from 77% with 29 independent variables to 83% with additional 10 independent variables. The additional variables are 'total_dwelling_units', '2room_sold', 'exec_sold', 'latitude', 'hawker_within_2km', 'mrt_nearest_distance','mrt_latitude', 'bus_stop_latitude', 'pri_sch_latitude', 'sec_sch_latitude'.\n",
    "\n",
    "The difference for ridge model between first and second attempt is that the top five important variables are [flat_model_terrace, flat_model_improved-maisonette, flat_model_model_a2, flat_model_model_a and floor_area_sqm]. While for first attempt was [flat_model_terrace, flat_model_2-room, flat_model_improved-maisonette, flat_model_model_a2, flat_model_dbss]. \n",
    "\n",
    "Flat model undeniable has the most impact on determination of resale price, and it followed by floor area, mrt latitude, pri sch latitude and hdb age in the attempt. This is different from the order in first attempt: floor area, max floor lvl, nearest mrt name, planning area and flat types. Mrt latitude and pri sch latitude that both have same correlation of -0.21 with resale price emerge to have higher impact than other variables that have higher correlation (shown in heat map), such as number of 3room in the block of resale flat (corr=-0.41), hdb age (corr=-0.35), flat type (corr=0.66) and max floor lvl (corr=0.5)."
   ]
  },
  {
   "cell_type": "markdown",
   "id": "71a026ae",
   "metadata": {},
   "source": [
    "##### Evaluation: RMSE"
   ]
  },
  {
   "cell_type": "code",
   "execution_count": 27,
   "id": "d85447b1",
   "metadata": {},
   "outputs": [
    {
     "name": "stdout",
     "output_type": "stream",
     "text": [
      "Linear Regression:\n",
      "RMSE for training set: 58176.8600\n",
      "RMSE for validation set: 58281.5263\n",
      "Cross Val Score: 58200.7634\n",
      "\n",
      "\n",
      "Ridge Regression:\n",
      "RMSE for training set: 58176.8639\n",
      "RMSE for validation set: 58281.5829\n",
      "Cross Val Score: 58200.6944\n",
      "\n",
      "\n",
      "Lasso Regression:\n",
      "RMSE for training set: 58540.9614\n",
      "RMSE for validation set: 58680.8064\n",
      "Cross Val Score: 58562.0181\n"
     ]
    }
   ],
   "source": [
    "#linear regression\n",
    "print(\"Linear Regression:\")\n",
    "print(f'RMSE for training set: {metrics.mean_squared_error(y_train, lr.predict(X_train_2), squared=False):.4f}')\n",
    "print(f'RMSE for validation set: {metrics.mean_squared_error(y_val, lr.predict(X_val_2), squared=False):.4f}')\n",
    "print(f'Cross Val Score: {cross_val_score(lr, X_train_2, y_train, cv=5, scoring=\"neg_root_mean_squared_error\").mean()*-1:.4f}')\n",
    "\n",
    "print(\"\\n\")\n",
    "\n",
    "#ridge regression\n",
    "print(\"Ridge Regression:\")\n",
    "print(f'RMSE for training set: {metrics.mean_squared_error(y_train, ridge.predict(X_train_2), squared=False):.4f}')\n",
    "print(f'RMSE for validation set: {metrics.mean_squared_error(y_val, ridge.predict(X_val_2), squared=False):.4f}')\n",
    "print(f'Cross Val Score: {cross_val_score(ridge, X_train_2, y_train, cv=5, scoring=\"neg_root_mean_squared_error\").mean()*-1:.4f}')\n",
    "\n",
    "print(\"\\n\")\n",
    "\n",
    "#lasso regression\n",
    "print(\"Lasso Regression:\")\n",
    "print(f'RMSE for training set: {metrics.mean_squared_error(y_train, lasso.predict(X_train_2), squared=False):.4f}')\n",
    "print(f'RMSE for validation set: {metrics.mean_squared_error(y_val, lasso.predict(X_val_2), squared=False):.4f}')\n",
    "print(f'Cross Val Score: {cross_val_score(lasso, X_train_2, y_train, cv=5, scoring=\"neg_root_mean_squared_error\").mean()*-1:.4f}')"
   ]
  },
  {
   "cell_type": "markdown",
   "id": "700822cc",
   "metadata": {},
   "source": [
    "The average distance/error in terms of resale price prediction is 58k SGD. The best model will be the model with lowest RMSE, which is Ridge Regression, same as in first attempt. The prediction power has increased notably by reducing the average error from 100k SGD using baseline model, to 58k SGD using Ridge model with k-best feature selection method."
   ]
  },
  {
   "cell_type": "markdown",
   "id": "61d5e155",
   "metadata": {},
   "source": [
    "##### Most important features in Ridge model"
   ]
  },
  {
   "cell_type": "code",
   "execution_count": 28,
   "id": "a409b0bb",
   "metadata": {},
   "outputs": [
    {
     "data": {
      "image/png": "[encoded data removed]",
      "text/plain": [
       "<Figure size 800x1000 with 1 Axes>"
      ]
     },
     "metadata": {},
     "output_type": "display_data"
    }
   ],
   "source": [
    "# graph to show the importance of variables in Ridge model\n",
    "coef = pd.Series(ridge.coef_, index=X_val_2.columns).sort_values(ascending=False)\n",
    "plt.rcParams['figure.figsize'] = (8.0, 10.0)\n",
    "coef.plot(kind = \"barh\")\n",
    "plt.title(\"Feature importance using Ridge Model\");"
   ]
  },
  {
   "cell_type": "markdown",
   "id": "774ca163",
   "metadata": {},
   "source": [
    "Flat model is the most influential variables in determination of resale price. Among the model, hdb terrace stand out to be the first that has highest sensitivity to the resale price. Hdb terrace was last built in the 1960s, with 99 year lease. It is a landed properties with a backyard, hence with a bigger built up area. The reason terrace flat model is sensitive to resale price are firstly, this is a rare model landed property that has much reasonable price compared to private landed house. Secondly, buyers could be looking for an en bloc windfall (Property Guru Editorial Team, 2021). However, Ryan (2021) highlighted that the hdb terrace might have higher depreciation rate as it near the last 20-30 year lease, mainly due to financing issue. Hence, it is worth noting that the prediction power of resale price for this flat model in the future might turn weaker.\n",
    "\n",
    "Larger and rare flats in general associated with higher selling price. This is supported by article written by Property Guru Editorial Team (2022) that rare type of resale flat, such as an HDB maisonette or jumbo flat are highly in demand as it is not in production anymore. \n",
    "\n",
    "Ridge model shows a large coefficient positively related between mrt and resale price, and a large coefficient negatively related between pri sch and resale price. The plot below clearly shows the location of the different latitudes in Singapore. The larger the mrt latitude, towards the cluster at the north region, the higher resale price we can expect. This means that the higher resale price in north region is mainly due to the variable mrt. This could probably explained by Eugenia (2020) article that those regions with less accessibility tend to have greater appreciation with the opening of new mrt. Comparing to central region which are already high priced due to its prime location and better serviced by more bus routes and mrt stations, resale price in central region will have lower impact by the nearby mrt. The higher resale price is represented by darker color intensity. Therefore, the reason central region has higher resale price must be due to other variables.\n",
    "\n",
    "Whereas the smaller the pri and sec school latitude, which is closer to the area around the singapore central region, the higher the resale price. There is no article or evidence to show the reason behind this, it could be explored further in other analysis.\n",
    "\n",
    "The 10 mrt names, pri and sec school names that have the highest impact on resale price of nearby flat are listed for reference.\n",
    "\n",
    "\n",
    "<font size = 2> Eugenia, L. (2020). How Does Distance to MRT Affect Property Prices in Singapore? Retrieved from https://www.propertyguru.com.sg/property-guides/mrt-effect-on-property-prices-39498\n",
    "<font size = 2> Property Guru Editorial Team. (2021). HDB terrace houses: 6 of thesepublic landed properties under 1 million. Retrieved from https://www.propertyguru.com.sg/property-guides/cheap-hdb-terrace-house-under-850k-35237 \\\n",
    "<font size = 2>Property Guru Editorial Team. (2022). 3 Top Factors Affecting HDB Valuation in Singapore: What HDB Resale Buyers Need to Know. Retrieved from https://www.propertyguru.com.sg/property-guides/hdb-valuation-sales-12882 \\\n",
    "<font size = 2>Ryan. (2021). HDB landed terrace houses: 5 factors you must consider before buying one. Retrieved from https://stackedhomes.com/editorial/hdb-landed-terrace-houses-5-factors-you-must-consider-before-buying-one/#gs.qukkha "
   ]
  },
  {
   "cell_type": "code",
   "execution_count": 29,
   "id": "f2400dc5",
   "metadata": {},
   "outputs": [],
   "source": [
    "#groupby mrt, pri sch and sec school latitude with resale price\n",
    "mrt_price = hdb.groupby([\"mrt_latitude\", \"mrt_longitude\"])[[\"resale_price\"]].median().sort_values(by=\"resale_price\").reset_index()\n",
    "pri_sch_price = hdb.groupby([\"pri_sch_latitude\", \"pri_sch_longitude\"])[[\"resale_price\"]].median().sort_values(by=\"resale_price\").reset_index()\n",
    "sec_sch_price = hdb.groupby([\"sec_sch_latitude\", \"sec_sch_longitude\"])[[\"resale_price\"]].median().sort_values(by=\"resale_price\").reset_index()"
   ]
  },
  {
   "cell_type": "code",
   "execution_count": 30,
   "id": "d9ac46db",
   "metadata": {},
   "outputs": [
    {
     "data": {
      "image/png": "[encoded data removed]",
      "text/plain": [
       "<Figure size 1000x500 with 1 Axes>"
      ]
     },
     "metadata": {},
     "output_type": "display_data"
    }
   ],
   "source": [
    "#scatter plot to have a sense of direction in terms of latitude\n",
    "# and to analyse the resale price from low to high (darker color)\n",
    "\n",
    "plt.figure(figsize=(10,5))\n",
    "plt.scatter(x=mrt_price[\"mrt_longitude\"], y=mrt_price[\"mrt_latitude\"], c=mrt_price[\"resale_price\"],\n",
    "            cmap=\"Greys\", marker='o', label=\"mrt (grey)\")\n",
    "plt.scatter(x=pri_sch_price['pri_sch_longitude'], y=pri_sch_price['pri_sch_latitude'], c=pri_sch_price[\"resale_price\"],\n",
    "            cmap=\"Greens\", marker=\"o\", label=\"pri sch (green)\")\n",
    "plt.scatter(x=sec_sch_price['sec_sch_longitude'], y=sec_sch_price['sec_sch_latitude'], c=sec_sch_price[\"resale_price\"],\n",
    "            cmap=\"Reds\", marker=\"o\", label=\"sec sch (red)\")\n",
    "plt.xlabel(\"Longitude\")\n",
    "plt.ylabel(\"Latitude\")\n",
    "plt.legend()\n",
    "plt.grid(alpha=0.5)\n",
    "plt.show();"
   ]
  },
  {
   "cell_type": "code",
   "execution_count": 31,
   "id": "87ffb37b",
   "metadata": {
    "scrolled": true
   },
   "outputs": [
    {
     "data": {
      "text/plain": [
       "mrt_name\n",
       "Woodlands North    [1.4490567019999998]\n",
       "Sembawang                 [1.448927331]\n",
       "Canberra                  [1.443076641]\n",
       "Admiralty          [1.4403433719999998]\n",
       "Woodlands                 [1.437094408]\n",
       "Marsiling                  [1.43275723]\n",
       "Yishun                     [1.42940145]\n",
       "Woodlands South           [1.427636527]\n",
       "Khatib                    [1.417130546]\n",
       "Punggol                   [1.405156551]\n",
       "Name: mrt_latitude, dtype: object"
      ]
     },
     "execution_count": 31,
     "metadata": {},
     "output_type": "execute_result"
    }
   ],
   "source": [
    "# higher resale price for flat with the 10 nearest mrt \n",
    "hdb.groupby(\"mrt_name\")[\"mrt_latitude\"].unique().sort_values(ascending=False).head(10)"
   ]
  },
  {
   "cell_type": "code",
   "execution_count": 32,
   "id": "734df5c2",
   "metadata": {
    "scrolled": false
   },
   "outputs": [
    {
     "data": {
      "text/plain": [
       "pri_sch_name\n",
       "Radin Mas Primary School       [1.274961612]\n",
       "Cantonment Primary School      [1.275505441]\n",
       "CHIJ                           [1.276029248]\n",
       "Blangah Rise Primary School    [1.276130304]\n",
       "Zhangde Primary School          [1.28449822]\n",
       "Gan Eng Seng Primary School    [1.285955393]\n",
       "Alexandra Primary School       [1.291299035]\n",
       "River Valley Primary School    [1.294183475]\n",
       "Queenstown Primary School      [1.295988446]\n",
       "New Town Primary School        [1.299811388]\n",
       "Name: pri_sch_latitude, dtype: object"
      ]
     },
     "execution_count": 32,
     "metadata": {},
     "output_type": "execute_result"
    }
   ],
   "source": [
    "# higher resale price for flat around the 10 primary schools\n",
    "hdb.groupby(\"pri_sch_name\")[\"pri_sch_latitude\"].unique().sort_values().head(10)"
   ]
  },
  {
   "cell_type": "code",
   "execution_count": 33,
   "id": "3ce2e3b0",
   "metadata": {},
   "outputs": [
    {
     "data": {
      "text/plain": [
       "sec_sch_name\n",
       "CHIJ Saint Theresa's Convent           [1.276029248]\n",
       "Bukit Merah Secondary School           [1.285751537]\n",
       "Outram Secondary School                [1.286387486]\n",
       "Gan Eng Seng School                    [1.289071145]\n",
       "Crescent Girls' School                 [1.293305114]\n",
       "Queenstown Secondary School     [1.2935332940000002]\n",
       "Raffles Girls' School                  [1.295013834]\n",
       "Dunman High School                     [1.299125304]\n",
       "Queensway Secondary School             [1.300475167]\n",
       "Kent Ridge Secondary School            [1.301352887]\n",
       "Name: sec_sch_latitude, dtype: object"
      ]
     },
     "execution_count": 33,
     "metadata": {},
     "output_type": "execute_result"
    }
   ],
   "source": [
    "# higher resale price for flat around the 10 secondary schools\n",
    "hdb.groupby(\"sec_sch_name\")[\"sec_sch_latitude\"].unique().sort_values().head(10)"
   ]
  },
  {
   "cell_type": "markdown",
   "id": "35b5160e",
   "metadata": {},
   "source": [
    "# [CLICK TO CONCLUSION](#CONCLUSION)"
   ]
  },
  {
   "cell_type": "markdown",
   "id": "c56b8ba1",
   "metadata": {},
   "source": [
    "# PLEASE IGNORE THIS PART BELOW AND SKIP TO CONCLUSION "
   ]
  },
  {
   "cell_type": "markdown",
   "id": "0a9c1a43",
   "metadata": {},
   "source": [
    "## Third Attempt on Modeling (Blindly fit in 50 continuos variables + encoded v.)"
   ]
  },
  {
   "cell_type": "markdown",
   "id": "b3412d6f",
   "metadata": {},
   "source": [
    "Polynomial features included all the continuos variables and target encoded variables. Those features are in the list of [scaling features], and data selected must have original scale before combining the different features."
   ]
  },
  {
   "cell_type": "code",
   "execution_count": 34,
   "id": "8575d9e2",
   "metadata": {},
   "outputs": [],
   "source": [
    "# #instantiate polynomial \n",
    "# poly = PolynomialFeatures(degree=2, interaction_only=False, include_bias=False)\n",
    "\n",
    "# #fit and transform features that can be scaled later\n",
    "# X_poly = poly.fit_transform(hdb[scaling_features])\n",
    "\n",
    "# #new dataframe created to incorporate all the new features created\n",
    "# hdb_and_polynomial = pd.DataFrame(X_poly, columns=poly.get_feature_names_out(scaling_features))\n",
    "\n",
    "# #shape of new dataframe\n",
    "# hdb_and_polynomial.shape"
   ]
  },
  {
   "cell_type": "code",
   "execution_count": 35,
   "id": "d3c8b22f",
   "metadata": {},
   "outputs": [],
   "source": [
    "# # difference for column before and after creating new features\n",
    "# hdb_and_polynomial.shape[1] - hdb[scaling_features].shape[1]"
   ]
  },
  {
   "cell_type": "code",
   "execution_count": 36,
   "id": "eb13484b",
   "metadata": {},
   "outputs": [],
   "source": [
    "# #find the corr with \"resale_price\"\n",
    "# corr = round(hdb_and_polynomial.corrwith(hdb[\"resale_price\"]).sort_values(ascending=False),4)\n",
    "\n",
    "# #create a dict to find absolute corr > 0.4\n",
    "# corr_dict = {}\n",
    "# for k,v in corr.iteritems():\n",
    "#     if v>=0.4 or v<=-0.4:\n",
    "#         corr_dict[k] = v"
   ]
  },
  {
   "cell_type": "code",
   "execution_count": 37,
   "id": "7ebedc24",
   "metadata": {},
   "outputs": [],
   "source": [
    "# #initiate with f-reg method and k=30\n",
    "# select = SelectKBest(score_func=f_regression, k=50)\n",
    "\n",
    "# #fit and transform all the continuos variables\n",
    "# k_fit = select.fit(hdb_and_polynomial[[k for k in corr_dict]], hdb[\"resale_price\"])\n",
    "# k_transform = k_fit.transform(hdb_and_polynomial[[k for k in corr_dict]])\n",
    "\n",
    "# #dataframe created to find best features among all the continuos variabes\n",
    "# kept_features = pd.DataFrame({'columns': hdb_and_polynomial[[k for k in corr_dict]].columns,\n",
    "#                               'Kept': k_fit.get_support()})\n",
    "# kept_features = kept_features[kept_features[\"Kept\"] == True][\"columns\"].tolist() \n",
    "\n",
    "# #the 30 best continuos features\n",
    "# kept_features"
   ]
  },
  {
   "cell_type": "code",
   "execution_count": 38,
   "id": "5321212c",
   "metadata": {},
   "outputs": [],
   "source": [
    "# #X1, Y1 are new split of data with polynomial features\n",
    "# #previous two attempts were using same train and split data\n",
    "# X1 = pd.concat([hdb_and_polynomial[kept_features], hdb[eda_features]], axis=1)\n",
    "# y1 = hdb[\"resale_price\"]\n",
    "\n",
    "# X_train_3, X_val_3, y_train_3, y_val_3 = train_test_split(X1, y1, test_size=0.25, random_state=10)"
   ]
  },
  {
   "cell_type": "code",
   "execution_count": 39,
   "id": "bb4da96a",
   "metadata": {},
   "outputs": [],
   "source": [
    "# X1.shape"
   ]
  },
  {
   "cell_type": "code",
   "execution_count": 40,
   "id": "9d6137a4",
   "metadata": {},
   "outputs": [],
   "source": [
    "# # for continuos variables\n",
    "# # and target-encoded variables (\"planning_area_encoded\", \"mrt_name_encoded\")\n",
    "\n",
    "# #fit and transform train data\n",
    "# ss_fit = ss.fit(X_train_3)\n",
    "# X_train_3 = ss_fit.transform(X_train_3)\n",
    "\n",
    "# #tranform only val data\n",
    "# X_val_3 = ss.transform(X_val_3)"
   ]
  },
  {
   "cell_type": "code",
   "execution_count": 41,
   "id": "79db59db",
   "metadata": {},
   "outputs": [],
   "source": [
    "# #linear regression\n",
    "# lr = LinearRegression()\n",
    "# lr.fit(X_train_3, y_train_3)\n",
    "# lr_y_pred = lr.predict(X_val_3)\n",
    "\n",
    "# #ridge regression\n",
    "# ridge = RidgeCV(alphas=(0.1,50,1000))\n",
    "# ridge.fit(X_train_3, y_train_3)\n",
    "# ridge_y_pred = ridge.predict(X_val_3)\n",
    "\n",
    "# #lasso regression\n",
    "# lasso = LassoCV(n_alphas=200, cv=5, max_iter=50000)\n",
    "# lasso.fit(X_train_3, y_train_3)\n",
    "# lasso_y_pred = lasso.predict(X_val_3)"
   ]
  },
  {
   "cell_type": "code",
   "execution_count": 42,
   "id": "182cf721",
   "metadata": {},
   "outputs": [],
   "source": [
    "# #linear regression\n",
    "# print(\"Linear Regression:\\n\")\n",
    "# print(f'R2 score for training set: {lr.score(X_train_3, y_train_3):.4f}')\n",
    "# print(f'R2 score for validation set: {lr.score(X_val_3, y_val_3):.4f}')\n",
    "# print(f'Cross Val Score: {cross_val_score(lr, X_train_3, y_train_3, cv=5).mean():.4f}')\n",
    "\n",
    "# print(\"\\n\")\n",
    "\n",
    "# #ridge regression\n",
    "# print(\"Ridge Regression:\\n\")\n",
    "# print(f'R2 score for training set: {ridge.score(X_train_3, y_train_3):.4f}')\n",
    "# print(f'R2 score for validation set: {ridge.score(X_val_3, y_val_3):.4f}')\n",
    "# print(f'Cross Val Score: {cross_val_score(ridge, X_train_3, y_train_3, cv=5).mean():.4f}')\n",
    "\n",
    "# print(\"\\n\")\n",
    "\n",
    "# #linear regression\n",
    "# print(\"Lasso Regression:\\n\")\n",
    "# print(f'R2 score for training set: {lasso.score(X_train_3, y_train_3):.4f}')\n",
    "# print(f'R2 score for validation set: {lasso.score(X_val_3, y_val_3):.4f}')\n",
    "# print(f'Cross Val Score: {cross_val_score(lasso, X_train_3, y_train_3, cv=5).mean():.4f}')"
   ]
  },
  {
   "cell_type": "code",
   "execution_count": 43,
   "id": "8612f1f6",
   "metadata": {},
   "outputs": [],
   "source": [
    "# #linear regression\n",
    "# print(\"Linear Regression:\")\n",
    "# print(f'RMSE for training set: {metrics.mean_squared_error(y_train_3, lr.predict(X_train_3), squared=False):.4f}')\n",
    "# print(f'RMSE for validation set: {metrics.mean_squared_error(y_val_3, lr.predict(X_val_3), squared=False):.4f}')\n",
    "# print(f'Cross Val Score: {cross_val_score(lr, X_train_3, y_train_3, cv=5, scoring=\"neg_root_mean_squared_error\").mean()*-1:.4f}')\n",
    "\n",
    "# print(\"\\n\")\n",
    "\n",
    "# #ridge regression\n",
    "# print(\"Ridge Regression:\")\n",
    "# print(f'RMSE for training set: {metrics.mean_squared_error(y_train_3, ridge.predict(X_train_3), squared=False):.4f}')\n",
    "# print(f'RMSE for validation set: {metrics.mean_squared_error(y_val_3, ridge.predict(X_val_3), squared=False):.4f}')\n",
    "# print(f'Cross Val Score: {cross_val_score(ridge, X_train_3, y_train_3, cv=5, scoring=\"neg_root_mean_squared_error\").mean()*-1:.4f}')\n",
    "\n",
    "# print(\"\\n\")\n",
    "\n",
    "# #lasso regression\n",
    "# print(\"Lasso Regression:\")\n",
    "# print(f'RMSE for training set: {metrics.mean_squared_error(y_train_3, lasso.predict(X_train_3), squared=False):.4f}')\n",
    "# print(f'RMSE for validation set: {metrics.mean_squared_error(y_val_3, lasso.predict(X_val_3), squared=False):.4f}')\n",
    "# print(f'Cross Val Score: {cross_val_score(lasso, X_train_3, y_train_3, cv=5, scoring=\"neg_root_mean_squared_error\").mean()*-1:.4f}')"
   ]
  },
  {
   "cell_type": "markdown",
   "id": "459768c1",
   "metadata": {},
   "source": [
    "<a id='CONCLUSION'></a>\n",
    "## Conclusion"
   ]
  },
  {
   "cell_type": "markdown",
   "id": "52077548",
   "metadata": {},
   "source": [
    "### Scores\n",
    "\n",
    "| Model | CV R2 Score (Train) | CV RMSE (Train) | \n",
    "| --- | --- | --- |\n",
    "| Baseline Model | 0.4453 | 106873.66 |\n",
    "| --- | --- | --- |\n",
    "| OLS using EDA feature selection| 0.7734 | 68205.74 |\n",
    "| Ridge Regression using EDA feature selection | 0.7734 | 68205.58 |\n",
    "| Lasso Regression using EDA feature selection | 0.7713 | 68519.83 |\n",
    "| --- | --- | --- |\n",
    "| OLS using K-best (k=15, f-reg)| 0.8350 | 58200.76 |\n",
    "| Ridge Regression using K-best (k=15, f-reg)| 0.8350 |58200.69|\n",
    "| Lasso Regression using K-best (k=15, f-reg)| 0.8329 |58562.00| \n",
    "| --- | --- | --- |\n",
    "| Kaggle Submission Score (public)| -|57657.40| \n",
    "| Kaggle Submission Score (private)| -|59412.28| "
   ]
  },
  {
   "cell_type": "markdown",
   "id": "7799fe4c",
   "metadata": {},
   "source": [
    "Ridge model using K-best feature selection is the best model to predict the price of HDB resale flat with minimal errors and high accuracy, represented by highest R2 score and lowest RMSE. This model has been significantly improved from baseline model that has 44% R2 score and the models with lesser variables selected during EDA process that has 77% accuracy score.\n",
    "\n",
    "Ridge model trades variance for bias. It is usually better than OLS when there are a large number of variables included because it has a penalty term to reduce overfitting and improve generalization to the testing set. However, one should notice that these two models have the same R2 score and just a few cents difference in average prediction error (RMSE). Both are working well and it mean that the variables included are mostly important and no overfitting, so penalizing effect imposed from ridge model is rather weak. This could also mean that the prediction power still has room for improvement by adding more variables to capture more signals.\n",
    "\n",
    "Ridge model has lesser error compared to Lasso model is because Lasso tends to work well when there are only a handful of true predictors. Since in this case the selected variables are appropriate, its penalty effect to reduce coefficients that are highly correlated into zero turns the model to have higher variance than other models as it missing some important signals. This is the limitation of LASSO where it is unable to do group selection. If there is a group of variables among which the pairwise correlations are very high, then the LASSO tends to arbitrarily select only one variable from the group. That is the reason it turns most of the one-hot encoded variables into zero, and with less signal in the model, it performs slightly worse than Ridge model.\n",
    "\n",
    "In accordance to the coefficients in the best model in this project, the order of importance in ascending order is as follow: flat model (particularly terrance), floor area in sqm, mrt latitude (similar to mrt name), pri school latitude, hdb age, sec school latitude, max floor lvl, hawker within 2km, bus stop latitude, latitude based on postal code, mrt nearest distance, planning area, flat type."
   ]
  },
  {
   "cell_type": "markdown",
   "id": "2589501f",
   "metadata": {},
   "source": [
    "## Recommendation and Limitation"
   ]
  },
  {
   "cell_type": "markdown",
   "id": "3a2540c4",
   "metadata": {},
   "source": [
    "Although the R2 score is above 80%, there is room for improvement, this could be done by adding model complexity to capture as much signals as possible. One of the recommendation is to include GDP and interest rate datasets to analyse the trend of the resale price because macroeconomic factors could have a large impact on resale price. The demand and supply of resale flat and the upward and downward trend in the resale price over the years fluctuates as seen in the EDA process. Additionally, polynomial features should be analysed to examine their combination effect on resale price.\n",
    "\n",
    "Also, target encoding has been applied to mrt name and planning area. It could be improved by taken into consideration the weight based on the count of the groups to be a more accurate indicator. Also, a number of outliers have been observed in the EDA process, and this should be removed or eliminated in order to generalize the effect on resale price. While standard scaler is highly influenced by outliers, robust scaling is recommended for better measurement."
   ]
  },
  {
   "cell_type": "markdown",
   "id": "348a8d36",
   "metadata": {},
   "source": [
    "## Test Data Set (Submit on Kaggle)"
   ]
  },
  {
   "cell_type": "markdown",
   "id": "ecac983a",
   "metadata": {},
   "source": [
    "##### Load Data"
   ]
  },
  {
   "cell_type": "code",
   "execution_count": 44,
   "id": "a77970f4",
   "metadata": {},
   "outputs": [
    {
     "name": "stderr",
     "output_type": "stream",
     "text": [
      "C:\\Users\\szehu\\AppData\\Local\\Temp\\ipykernel_4448\\2295356704.py:2: DtypeWarning: Columns (40) have mixed types. Specify dtype option on import or set low_memory=False.\n",
      "  X_test = pd.read_csv(\"../data/test.csv\")\n"
     ]
    }
   ],
   "source": [
    "#load data\n",
    "X_test = pd.read_csv(\"../data/test.csv\")\n",
    "\n",
    "# Convert all columns to lowercase and replace spaces in column names.\n",
    "X_test.columns = X_test.columns.str.lower().str.replace(' ', '_')"
   ]
  },
  {
   "cell_type": "markdown",
   "id": "086e8fc9",
   "metadata": {},
   "source": [
    "##### Null Value"
   ]
  },
  {
   "cell_type": "code",
   "execution_count": 45,
   "id": "a351560d",
   "metadata": {
    "scrolled": true
   },
   "outputs": [
    {
     "name": "stdout",
     "output_type": "stream",
     "text": [
      "hawker_within_500m : 10755\n",
      "mall_within_500m : 10292\n",
      "hawker_within_1km : 6729\n",
      "hawker_within_2km : 3254\n",
      "mall_within_1km : 2786\n",
      "mall_within_2km : 213\n",
      "mall_nearest_distance : 84\n"
     ]
    },
    {
     "data": {
      "text/html": [
       "<div>\n",
       "<style scoped>\n",
       "    .dataframe tbody tr th:only-of-type {\n",
       "        vertical-align: middle;\n",
       "    }\n",
       "\n",
       "    .dataframe tbody tr th {\n",
       "        vertical-align: top;\n",
       "    }\n",
       "\n",
       "    .dataframe thead th {\n",
       "        text-align: right;\n",
       "    }\n",
       "</style>\n",
       "<table border=\"1\" class=\"dataframe\">\n",
       "  <thead>\n",
       "    <tr style=\"text-align: right;\">\n",
       "      <th></th>\n",
       "      <th>id</th>\n",
       "      <th>tranc_yearmonth</th>\n",
       "      <th>town</th>\n",
       "      <th>flat_type</th>\n",
       "      <th>block</th>\n",
       "      <th>street_name</th>\n",
       "      <th>storey_range</th>\n",
       "      <th>floor_area_sqm</th>\n",
       "      <th>flat_model</th>\n",
       "      <th>lease_commence_date</th>\n",
       "      <th>...</th>\n",
       "      <th>vacancy</th>\n",
       "      <th>pri_sch_affiliation</th>\n",
       "      <th>pri_sch_latitude</th>\n",
       "      <th>pri_sch_longitude</th>\n",
       "      <th>sec_sch_nearest_dist</th>\n",
       "      <th>sec_sch_name</th>\n",
       "      <th>cutoff_point</th>\n",
       "      <th>affiliation</th>\n",
       "      <th>sec_sch_latitude</th>\n",
       "      <th>sec_sch_longitude</th>\n",
       "    </tr>\n",
       "  </thead>\n",
       "  <tbody>\n",
       "    <tr>\n",
       "      <th>511</th>\n",
       "      <td>114882</td>\n",
       "      <td>2012-07</td>\n",
       "      <td>WOODLANDS</td>\n",
       "      <td>5 ROOM</td>\n",
       "      <td>680</td>\n",
       "      <td>WOODLANDS AVE 6</td>\n",
       "      <td>04 TO 06</td>\n",
       "      <td>123.0</td>\n",
       "      <td>Improved</td>\n",
       "      <td>1998</td>\n",
       "      <td>...</td>\n",
       "      <td>61</td>\n",
       "      <td>0</td>\n",
       "      <td>1.44011</td>\n",
       "      <td>103.804629</td>\n",
       "      <td>429.86362</td>\n",
       "      <td>Woodlands Ring Secondary School</td>\n",
       "      <td>211</td>\n",
       "      <td>0</td>\n",
       "      <td>1.436114</td>\n",
       "      <td>103.800521</td>\n",
       "    </tr>\n",
       "  </tbody>\n",
       "</table>\n",
       "<p>1 rows × 76 columns</p>\n",
       "</div>"
      ],
      "text/plain": [
       "         id tranc_yearmonth       town flat_type block      street_name  \\\n",
       "511  114882         2012-07  WOODLANDS    5 ROOM   680  WOODLANDS AVE 6   \n",
       "\n",
       "    storey_range  floor_area_sqm flat_model  lease_commence_date  ...  \\\n",
       "511     04 TO 06           123.0   Improved                 1998  ...   \n",
       "\n",
       "     vacancy  pri_sch_affiliation  pri_sch_latitude  pri_sch_longitude  \\\n",
       "511       61                    0           1.44011         103.804629   \n",
       "\n",
       "     sec_sch_nearest_dist                     sec_sch_name cutoff_point  \\\n",
       "511             429.86362  Woodlands Ring Secondary School          211   \n",
       "\n",
       "    affiliation  sec_sch_latitude  sec_sch_longitude  \n",
       "511           0          1.436114         103.800521  \n",
       "\n",
       "[1 rows x 76 columns]"
      ]
     },
     "execution_count": 45,
     "metadata": {},
     "output_type": "execute_result"
    }
   ],
   "source": [
    "#check null value\n",
    "null_features = []\n",
    "check_null = X_test.isnull().sum().sort_values(ascending=False)\n",
    "for key,value in check_null.iteritems():\n",
    "    if value != 0:\n",
    "        null_features.append(key)\n",
    "        print(key,\":\",value)\n",
    "\n",
    "#check if there is 0 in the respective features, if not then assume it meant 0\n",
    "X_test[X_test[null_features].values == 0]"
   ]
  },
  {
   "cell_type": "code",
   "execution_count": 46,
   "id": "70db726d",
   "metadata": {},
   "outputs": [
    {
     "data": {
      "text/plain": [
       "0    76\n",
       "dtype: int64"
      ]
     },
     "execution_count": 46,
     "metadata": {},
     "output_type": "execute_result"
    }
   ],
   "source": [
    "# fillna with zero for the above 7 features with no \"zero value\"\n",
    "for feature in null_features:\n",
    "    X_test[feature] = X_test[feature].fillna(0)\n",
    "    \n",
    "#double check null value\n",
    "X_test.isnull().sum().value_counts()"
   ]
  },
  {
   "cell_type": "markdown",
   "id": "bd429872",
   "metadata": {},
   "source": [
    "##### Duplicated Row"
   ]
  },
  {
   "cell_type": "code",
   "execution_count": 47,
   "id": "ab7f9a88",
   "metadata": {},
   "outputs": [
    {
     "data": {
      "text/plain": [
       "0"
      ]
     },
     "execution_count": 47,
     "metadata": {},
     "output_type": "execute_result"
    }
   ],
   "source": [
    "#check of duplicate rows\n",
    "X_test.duplicated().sum()"
   ]
  },
  {
   "cell_type": "markdown",
   "id": "c84061da",
   "metadata": {},
   "source": [
    "##### Preprocessing: Encode \"storey_range\""
   ]
  },
  {
   "cell_type": "code",
   "execution_count": 48,
   "id": "440972fb",
   "metadata": {},
   "outputs": [],
   "source": [
    "# encode \"lower\" to 4 groups\n",
    "\n",
    "def storey_range(x):\n",
    "    if x <= 4:\n",
    "        return 0\n",
    "    elif x <= 7:\n",
    "        return 1\n",
    "    elif x <= 10:\n",
    "        return 2\n",
    "    else:\n",
    "        return 3   \n",
    "    \n",
    "X_test[\"storey_range_encoded\"] = X_test[\"lower\"].map(storey_range)"
   ]
  },
  {
   "cell_type": "markdown",
   "id": "f163e513",
   "metadata": {},
   "source": [
    "##### Preprocessing: Encode \"flat_type\""
   ]
  },
  {
   "cell_type": "code",
   "execution_count": 49,
   "id": "a30a0e0f",
   "metadata": {},
   "outputs": [],
   "source": [
    "# encode \"flat_type\" to 0-6 (represent small to large size), and then drop the original column\n",
    "\n",
    "scale_mapper = {\"1 ROOM\":0, \"2 ROOM\":1, \"3 ROOM\":2, \"4 ROOM\":3, \"5 ROOM\":4, \"EXECUTIVE\":5, \"MULTI-GENERATION\":6}\n",
    "X_test[\"flat_type_encoded\"] = X_test[\"flat_type\"].map(scale_mapper)"
   ]
  },
  {
   "cell_type": "markdown",
   "id": "7e4ee352",
   "metadata": {},
   "source": [
    "##### Preprocessing: One-Hot Encoding for variable \"flat_model\""
   ]
  },
  {
   "cell_type": "code",
   "execution_count": 50,
   "id": "1ba6a210",
   "metadata": {},
   "outputs": [],
   "source": [
    "#fit the encoding\n",
    "transformed = ohe.fit_transform(X_test[[\"flat_model\"]])\n",
    "\n",
    "#construct a dataframe for ohe columns\n",
    "columnname = ohe.get_feature_names_out([\"flat_model\"])\n",
    "transformed_df = pd.DataFrame(transformed, columns=columnname)\n",
    "\n",
    "#lowercase and replace empty space in column name\n",
    "transformed_df.columns = transformed_df.columns.str.lower().str.replace(' ', '_')\n",
    "\n",
    "#concat the ohe dataframe into X_test dataframe\n",
    "X_test = pd.concat([X_test, transformed_df], axis=1)"
   ]
  },
  {
   "cell_type": "markdown",
   "id": "933a0195",
   "metadata": {},
   "source": [
    "##### Preprocessing: Target Encoding for variable \"planning_area\""
   ]
  },
  {
   "cell_type": "code",
   "execution_count": 51,
   "id": "720fbb65",
   "metadata": {},
   "outputs": [],
   "source": [
    "#create a column to store encoded value\n",
    "X_test[\"planning_area_encoded\"] = te_fit_pa.transform(X_test[\"planning_area\"])"
   ]
  },
  {
   "cell_type": "markdown",
   "id": "ae8912fc",
   "metadata": {},
   "source": [
    "##### Preprocessing: Target Encoding for variable \"mrt_name\""
   ]
  },
  {
   "cell_type": "code",
   "execution_count": 52,
   "id": "423ff6b2",
   "metadata": {},
   "outputs": [],
   "source": [
    "#create a column to store encoded value\n",
    "X_test[\"mrt_name_encoded\"] = te_fit_mrt.transform(X_test[\"mrt_name\"])"
   ]
  },
  {
   "cell_type": "markdown",
   "id": "02802d54",
   "metadata": {},
   "source": [
    "##### Preprocessing: Scaling"
   ]
  },
  {
   "cell_type": "code",
   "execution_count": 53,
   "id": "d7caa6a2",
   "metadata": {},
   "outputs": [],
   "source": [
    "# for continuos variables\n",
    "# and target-encoded variables (\"planning_area_encoded\", \"mrt_name_encoded\")\n",
    "\n",
    "scaling_features = ['floor_area_sqm', 'tranc_year', 'tranc_month', 'hdb_age', 'max_floor_lvl', \n",
    "                      'total_dwelling_units', '1room_sold', '2room_sold', '3room_sold',\n",
    "                      '4room_sold', '5room_sold', 'exec_sold','multigen_sold', 'studio_apartment_sold',\n",
    "                      '1room_rental', '2room_rental','3room_rental', 'other_room_rental', 'latitude',\n",
    "                      'longitude','mall_within_500m', 'mall_within_1km', 'mall_within_2km',\n",
    "                      'hawker_nearest_distance', 'hawker_within_500m','hawker_within_1km',\n",
    "                      'hawker_within_2km', 'hawker_food_stalls', 'hawker_market_stalls',\n",
    "                      'mrt_nearest_distance', 'bus_interchange', 'mrt_interchange', 'mrt_latitude',\n",
    "                      'mrt_longitude', 'bus_stop_nearest_distance', 'bus_stop_latitude', 'bus_stop_longitude',\n",
    "                      'pri_sch_nearest_distance', 'vacancy','pri_sch_latitude', 'pri_sch_longitude',\n",
    "                      'sec_sch_nearest_dist', 'cutoff_point', 'sec_sch_latitude', 'sec_sch_longitude',\n",
    "                       'planning_area_encoded', 'mrt_name_encoded']\n",
    "\n",
    "#fit the scaler\n",
    "X_test[scaling_features] = ss.transform(X_test[scaling_features])"
   ]
  },
  {
   "cell_type": "markdown",
   "id": "aa3bafba",
   "metadata": {},
   "source": [
    "##### Column and Order Check"
   ]
  },
  {
   "cell_type": "code",
   "execution_count": 54,
   "id": "a8f050f3",
   "metadata": {
    "scrolled": true
   },
   "outputs": [
    {
     "name": "stdout",
     "output_type": "stream",
     "text": [
      "flat_model_2-room\n"
     ]
    }
   ],
   "source": [
    "#check column not present in test dataset\n",
    "for x in X_train_2.columns:\n",
    "    if x not in X_test.columns:\n",
    "        print(x)"
   ]
  },
  {
   "cell_type": "code",
   "execution_count": 55,
   "id": "1c30f897",
   "metadata": {},
   "outputs": [],
   "source": [
    "#add a column and fill with 0 in the disappear one hot encoded column\n",
    "X_test[\"flat_model_2-room\"] = 0"
   ]
  },
  {
   "cell_type": "code",
   "execution_count": 56,
   "id": "5124f163",
   "metadata": {},
   "outputs": [],
   "source": [
    "#align the column order in accordance to X train (2nd attempt) columns\n",
    "X_test_final =  X_test[X_train_2.columns]"
   ]
  },
  {
   "cell_type": "markdown",
   "id": "382952ce",
   "metadata": {},
   "source": [
    "##### Prediction"
   ]
  },
  {
   "cell_type": "code",
   "execution_count": 57,
   "id": "ef9e0a9d",
   "metadata": {},
   "outputs": [],
   "source": [
    "#prediction on test data using best model - ridge model\n",
    "ridge_y_pred = ridge.predict(X_test_final)"
   ]
  },
  {
   "cell_type": "code",
   "execution_count": 58,
   "id": "65f5b6dc",
   "metadata": {},
   "outputs": [
    {
     "name": "stdout",
     "output_type": "stream",
     "text": [
      "(16737, 100)\n",
      "(16737,)\n"
     ]
    }
   ],
   "source": [
    "#confirm number of row\n",
    "\n",
    "print(X_test.shape)\n",
    "print(ridge_y_pred.shape)"
   ]
  },
  {
   "cell_type": "code",
   "execution_count": 59,
   "id": "f95b546f",
   "metadata": {},
   "outputs": [
    {
     "data": {
      "text/html": [
       "<div>\n",
       "<style scoped>\n",
       "    .dataframe tbody tr th:only-of-type {\n",
       "        vertical-align: middle;\n",
       "    }\n",
       "\n",
       "    .dataframe tbody tr th {\n",
       "        vertical-align: top;\n",
       "    }\n",
       "\n",
       "    .dataframe thead th {\n",
       "        text-align: right;\n",
       "    }\n",
       "</style>\n",
       "<table border=\"1\" class=\"dataframe\">\n",
       "  <thead>\n",
       "    <tr style=\"text-align: right;\">\n",
       "      <th></th>\n",
       "      <th>Id</th>\n",
       "      <th>Predicted</th>\n",
       "    </tr>\n",
       "  </thead>\n",
       "  <tbody>\n",
       "    <tr>\n",
       "      <th>0</th>\n",
       "      <td>114982</td>\n",
       "      <td>315245.113292</td>\n",
       "    </tr>\n",
       "    <tr>\n",
       "      <th>1</th>\n",
       "      <td>95653</td>\n",
       "      <td>522619.899240</td>\n",
       "    </tr>\n",
       "    <tr>\n",
       "      <th>2</th>\n",
       "      <td>40303</td>\n",
       "      <td>332721.608233</td>\n",
       "    </tr>\n",
       "    <tr>\n",
       "      <th>3</th>\n",
       "      <td>109506</td>\n",
       "      <td>332963.732754</td>\n",
       "    </tr>\n",
       "    <tr>\n",
       "      <th>4</th>\n",
       "      <td>100149</td>\n",
       "      <td>443656.584551</td>\n",
       "    </tr>\n",
       "    <tr>\n",
       "      <th>...</th>\n",
       "      <td>...</td>\n",
       "      <td>...</td>\n",
       "    </tr>\n",
       "    <tr>\n",
       "      <th>16732</th>\n",
       "      <td>23347</td>\n",
       "      <td>334936.314882</td>\n",
       "    </tr>\n",
       "    <tr>\n",
       "      <th>16733</th>\n",
       "      <td>54003</td>\n",
       "      <td>492757.632570</td>\n",
       "    </tr>\n",
       "    <tr>\n",
       "      <th>16734</th>\n",
       "      <td>128921</td>\n",
       "      <td>439948.129740</td>\n",
       "    </tr>\n",
       "    <tr>\n",
       "      <th>16735</th>\n",
       "      <td>69352</td>\n",
       "      <td>500860.461315</td>\n",
       "    </tr>\n",
       "    <tr>\n",
       "      <th>16736</th>\n",
       "      <td>146210</td>\n",
       "      <td>377546.536699</td>\n",
       "    </tr>\n",
       "  </tbody>\n",
       "</table>\n",
       "<p>16737 rows × 2 columns</p>\n",
       "</div>"
      ],
      "text/plain": [
       "           Id      Predicted\n",
       "0      114982  315245.113292\n",
       "1       95653  522619.899240\n",
       "2       40303  332721.608233\n",
       "3      109506  332963.732754\n",
       "4      100149  443656.584551\n",
       "...       ...            ...\n",
       "16732   23347  334936.314882\n",
       "16733   54003  492757.632570\n",
       "16734  128921  439948.129740\n",
       "16735   69352  500860.461315\n",
       "16736  146210  377546.536699\n",
       "\n",
       "[16737 rows x 2 columns]"
      ]
     },
     "execution_count": 59,
     "metadata": {},
     "output_type": "execute_result"
    }
   ],
   "source": [
    "#create dataframe and input \"id\" and \"prediction\" for submission\n",
    "kaggle_pred = pd.DataFrame(columns=[\"Id\", \"Predicted\"])\n",
    "kaggle_pred[\"Id\"] = X_test[\"id\"]\n",
    "kaggle_pred[\"Predicted\"] = ridge_y_pred\n",
    "\n",
    "kaggle_pred"
   ]
  },
  {
   "cell_type": "code",
   "execution_count": 60,
   "id": "f0cc7281",
   "metadata": {},
   "outputs": [],
   "source": [
    "#save as csv\n",
    "# kaggle_pred.to_csv(\"../data/kaggle_pred.csv\")"
   ]
  }
 ],
 "metadata": {
  "kernelspec": {
   "display_name": "Python 3 (ipykernel)",
   "language": "python",
   "name": "python3"
  },
  "language_info": {
   "codemirror_mode": {
    "name": "ipython",
    "version": 3
   },
   "file_extension": ".py",
   "mimetype": "text/x-python",
   "name": "python",
   "nbconvert_exporter": "python",
   "pygments_lexer": "ipython3",
   "version": "3.9.13"
  }
 },
 "nbformat": 4,
 "nbformat_minor": 5
}
