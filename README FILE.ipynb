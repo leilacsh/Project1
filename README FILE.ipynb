{
 "cells": [
  {
   "cell_type": "code",
   "execution_count": null,
   "metadata": {},
   "outputs": [],
   "source": [
    "<img src=\"http://imgur.com/1ZcRyrc.png\" style=\"float: left; margin: 20px; height: 55px\">\n",
    "\n",
    "# Project 2: Predict the Price of Homes at Sale for a Singapore Public Housing Dataset"
   ]
  },
  {
   "attachments": {},
   "cell_type": "markdown",
   "metadata": {},
   "source": [
    "## Background\n",
    "Singapore is a densely populated island city-state that is known for its world-class infrastructure, high standard of living, and booming real estate market. One of the most popular types of housing in Singapore is the Housing and Development Board (HDB) flat, which is a government-subsidized apartment that is affordable for many Singaporeans. In recent years, the resale market for HDB flats has become increasingly competitive, with prices fluctuating based on a variety of factors such as location, age of the flat, and nearby amenities. Linear regression is a statistical modeling technique that can be used to predict HDB resale prices based on these factors, allowing buyers and sellers to make more informed decisions in this dynamic market. By analyzing past sales data and building a linear regression model, it is possible to forecast HDB resale prices with a certain level of accuracy, helping to mitigate risk and uncertainty in the buying and selling process.\n"
   ]
  },
  {
   "attachments": {},
   "cell_type": "markdown",
   "metadata": {},
   "source": [
    "## Problem Statement\n",
    "Housing and Development Board (HDB) resale market in Singapore is a significant contributor to the real estate industry. The HDB resale price is influenced by various factors such as location, age of the property, floor area, lease remaining, and many others. The aim of this project is to develop a linear regression model that predicts the resale price of HDB flats based on these factors.\n",
    "\n",
    "The dataset contains information about past HDB resale transactions, including the flat type, town, flat model, floor area, lease commencement date, and resale price. The objective is to create a model that accurately predicts the resale price of HDB flats based on the given features.\n",
    "\n",
    "The evaluation metric for the model will be the Root Mean Square Error (RMSE), which measures the difference between the predicted and actual prices. A lower RMSE indicates better accuracy and precision of the model.\n",
    "\n",
    "The project's outcome will be a linear regression model that can predict HDB resale prices with minimal errors and high accuracy. The model can assist buyers, sellers, and real estate agents in making informed decisions based on the estimated prices."
   ]
  },
  {
   "attachments": {},
   "cell_type": "markdown",
   "metadata": {},
   "source": [
    "## EDA\n",
    "Correlation shows that only 5 independent variables have correlation of more than 0.4 absolute value with resale price. Hence, the threshold is adjusted to 0.3 in order to capture more variables and investigate further their relationship.\n",
    "\n",
    "We can see that the higher the flat size (represent by flat type and floor area) and height (represented by max floor level) , the higher the resale price. Resale price also tend to be higher with new houses (represented by year completed  and lease_commence date in a positive number and hdb age in a negative number).\n",
    "\n",
    "The variables \"upper\", \"mid\", \"lower\" correlation with resale price is vague as they have similar correlation with resale price. As these variables are the same thing with storey range, we will ignore these variables in our model.\n",
    "\n",
    "Interestingly, it shows the higher the number of 3-room residential units in the resale flat, the lower the resale price. This can be explained better by comparison with \"5room_sold\" and \"exec_sold\", they represent that the more bigger size flats in the resale unit's block, the higher the resale price. This applies to the case for 3room_sold in an opposite way.\n",
    "\n",
    "However, floor_area_sqm and floor_area_sqft are raising multicollinearity problem (represent in dark green) because they both have equally strong correlation with resale price. Hence, only floor_area_sqm is used in this model. Although floor_area_sqm is highly correlated with flat_type_encoded, both are still included in the model because floor_area_sqm is continuos variable, it could be more accurate in terms of modelling prediction.\n",
    "\n",
    "Similarly, year_completed, lease_commence_date and hdb_age are highly correlated (represented by maroon color). Therefore, hdb age is included in the model only.\n",
    "\n",
    "Note: As the correlation with categorical variables cannot be captured in the heatmap, further analysis on categorical variables will be performed below. "
   ]
  },
  {
   "attachments": {},
   "cell_type": "markdown",
   "metadata": {},
   "source": [
    "# Continuos Variable: Observation from histogram\n",
    "From the histograms we can observe that:\n",
    "\n",
    "1) Most of the resale flat are sold at 100sgd per sqm or 1000sgd per sqft.\n",
    "\n",
    "2) The dependent/target variable (resale price) has a distribution slightly skewed to the right with mean price $449k. That means some of the resale flat are sold at extremely high price. \n",
    "\n",
    "3) The transaction volume was increasing until 2020, followed by a sudden drop. Also, it is found that buyers tend to transact in Dec and Jan comparing to other months.\n",
    "\n",
    "4) The range of storey of the resale flat sold is 1-13 storey. This could be the reason that the max floor of a HDB block is usually in range of 12-16 storeys.  \n",
    "\n",
    "5) Among the resale flat sold, most are aged 20 and 35. Decreasing transaction volume happened once the hdb age exceeded 35.\n",
    "\n",
    "6) Resale flat typically has 100-180 unit in the block.\n",
    "\n",
    "7) Most resale flat do not have 1room, 2 room, executive, multi-generation, studio apartment types in the same block. The most common room type is 4 room, following by 5 room and 3 room. Also, usually the resale flat does not have any rental unit in the same block.\n",
    "\n",
    "8) Half of the resale flats do not have any mall within 2km. The other half usually can see 2-8 malls in 2km (among this, one-third of them can at least see 1 mall within 500m). \n",
    "\n",
    "9) Only one-third of the resale flat has 1-2 hawker centre within 500m. Most of them are able to see at least 1 hawker within 1km with around 40 food stalls in it, but without market stalls.\n",
    "\n",
    "10) Most of the HDB sold are nearer to bus-interchange, comparing to train-interchange. While bus stop typically located within 100m.\n",
    "\n",
    "11) Resale flat usually is 700m from nearest primary school (with vacancy range of 40-65) and secondary school (with most of their cutoff point less than 200)."
   ]
  },
  {
   "attachments": {},
   "cell_type": "markdown",
   "metadata": {},
   "source": [
    "# Continuos Variable: Observation from Pairplot\n",
    "The pairplot shows a strong linear relationship between floor area and resale price. The linearity between max floor level and resale price is not very strong, however, it is still noticeable for level 30 onwards. The number of 3 room unit in the block of the resale flat also reflected a strong negative linear relationship. For 5 room and executive number in the block, the linear relationship is very weak, and is capture at the lower bound of the resale price only. Whereas for hdb age plot, there is no clear relationship shown, it could be due to the scale of the pairplot. We will examine using boxplot below.\n"
   ]
  },
  {
   "attachments": {},
   "cell_type": "markdown",
   "metadata": {},
   "source": [
    "# Continuos Variable: Observation from Boxplot and Countplot\n",
    "While the scatter plot shows no obvious linearity with hdb age, the bar plot reflected a slight different in resale price. Hence it will still be included in the model.\n",
    "\n",
    "The boxplot shows the floor area and maximum floor level is slightly skewed to the right, whereas the number of 3rooms and 5 rooms in the unit of resale flat is severely skewed. Due to limited data in exec_sold, this variable will be removed from modelling as it will significantly affect the prediction power.\n",
    "\n",
    "Considerable number of outliers appeared in the resale price and number of 3rooms in the unit of resale flat. Skewness and outlier could make the model less predictable. Hence, data scaling will be performed in the later stage."
   ]
  },
  {
   "attachments": {},
   "cell_type": "markdown",
   "metadata": {},
   "source": [
    "# Target Variable: Observation from Lineplot\n",
    "Resale price was fluctuated in the range of $430k to 490k, but recently seem a significant increasing trend that breakout the resistance in previous 10 years."
   ]
  },
  {
   "attachments": {},
   "cell_type": "markdown",
   "metadata": {},
   "source": [
    "# Boolean Variable: Observation from Boxplot and Countplot\n",
    "All of the boolean variables are meaningless to be included into the model as their correlation with resale price cant be differentiated. Besides, the group of 0 and 1 in each variable is severely disproportionate. Hence, they are not excluded."
   ]
  },
  {
   "attachments": {},
   "cell_type": "markdown",
   "metadata": {},
   "source": [
    "# Nominal Variable: Observation from Barplot and Boxplot\n",
    "# 1. Secondary School Name\n",
    "Assuming cut off point is the proxy of popularity of secondary school: the higher the cut off point, the more popular the school is, the higher the resale price. Top 20 and bottom 20 secondary schools are selected based on the cut off point to compare their mean resale values to investigate their correlation with resale price.\n",
    "\n",
    "The median resale price for top 20 sec sch: $440000\n",
    "The median resale price for bottom 20 sec sch: $422000\n",
    "\n",
    "The median difference in resale price is too small. Bar plot above shows that nearest secondary school does not have obvious correlation with the resale price. This is better presented in the boxplot below, showing the direct relationship between cut off point and resale price.\n",
    "\n",
    "# 2.Primary School Name\n",
    "Similarly, assuming vacancy is the proxy of popularity of primary school: the lower the number of vacancies, the higher the popularity, the higher the resale price. Top 20 and bottom 20 primary schools are selected based on the number of vacancies to compare their mean resale values to investigate their correlation with resale price.\n",
    "\n",
    "The median resale price for top 20 pri sch: $428000\n",
    "The median resale price for bottom 20 pri sch: $430000\n",
    "\n",
    "Similarly, the median difference in resale price is insufficient for variable \"pri_sch_name\" to be included in the model. Bar plot does not indicate any significant correlation between primary school and resale price. A boxplot is presented below for direct observation of their relationship.\n",
    "\n",
    "# 3. Town & Planning Area\n",
    "The difference between town and planning area is the region included. Some towns have subdivided into different planning area (as displayed below). Hence, town and planning area should not be included in the model together, as they will create  multicollinearity problem. In this model, planning area will be included instead of town is because the boxplot shows the median difference between planning area is larger than mean difference between town.\n",
    "\n",
    "# 4. Flat Model\n",
    "As seen from the boxplot, most of the groups are differentiable with different range of resale price. Therefore, flat_model will also be included in this model. However, count blot shows the proportion of each groups differ significantly. Substantial amount of outliers present.\n",
    "\n",
    "# 5. MRT Name\n",
    "The boxplot shows that resale price varies depending on the nearest mrt to the resale flat. Therefore, it will be included in the model.\n"
   ]
  },
  {
   "attachments": {},
   "cell_type": "markdown",
   "metadata": {},
   "source": [
    "## Selected X Variables for Modeling from EDA\n",
    "Flat type, floor area in sqm, hdb age, max floor lvl, number of 3 rooms in the block of resale flat, number of 5 room in the block of resale flat, strorey range (using lowest range), planning area, flat model and mrt name."
   ]
  },
  {
   "attachments": {},
   "cell_type": "markdown",
   "metadata": {},
   "source": [
    "## Preprocessing\n",
    "# 1. One hot encoding for flat model\n",
    "# 2. Target encoding for MRT name and planning area\n",
    "# 3. Train test split is 75%/25%\n",
    "# 4. Standard Scaling is applied"
   ]
  },
  {
   "attachments": {},
   "cell_type": "markdown",
   "metadata": {},
   "source": [
    "## Baseline Model (OLS)\n",
    "The baseline model will be based on the continuos variables that have correlation of more than 0.5 with resale price, which include the following independent variables: 1. flat_type_encoded 2. floor_area_sqm\n",
    "\n",
    "# R2 score\n",
    "R2 score for training set: 0.4454\n",
    "R2 score for validation set: 0.4452\n",
    "Cross Val Score: 0.4453\n",
    "\n",
    "# RMSE and Median Resale Price\n",
    "Training data RMSE: 106713.97070828885\n",
    "Validation data RMSE: 106783.66408297708\n",
    "Median: 420000.0\n",
    "\n",
    "The R2 score is too low that these two factors only explains 44% of the resale price variation. The RMSE of both train and val datasets are 106k SGD. When the average resale price is 420 SGD, the error accounted for around 25%. This is a underfitted model as the error on both the training and validation sets is very high. We expect to build a model with more independent variables to capture as much signal as possible, with lower prediction error."
   ]
  },
  {
   "attachments": {},
   "cell_type": "markdown",
   "metadata": {},
   "source": [
    "## First Attempt on Modeling\n",
    "The 29 features selected in the EDA process.\n",
    "\n",
    "The continuos features are \"floor_area_sqm\", \"hdb_age\", \"max_floor_lvl\", \"3room_sold\", \"5room_sold\".\n",
    "\n",
    "The encoded variables are \"planning_area_encoded\", \"mrt_name_encoded\", 'flat_type_encoded', 'storey_range_encoded', 'mrt_name_encoded', and 20 one-hot encoded 'flat_model'.\n",
    "\n",
    "# R2 score\n",
    "Linear Regression:\n",
    "R2 score for training set: 0.7736\n",
    "R2 score for validation set: 0.7748\n",
    "Cross Val Score: 0.7734\n",
    "\n",
    "Ridge Regression:\n",
    "R2 score for training set: 0.7736\n",
    "R2 score for validation set: 0.7748\n",
    "Cross Val Score: 0.7734\n",
    "\n",
    "Lasso Regression:\n",
    "R2 score for training set: 0.7715\n",
    "R2 score for validation set: 0.7724\n",
    "Cross Val Score: 0.7713\n",
    "\n",
    "No overfitting in these three models. The score means that x variables explain 77% of variation of target variable. Since R2 Score for validation set are similar to Cross Val Score, it means this is a representative test set, no sampling error issue.\n",
    "\n",
    "The best model should be the one with highest Cross Val Score, which is Ridge Regression. This is a better model comparing to baseline model. Since Lasso tends to outperformed only if there are a small number of significant parameters and Ridge works well if there are many large parameters of about the same value, it can be concluded that most of the variables included in this model are significant.\n",
    "\n",
    "The influential variables are those with higher coefficient, with flat_model_terrace, flat_model_2-room, flat_model_improved-maisonette, flat_model_model_a2, flat_model_dbss being the top five important in Ridge regression. Since all of them are flat model, we have high confidence to claim that flat model afect the resale price the most. This is followed by floor area, max floor lvl, nearest mrt name, planning area and flat types.\n",
    "\n",
    "# RMSE\n",
    "Linear Regression:\n",
    "RMSE for training set: 68183.82362872202\n",
    "RMSE for validation set: 68033.3656890765\n",
    "Cross Val Score: 68205.74295935957\n",
    "\n",
    "Ridge Regression:\n",
    "RMSE for training set: 68183.8334\n",
    "RMSE for validation set: 68033.1171\n",
    "Cross Val Score: 68205.5797\n",
    "\n",
    "Lasso Regression:\n",
    "RMSE for training set: 68498.7809\n",
    "RMSE for validation set: 68397.6579\n",
    "Cross Val Score: 68520.5629\n",
    "\n",
    "The average distance/error in terms of resale price prediction $68k. The best model will be the model with lowest RMSE, which is Ridge Regression in this case. The prediction power is significantly improved from the baseline model."
   ]
  },
  {
   "attachments": {},
   "cell_type": "markdown",
   "metadata": {},
   "source": [
    "## Second Attempt on Modeling\n",
    "As the R2 score for three models in first attempts are similar and no overfitting shown, we could try to improve the the prediction power by adding more variables, with goal to be above 80%. K-best feature selection with k=15 is used.\n",
    "\n",
    "The features included the same encoded variables as the first model, which are \"planning_area_encoded\", \"mrt_name_encoded\", 'flat_type_encoded', 'storey_range_encoded', 'mrt_name_encoded', and 20 one-hot encoded 'flat_model'.\n",
    "\n",
    "Kbest is applied on continuos features only, using f-regression method.\n",
    "\n",
    "Lasso regression shrinks 11 regression coefficients toward zero by penalizing the regression model with a penalty term called L1-norm. 10 of them are one-hot encoded variables. Another is bus_stop_latitude. The reason Lasso model turns them into zero is due to their multicollinearity. By turning some of them into zero, other variables such as floor area, mrt latitude, hdb age and max floor lvl emerge as the powerful variables in resale price determination.\n",
    "\n",
    "# score\n",
    "Linear Regression:\n",
    "R2 score for training set: 0.8352\n",
    "R2 score for validation set: 0.8347\n",
    "Cross Val Score: 0.8350\n",
    "\n",
    "Ridge Regression:\n",
    "R2 score for training set: 0.8352\n",
    "R2 score for validation set: 0.8347\n",
    "Cross Val Score: 0.8350\n",
    "\n",
    "Lasso Regression:\n",
    "R2 score for training set: 0.8331\n",
    "R2 score for validation set: 0.8325\n",
    "Cross Val Score: 0.8329\n",
    "\n",
    "No overfitting in these three models. The score indicates that 83% of variation of target variable is explained by the independent variables. Since R2 Score for validation set are similar to Cross Val Score, it means this is a representative test set, no sampling error issue. The best model should be the one with highest Cross Val Score, which is Ridge Regression, same as the result from first attempt, but with better prediction power.\n",
    "\n",
    "The k_best method has provided a better score from 77% with 29 independent variables to 83% with additional 10 independent variables. The additional variables are 'total_dwelling_units', '2room_sold', 'exec_sold', 'latitude', 'hawker_within_2km', 'mrt_nearest_distance','mrt_latitude', 'bus_stop_latitude', 'pri_sch_latitude', 'sec_sch_latitude'.\n",
    "\n",
    "The difference for ridge model between first and second attempt is that the top five important variables are [flat_model_terrace, flat_model_improved-maisonette, flat_model_model_a2, flat_model_model_a and floor_area_sqm]. While for first attempt was [flat_model_terrace, flat_model_2-room, flat_model_improved-maisonette, flat_model_model_a2, flat_model_dbss].\n",
    "\n",
    "Flat model undeniable has the most impact on determination of resale price, and it followed by floor area, mrt latitude, pri sch latitude and hdb age in the attempt. This is different from the order in first attempt: floor area, max floor lvl, nearest mrt name, planning area and flat types. Mrt latitude and pri sch latitude that both have same correlation of -0.21 with resale price emerge to have higher impact than other variables that have higher correlation (shown in heat map), such as number of 3room in the block of resale flat (corr=-0.41), hdb age (corr=-0.35), flat type (corr=0.66) and max floor lvl (corr=0.5).\n",
    "\n",
    "# RMSE\n",
    "Linear Regression:\n",
    "RMSE for training set: 58176.8600\n",
    "RMSE for validation set: 58281.5263\n",
    "Cross Val Score: 58200.7634\n",
    "\n",
    "Ridge Regression:\n",
    "RMSE for training set: 58176.8639\n",
    "RMSE for validation set: 58281.5829\n",
    "Cross Val Score: 58200.6944\n",
    "\n",
    "Lasso Regression:\n",
    "RMSE for training set: 58540.9614\n",
    "RMSE for validation set: 58680.8064\n",
    "Cross Val Score: 58562.0181\n",
    "\n",
    "The average distance/error in terms of resale price prediction is 58k SGD. The best model will be the model with lowest RMSE, which is Ridge Regression, same as in first attempt. The prediction power has increased notably by reducing the average error from 100k SGD using baseline model, to 58k SGD using Ridge model with k-best feature selection method."
   ]
  },
  {
   "attachments": {},
   "cell_type": "markdown",
   "metadata": {},
   "source": [
    "## Most important features in Ridge model\n",
    "Flat model is the most influential variables in determination of resale price. Among the model, hdb terrace stand out to be the first that has highest sensitivity to the resale price. Hdb terrace was last built in the 1960s, with 99 year lease. It is a landed properties with a backyard, hence with a bigger built up area. The reason terrace flat model is sensitive to resale price are firstly, this is a rare model landed property that has much reasonable price compared to private landed house. Secondly, buyers could be looking for an en bloc windfall (Property Guru Editorial Team, 2021). However, Ryan (2021) highlighted that the hdb terrace might have higher depreciation rate as it near the last 20-30 year lease, mainly due to financing issue. Hence, it is worth noting that the prediction power of resale price for this flat model in the future might turn weaker.\n",
    "\n",
    "Larger and rare flats in general associated with higher selling price. This is supported by article written by Property Guru Editorial Team (2022) that rare type of resale flat, such as an HDB maisonette or jumbo flat are highly in demand as it is not in production anymore.\n",
    "\n",
    "Ridge model shows a large coefficient positively related between mrt and resale price, and a large coefficient negatively related between pri sch and resale price. The plot below clearly shows the location of the different latitudes in Singapore. The larger the mrt latitude, towards the cluster at the north region, the higher resale price we can expect. This means that the higher resale price in north region is mainly due to the variable mrt. This could probably explained by Eugenia (2020) article that those regions with less accessibility tend to have greater appreciation with the opening of new mrt. Comparing to central region which are already high priced due to its prime location and better serviced by more bus routes and mrt stations, resale price in central region will have lower impact by the nearby mrt. The higher resale price is represented by darker color intensity. Therefore, the reason central region has higher resale price must be due to other variables.\n",
    "\n",
    "Whereas the smaller the pri and sec school latitude, which is closer to the area around the singapore central region, the higher the resale price. There is no article or evidence to show the reason behind this, it could be explored further in other analysis.\n",
    "\n",
    "The 10 mrt names, pri and sec school names that have the highest impact on resale price of nearby flat are listed for reference.\n",
    "\n",
    "\n",
    "Eugenia, L. (2020). How Does Distance to MRT Affect Property Prices in Singapore? Retrieved from https://www.propertyguru.com.sg/property-guides/mrt-effect-on-property-prices-39498 \n",
    "\n",
    "Property Guru Editorial Team. (2021). HDB terrace houses: 6 of thesepublic landed properties under 1 million. Retrieved from https://www.propertyguru.com.sg/property-guides/cheap-hdb-terrace-house-under-850k-35237 \\ \n",
    "\n",
    "Property Guru Editorial Team. (2022). 3 Top Factors Affecting HDB Valuation in Singapore: What HDB Resale Buyers Need to Know. Retrieved from https://www.propertyguru.com.sg/property-guides/hdb-valuation-sales-12882 \\ \n",
    "\n",
    "Ryan. (2021). HDB landed terrace houses: 5 factors you must consider before buying one. Retrieved from https://stackedhomes.com/editorial/hdb-landed-terrace-houses-5-factors-you-must-consider-before-buying-one/#gs.qukkha"
   ]
  },
  {
   "attachments": {},
   "cell_type": "markdown",
   "metadata": {},
   "source": [
    "Scores\n",
    "Model\tCV R2 Score (Train)\tCV RMSE (Train)\n",
    "Baseline Model\t0.4453\t106873.66\n",
    "---\t---\t---\n",
    "OLS using EDA feature selection\t0.7734\t68205.74\n",
    "Ridge Regression using EDA feature selection\t0.7734\t68205.58\n",
    "Lasso Regression using EDA feature selection\t0.7713\t68519.83\n",
    "---\t---\t---\n",
    "OLS using K-best (k=15, f-reg)\t0.8350\t58200.76\n",
    "Ridge Regression using K-best (k=15, f-reg)\t0.8350\t58200.69\n",
    "Lasso Regression using K-best (k=15, f-reg)\t0.8329\t58562.00\n",
    "---\t---\t---\n",
    "Kaggle Submission Score (public)\t-\t57657.40\n",
    "Kaggle Submission Score (private)\t-\t59412.28\n",
    "\n",
    "\n",
    "Ridge model using K-best feature selection is the best model to predict the price of HDB resale flat with minimal errors and high accuracy, represented by highest R2 score and lowest RMSE. This model has been significantly improved from baseline model that has 44% R2 score and the models with lesser variables selected during EDA process that has 77% accuracy score.\n",
    "\n",
    "Ridge model trades variance for bias. It is usually better than OLS when there are a large number of variables included because it has a penalty term to reduce overfitting and improve generalization to the testing set. However, one should notice that these two models have the same R2 score and just a few cents difference in average prediction error (RMSE). Both are working well and it mean that the variables included are mostly important and no overfitting, so penalizing effect imposed from ridge model is rather weak. This could also mean that the prediction power still has room for improvement by adding more variables to capture more signals.\n",
    "\n",
    "Ridge model has lesser error compared to Lasso model is because Lasso tends to work well when there are only a handful of true predictors. Since in this case the selected variables are appropriate, its penalty effect to reduce coefficients that are highly correlated into zero turns the model to have higher variance than other models as it missing some important signals. This is the limitation of LASSO where it is unable to do group selection. If there is a group of variables among which the pairwise correlations are very high, then the LASSO tends to arbitrarily select only one variable from the group. That is the reason it turns most of the one-hot encoded variables into zero, and with less signal in the model, it performs slightly worse than Ridge model.\n",
    "\n",
    "In accordance to the coefficients in the best model in this project, the order of importance in ascending order is as follow: flat model (particularly terrance), floor area in sqm, mrt latitude (similar to mrt name), pri school latitude, hdb age, sec school latitude, max floor lvl, hawker within 2km, bus stop latitude, latitude based on postal code, mrt nearest distance, planning area, flat type."
   ]
  },
  {
   "attachments": {},
   "cell_type": "markdown",
   "metadata": {},
   "source": [
    "## Recommendation and Limitation\n",
    "Although the R2 score is above 80%, there is room for improvement, this could be done by adding model complexity to capture as much signals as possible. One of the recommendation is to include GDP and interest rate datasets to analyse the trend of the resale price because macroeconomic factors could have a large impact on resale price. The demand and supply of resale flat and the upward and downward trend in the resale price over the years fluctuates as seen in the EDA process. Additionally, polynomial features should be analysed to examine their combination effect on resale price.\n",
    "\n",
    "Also, target encoding has been applied to mrt name and planning area. It could be improved by taken into consideration the weight based on the count of the groups to be a more accurate indicator. Also, a number of outliers have been observed in the EDA process, and this should be removed or eliminated in order to generalize the effect on resale price. While standard scaler is highly influenced by outliers, robust scaling is recommended for better measurement."
   ]
  }
 ],
 "metadata": {
  "language_info": {
   "name": "python"
  },
  "orig_nbformat": 4
 },
 "nbformat": 4,
 "nbformat_minor": 2
}
