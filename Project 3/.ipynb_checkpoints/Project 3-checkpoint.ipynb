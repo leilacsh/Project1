{
 "cells": [
  {
   "cell_type": "markdown",
   "id": "18e651f2",
   "metadata": {},
   "source": [
    "<img src=\"http://imgur.com/1ZcRyrc.png\" style=\"float: left; margin: 20px; height: 55px\">\n",
    "\n",
    "# Project 3: Categorise Subreddit Posts Using Classification ML"
   ]
  },
  {
   "cell_type": "markdown",
   "id": "32fa5d53",
   "metadata": {},
   "source": [
    "## Background"
   ]
  },
  {
   "cell_type": "code",
   "execution_count": null,
   "id": "f68bf84e",
   "metadata": {},
   "outputs": [],
   "source": []
  },
  {
   "cell_type": "markdown",
   "id": "86050a0b",
   "metadata": {},
   "source": [
    "## Problem Statement"
   ]
  },
  {
   "cell_type": "markdown",
   "id": "96205c8a",
   "metadata": {},
   "source": [
    "I am working for a non-profit organization that provides support and resources for individuals who are deaf or blind. The organization is interested in using social media to engage with the deaf and blind community, and has decided to start with Reddit. Your task is to develop a machine learning model that can classify posts from the r/deaf and r/blind subreddits based on their content.\n",
    "\n",
    "The goal of the project is to create a tool that can help the organization identify popular topics and trends within the deaf and blind communities, and tailor their social media outreach accordingly. The model should be able to accurately classify posts as either deaf-related or blind-related based on the text content of the post. The organization is primarily interested in the following topics:\n",
    "\n",
    "- Assistive technology and devices for the deaf or blind\n",
    "- Education and advocacy for the deaf or blind\n",
    "- Social issues and discrimination faced by the deaf or blind\n",
    "- Personal stories and experiences related to deafness or blindness\n",
    "\n",
    "Your team has already scraped a large amount of data from the r/deaf and r/blind subreddits, and has prepared a dataset of posts labeled as either deaf-related or blind-related. Your task is to develop a machine learning model that can learn to classify new posts based on this labeled dataset. You will need to preprocess the text data, extract relevant features, and train and evaluate the model using appropriate metrics.\n",
    "\n",
    "The organization has requested that you develop a web-based tool that can take a new post as input, and classify it as either deaf-related or blind-related. The tool should also provide visualizations and insights into the most popular topics and trends within each community, based on the posts that have been classified. The tool will be used by the organization to guide their social media outreach and engagement with the deaf and blind community."
   ]
  },
  {
   "cell_type": "markdown",
   "id": "9a6c271d",
   "metadata": {},
   "source": [
    "I am working on a project that aims to investigate the differences in language used by the Reddit community of individuals who identify as either blind or deaf. You are interested in understanding how these two groups of individuals communicate online and if there are any distinct language patterns or features that could help distinguish between them.\n",
    "\n",
    "To collect your data, you use Reddit's API to extract posts and comments made by users who have identified themselves as either blind or deaf in their profiles. You then preprocess the data to remove any personal identifying information and clean the text by removing special characters, stopwords, and other noise.\n",
    "\n",
    "Using this data, you conduct an exploratory analysis to identify any differences in the language used by the two groups. You might use techniques such as topic modeling or sentiment analysis to identify any distinct themes or emotions in the posts and comments.\n",
    "\n",
    "After analyzing the data, you decide to build a binary classification model that can predict whether a post or comment was written by a blind or deaf user based on the language used. To train your model, you split the data into training and testing sets, preprocess the text data, and use machine learning algorithms such as logistic regression or support vector machines to build the binary classification model.\n",
    "\n",
    "Once you have a trained model, you can use it to classify new posts and comments made by Reddit users as either written by a blind or deaf user. You can also analyze the results of your model to gain insights into the differences in language use between the two groups, such as the topics or emotions that are more prevalent in each group's posts and comments.\n",
    "\n",
    "Overall, your project could help shed light on the unique experiences and communication styles of the blind and deaf communities on Reddit and may have broader implications for how we understand and support individuals with disabilities in online communities."
   ]
  },
  {
   "cell_type": "markdown",
   "id": "33f504a5",
   "metadata": {},
   "source": [
    "Suppose you have collected data from posts and comments on Reddit from users who identify as either blind or deaf. You have collected information about their experiences, challenges, and preferences related to their disability.\n",
    "\n",
    "To develop a binary classification model, you use natural language processing (NLP) techniques to analyze the text data and identify patterns that distinguish between the two groups. You may use techniques such as sentiment analysis, topic modeling, or word frequency analysis to extract features that can be used to train your model.\n",
    "\n",
    "Once you have trained your model, you can use it to predict whether a new post or comment is from a user who is blind or deaf. This information can be useful in developing targeted interventions or support programs for each group.\n",
    "\n",
    "For example, based on your analysis, you may find that deaf users tend to express frustration about the lack of closed captioning on online videos, while blind users often mention difficulties with navigating websites that are not accessible with screen readers. Armed with this information, you can work to develop solutions that address these specific challenges"
   ]
  },
  {
   "cell_type": "markdown",
   "id": "8438c11e",
   "metadata": {},
   "source": [
    "it is essential to consider the sensitivity and specificity in addition to the overall accuracy, especially in imbalanced datasets where the performance on the minority class is of particular interest."
   ]
  },
  {
   "cell_type": "markdown",
   "id": "77fccf1f",
   "metadata": {},
   "source": [
    "## Libraries"
   ]
  },
  {
   "cell_type": "code",
   "execution_count": 1,
   "id": "984185c8",
   "metadata": {},
   "outputs": [],
   "source": [
    "import requests\n",
    "import random\n",
    "import time\n",
    "import pandas as pd\n",
    "import numpy as np\n",
    "from bs4 import BeautifulSoup\n",
    "from sklearn.model_selection import train_test_split\n",
    "import re\n",
    "from nltk.tokenize import TreebankWordTokenizer, word_tokenize\n",
    "from nltk.stem import PorterStemmer\n",
    "from sklearn.feature_extraction.text import CountVectorizer, TfidfVectorizer\n",
    "from sklearn.pipeline import Pipeline\n",
    "from sklearn.linear_model import LogisticRegression\n",
    "from sklearn.naive_bayes import MultinomialNB\n",
    "from sklearn.neighbors import KNeighborsClassifier\n",
    "from sklearn.tree import DecisionTreeClassifier\n",
    "from sklearn.model_selection import GridSearchCV\n",
    "from sklearn.metrics import confusion_matrix, ConfusionMatrixDisplay\n",
    "from sklearn.metrics import accuracy_score, precision_score, recall_score"
   ]
  },
  {
   "cell_type": "markdown",
   "id": "f3aba3cb",
   "metadata": {},
   "source": [
    "## Data Collection"
   ]
  },
  {
   "cell_type": "code",
   "execution_count": 2,
   "id": "f892b9ea",
   "metadata": {},
   "outputs": [],
   "source": [
    "# #function to scrap reddit post\n",
    "# def get_reddit_post(subreddit, n):\n",
    "    \n",
    "#     #url and criteria to scrap posts\n",
    "#     url = \"https://api.pushshift.io/reddit/search/submission\"\n",
    "#     params = {\"subreddit\": subreddit, \"size\": 1000}\n",
    "    \n",
    "#     #list to store scraped data\n",
    "#     raw_data_list = []\n",
    "    \n",
    "#     #loops to get 1000 posts once until it meets the number requirement (n)\n",
    "#     while len(raw_data_list) < n:\n",
    "#         request = requests.get(url, params=params)\n",
    "        \n",
    "#         #if server has successfully processed the request\n",
    "#         if request.status_code == 200:\n",
    "#             raw_data = request.json()[\"data\"]\n",
    "#             raw_data_list.extend(raw_data)\n",
    "#             print(f\"Imported {len(raw_data_list)} posts related to {subreddit}...\")\n",
    "\n",
    "#             #new criteria (older date) to pass in next round of retrieval\n",
    "#             date_cutoff = raw_data[-1][\"created_utc\"]\n",
    "#             params = {\"subreddit\": subreddit, \"size\": 1000, \"before\": date_cutoff}\n",
    "                \n",
    "#         #if not, break the loop\n",
    "#         else:\n",
    "#             print(\"Status code: \", request.status_code)\n",
    "#             print(\"Failed to retrieved data.\")\n",
    "#             continue\n",
    "            \n",
    "#         #generate random sleep duration to simulate human user behavior\n",
    "#         sleep_duration = random.randint(5,15)\n",
    "#         time.sleep(sleep_duration)\n",
    "    \n",
    "#     return raw_data_list"
   ]
  },
  {
   "cell_type": "code",
   "execution_count": 3,
   "id": "eebe50e8",
   "metadata": {
    "scrolled": true
   },
   "outputs": [],
   "source": [
    "# %%time\n",
    "# #scrap 'blind' related post\n",
    "# #n=2500 because this subreddit contains more rows that are less informative\n",
    "# blind = get_reddit_post(\"Blind\", 2500)"
   ]
  },
  {
   "cell_type": "code",
   "execution_count": 4,
   "id": "9b717ed8",
   "metadata": {},
   "outputs": [],
   "source": [
    "# %%time\n",
    "# #scrap 'deaf' related post\n",
    "# deaf = get_reddit_post(\"deaf\", 2000)"
   ]
  },
  {
   "cell_type": "code",
   "execution_count": 5,
   "id": "7b050f2d",
   "metadata": {},
   "outputs": [],
   "source": [
    "# #create a list to include interested features\n",
    "# features = ['subreddit', 'title', 'selftext']\n",
    "\n",
    "# #create dataframe for each subreddits\n",
    "# df_blind = pd.DataFrame(blind)[features]\n",
    "# df_deaf = pd.DataFrame(deaf)[features]\n",
    "\n",
    "# #combine both dataframes\n",
    "# df = pd.concat([df_blind, df_deaf], axis=0)\n",
    "\n",
    "# #save as csv\n",
    "# df.to_csv(\"blind_and_deaf.csv\", index=False)"
   ]
  },
  {
   "cell_type": "code",
   "execution_count": 6,
   "id": "caf92250",
   "metadata": {},
   "outputs": [],
   "source": [
    "#pls ignore this\n",
    "# content_type = request.headers.get(\"content-type\")"
   ]
  },
  {
   "cell_type": "markdown",
   "id": "308b7f7a",
   "metadata": {},
   "source": [
    "## Data Loading"
   ]
  },
  {
   "cell_type": "code",
   "execution_count": 7,
   "id": "718ff571",
   "metadata": {},
   "outputs": [],
   "source": [
    "df = pd.read_csv(\"blind_and_deaf.csv\")"
   ]
  },
  {
   "cell_type": "markdown",
   "id": "21f665e8",
   "metadata": {},
   "source": [
    "## Data Cleaning: Initial Check"
   ]
  },
  {
   "cell_type": "code",
   "execution_count": 8,
   "id": "747ead96",
   "metadata": {},
   "outputs": [
    {
     "data": {
      "text/html": [
       "<div>\n",
       "<style scoped>\n",
       "    .dataframe tbody tr th:only-of-type {\n",
       "        vertical-align: middle;\n",
       "    }\n",
       "\n",
       "    .dataframe tbody tr th {\n",
       "        vertical-align: top;\n",
       "    }\n",
       "\n",
       "    .dataframe thead th {\n",
       "        text-align: right;\n",
       "    }\n",
       "</style>\n",
       "<table border=\"1\" class=\"dataframe\">\n",
       "  <thead>\n",
       "    <tr style=\"text-align: right;\">\n",
       "      <th></th>\n",
       "      <th>subreddit</th>\n",
       "      <th>title</th>\n",
       "      <th>selftext</th>\n",
       "    </tr>\n",
       "  </thead>\n",
       "  <tbody>\n",
       "    <tr>\n",
       "      <th>0</th>\n",
       "      <td>Blind</td>\n",
       "      <td>Idea for a pokemon rom hack for blind people</td>\n",
       "      <td>I myself am not blind but I wanted to share th...</td>\n",
       "    </tr>\n",
       "    <tr>\n",
       "      <th>1</th>\n",
       "      <td>Blind</td>\n",
       "      <td>Light for stove</td>\n",
       "      <td>I'm looking for ideas for more light on my sto...</td>\n",
       "    </tr>\n",
       "    <tr>\n",
       "      <th>2</th>\n",
       "      <td>Blind</td>\n",
       "      <td>Does anyone use a Mail reading service?</td>\n",
       "      <td>I imagine this exists but I don't know where t...</td>\n",
       "    </tr>\n",
       "    <tr>\n",
       "      <th>3</th>\n",
       "      <td>Blind</td>\n",
       "      <td>Vision buddy</td>\n",
       "      <td>[removed]</td>\n",
       "    </tr>\n",
       "    <tr>\n",
       "      <th>4</th>\n",
       "      <td>Blind</td>\n",
       "      <td>What would you say are some must have resource...</td>\n",
       "      <td>NaN</td>\n",
       "    </tr>\n",
       "  </tbody>\n",
       "</table>\n",
       "</div>"
      ],
      "text/plain": [
       "  subreddit                                              title  \\\n",
       "0     Blind       Idea for a pokemon rom hack for blind people   \n",
       "1     Blind                                    Light for stove   \n",
       "2     Blind            Does anyone use a Mail reading service?   \n",
       "3     Blind                                       Vision buddy   \n",
       "4     Blind  What would you say are some must have resource...   \n",
       "\n",
       "                                            selftext  \n",
       "0  I myself am not blind but I wanted to share th...  \n",
       "1  I'm looking for ideas for more light on my sto...  \n",
       "2  I imagine this exists but I don't know where t...  \n",
       "3                                          [removed]  \n",
       "4                                                NaN  "
      ]
     },
     "execution_count": 8,
     "metadata": {},
     "output_type": "execute_result"
    }
   ],
   "source": [
    "df.head()"
   ]
  },
  {
   "cell_type": "markdown",
   "id": "ad1f28ac",
   "metadata": {},
   "source": [
    "## Data Cleaning: Null Value"
   ]
  },
  {
   "cell_type": "code",
   "execution_count": 9,
   "id": "edf5105b",
   "metadata": {},
   "outputs": [
    {
     "data": {
      "text/plain": [
       "subreddit       0\n",
       "title           0\n",
       "selftext     1855\n",
       "dtype: int64"
      ]
     },
     "execution_count": 9,
     "metadata": {},
     "output_type": "execute_result"
    }
   ],
   "source": [
    "#check for number of null value\n",
    "df.isnull().sum()"
   ]
  },
  {
   "cell_type": "code",
   "execution_count": 10,
   "id": "57ffd458",
   "metadata": {
    "scrolled": false
   },
   "outputs": [],
   "source": [
    "#drop null value that appears only in selftext\n",
    "#selftext is generally more informative\n",
    "df = df.dropna(axis=0)"
   ]
  },
  {
   "cell_type": "markdown",
   "id": "05335047",
   "metadata": {},
   "source": [
    "## Data Cleaning: Content"
   ]
  },
  {
   "cell_type": "code",
   "execution_count": 11,
   "id": "a7c25d6d",
   "metadata": {
    "scrolled": true
   },
   "outputs": [
    {
     "data": {
      "text/plain": [
       "(522, 3)"
      ]
     },
     "execution_count": 11,
     "metadata": {},
     "output_type": "execute_result"
    }
   ],
   "source": [
    "# check for content \"[removed]\" and \"[deleted]\"\n",
    "row_removed_deleted = df[(df[\"title\"] == \"[removed]\") | (df[\"selftext\"] == \"[removed]\") |\n",
    "                         (df[\"title\"] == \"[deleted]\") | (df[\"selftext\"] == \"[deleted]\")]\n",
    "row_removed_deleted.shape"
   ]
  },
  {
   "cell_type": "code",
   "execution_count": 12,
   "id": "0af97ede",
   "metadata": {},
   "outputs": [],
   "source": [
    "# drop those row that have content being removed because it is not informative\n",
    "df = df.drop(row_removed_deleted.index, axis=0).reset_index(drop=True)"
   ]
  },
  {
   "cell_type": "markdown",
   "id": "066dd7ae",
   "metadata": {},
   "source": [
    "## Data Cleaning: Duplication"
   ]
  },
  {
   "cell_type": "code",
   "execution_count": 13,
   "id": "17fa0782",
   "metadata": {},
   "outputs": [
    {
     "data": {
      "text/plain": [
       "(10, 3)"
      ]
     },
     "execution_count": 13,
     "metadata": {},
     "output_type": "execute_result"
    }
   ],
   "source": [
    "#check for duplicated row\n",
    "row_duplicated = df[df.duplicated()]\n",
    "row_duplicated.shape"
   ]
  },
  {
   "cell_type": "code",
   "execution_count": 14,
   "id": "75e06bb1",
   "metadata": {},
   "outputs": [],
   "source": [
    "#drop duplicated row\n",
    "df = df.drop(row_duplicated.index, axis=0).reset_index(drop=True)"
   ]
  },
  {
   "cell_type": "markdown",
   "id": "9556ab8c",
   "metadata": {},
   "source": [
    "## Data Cleaning: Data Type"
   ]
  },
  {
   "cell_type": "code",
   "execution_count": 15,
   "id": "27d659ca",
   "metadata": {},
   "outputs": [
    {
     "name": "stdout",
     "output_type": "stream",
     "text": [
      "<class 'pandas.core.frame.DataFrame'>\n",
      "RangeIndex: 3243 entries, 0 to 3242\n",
      "Data columns (total 3 columns):\n",
      " #   Column     Non-Null Count  Dtype \n",
      "---  ------     --------------  ----- \n",
      " 0   subreddit  3243 non-null   object\n",
      " 1   title      3243 non-null   object\n",
      " 2   selftext   3243 non-null   object\n",
      "dtypes: object(3)\n",
      "memory usage: 76.1+ KB\n"
     ]
    }
   ],
   "source": [
    "df.info()"
   ]
  },
  {
   "cell_type": "markdown",
   "id": "68625f7d",
   "metadata": {},
   "source": [
    "## Data Cleaning: Final Data Set"
   ]
  },
  {
   "cell_type": "code",
   "execution_count": 16,
   "id": "a52787ed",
   "metadata": {},
   "outputs": [],
   "source": [
    "# create a column to combine both column \"title\" and \"selftext\"\n",
    "df[\"title_selftext\"] = df[\"title\"] + \" \" + df[\"selftext\"]\n",
    "\n",
    "# masking to extract only interested column\n",
    "df = df[[\"subreddit\", \"title_selftext\"]]"
   ]
  },
  {
   "cell_type": "markdown",
   "id": "6723a906",
   "metadata": {},
   "source": [
    "## Data Dictionary"
   ]
  },
  {
   "cell_type": "markdown",
   "id": "9d45bab1",
   "metadata": {},
   "source": [
    "|Feature|Type|Dataset|Description|\n",
    "|---|---|---|---|\n",
    "|**subreddit**|*object*|blind, deaf|0 represent blind, 1 represent deaf.|\n",
    "|**title_selftext**|*object*|title, selftext| Combination of words in title and selftext.|\\"
   ]
  },
  {
   "cell_type": "markdown",
   "id": "e0409681",
   "metadata": {},
   "source": [
    "## Data Preprocessing: Binarize Target Variable"
   ]
  },
  {
   "cell_type": "code",
   "execution_count": 17,
   "id": "965412d5",
   "metadata": {},
   "outputs": [],
   "source": [
    "#convert subreddit into binary group\n",
    "#0 represent blind\n",
    "#1 represent deaf\n",
    "df[\"subreddit\"] = df[\"subreddit\"].map({\"Blind\":0, \"deaf\": 1})"
   ]
  },
  {
   "cell_type": "markdown",
   "id": "3bdb1148",
   "metadata": {},
   "source": [
    "## Data Preprocessing: HTML Tags and URL Links"
   ]
  },
  {
   "cell_type": "code",
   "execution_count": 18,
   "id": "0a0f74fd",
   "metadata": {},
   "outputs": [
    {
     "name": "stderr",
     "output_type": "stream",
     "text": [
      "C:\\Users\\szehu\\anaconda3\\lib\\site-packages\\bs4\\__init__.py:435: MarkupResemblesLocatorWarning: The input looks more like a filename than markup. You may want to open this file and pass the filehandle into Beautiful Soup.\n",
      "  warnings.warn(\n"
     ]
    }
   ],
   "source": [
    "def remove_html(content):\n",
    "    soup = BeautifulSoup(content, \"html.parser\")\n",
    "    text = soup.get_text()\n",
    "    # remove all newline, tab, and carriage return characters\n",
    "    text = text.replace('\\n', '').replace('\\t', '').replace('\\r', '')\n",
    "    return text\n",
    "    \n",
    "df[\"title_selftext\"] = df[\"title_selftext\"].apply(remove_html)"
   ]
  },
  {
   "cell_type": "code",
   "execution_count": 19,
   "id": "0b84b552",
   "metadata": {},
   "outputs": [],
   "source": [
    "def remove_urls(text):\n",
    "    # Define the regular expression pattern to match URLs\n",
    "    url_pattern = re.compile(r'https?://\\S+|www\\.\\S+')\n",
    "    \n",
    "    # Replace all matched URLs with an empty string\n",
    "    cleaned_text = url_pattern.sub('', text)\n",
    "    \n",
    "    return cleaned_text\n",
    "\n",
    "df[\"title_selftext\"] = df[\"title_selftext\"].apply(remove_urls)"
   ]
  },
  {
   "cell_type": "markdown",
   "id": "74b78854",
   "metadata": {},
   "source": [
    "## Data Preprocessing: Train and Split"
   ]
  },
  {
   "cell_type": "code",
   "execution_count": 20,
   "id": "64083c4d",
   "metadata": {},
   "outputs": [
    {
     "data": {
      "text/plain": [
       "1    0.539315\n",
       "0    0.460685\n",
       "Name: subreddit, dtype: float64"
      ]
     },
     "execution_count": 20,
     "metadata": {},
     "output_type": "execute_result"
    }
   ],
   "source": [
    "#check for value count to make sure groups are balanced\n",
    "df[\"subreddit\"].value_counts(normalize=True)"
   ]
  },
  {
   "cell_type": "code",
   "execution_count": 21,
   "id": "bbcaf471",
   "metadata": {},
   "outputs": [],
   "source": [
    "#define X and y\n",
    "X = df[\"title_selftext\"]\n",
    "y = df[\"subreddit\"]\n",
    "\n",
    "#split 0.75 to train and 0.25 to test set\n",
    "X_train, X_test, y_train, y_test = train_test_split(X,\n",
    "                                                    y,\n",
    "                                                    test_size=0.25,\n",
    "                                                    stratify=y,\n",
    "                                                    random_state= 33)"
   ]
  },
  {
   "cell_type": "markdown",
   "id": "cd26d16f",
   "metadata": {},
   "source": [
    "## NLP Setting"
   ]
  },
  {
   "cell_type": "markdown",
   "id": "142468b3",
   "metadata": {},
   "source": [
    "Stopwords: \n",
    "Two lists of stop words will be tested in gridsearchcv to find out the best performance parameter.\n",
    "1. \"english\" in count vectorizer + keywords: \"blind\" and \"deaf\".\n",
    "2. Only keywords: \"blind\" and \"deaf\"."
   ]
  },
  {
   "cell_type": "code",
   "execution_count": 22,
   "id": "db136e50",
   "metadata": {},
   "outputs": [],
   "source": [
    "#list of stop words from \"english\" in CountVectorizer\n",
    "stop_words = list(CountVectorizer(stop_words=\"english\").get_stop_words())\n",
    "\n",
    "#include the keywords in list of stop words\n",
    "keywords = [\"deaf\", \"blind\"]\n",
    "stop_words += keywords"
   ]
  },
  {
   "cell_type": "markdown",
   "id": "99cdc744",
   "metadata": {},
   "source": [
    "Tokenizer: A function is created using TreebankWordTokenizer(). It split text into words and punctuation marks, and is designed to handle common text formatting conventions like hyphenated words and contractions. It the removes non letter words, and eliminate token that has only 1 letter (less informative)."
   ]
  },
  {
   "cell_type": "code",
   "execution_count": 23,
   "id": "ae9bb2c5",
   "metadata": {},
   "outputs": [],
   "source": [
    "# tokenizer function\n",
    "def tokenizer(content):\n",
    "    \n",
    "    #initiate tokenizer\n",
    "    tokenizer = TreebankWordTokenizer()\n",
    "    tokens = tokenizer.tokenize(content)\n",
    "    \n",
    "    # Remove special characters and token that has only one letter using regex\n",
    "    non_empty_token = []             \n",
    "    for token in tokens:\n",
    "        cleaned_token = re.sub(r'[^\\w]+','',token)    #substitute non letter word to empty string\n",
    "        if cleaned_token and len(cleaned_token)>1:    #token that has one letter is not informative\n",
    "            non_empty_token.append(cleaned_token)     #append to list to remove empty string         \n",
    "        pass\n",
    "    return non_empty_token"
   ]
  },
  {
   "cell_type": "code",
   "execution_count": 24,
   "id": "b9c70200",
   "metadata": {},
   "outputs": [],
   "source": [
    "# #gave up using sent and word tokenizer from nltk.\n",
    "#Scores are almost same, but taking double time.\n",
    "\n",
    "# import nltk\n",
    "# from nltk.tokenize import sent_tokenize, word_tokenize\n",
    "\n",
    "# def tokenizer(content):\n",
    "#     # Tokenize into sentences\n",
    "#     sentences = sent_tokenize(content)\n",
    "\n",
    "#     # Tokenize each sentence into words\n",
    "#     tokens = []\n",
    "#     for sentence in sentences:\n",
    "#         words = word_tokenize(sentence)\n",
    "#         tokens.extend(words)\n",
    "\n",
    "#     # Remove special characters and tokens with only one letter\n",
    "#     non_empty_tokens = []\n",
    "#     for token in tokens:\n",
    "#         cleaned_token = re.sub(r'[^\\w]+', '', token)\n",
    "#         if cleaned_token and len(cleaned_token) > 1:\n",
    "#             non_empty_tokens.append(cleaned_token)\n",
    "\n",
    "#     return non_empty_tokens\n"
   ]
  },
  {
   "cell_type": "markdown",
   "id": "4250ac28",
   "metadata": {},
   "source": [
    "Stemmer: Porter Stemmer is used in this project, rather than WordNet Lemmatizer because lemmatizer is slower. Also, stemming tends to be cruder than using lemmatization which by default only works on nouns and handling grammar issue. Porter stemmer reduces a word to its root or base form, with the goal of grouping together all the different inflected forms of a word so they can be treated as a single item. "
   ]
  },
  {
   "cell_type": "code",
   "execution_count": 25,
   "id": "9a941b84",
   "metadata": {},
   "outputs": [],
   "source": [
    "def porterstemmer(content):\n",
    "    stemmer = PorterStemmer()\n",
    "    tokens = word_tokenize(content.lower())\n",
    "    \n",
    "    stemmed_token_list = []\n",
    "    for token in tokens:\n",
    "        stemmed_token = stemmer.stem(token)\n",
    "        if stemmed_token:\n",
    "            stemmed_token_list.append(stemmed_token)    #append to list to remove empty string and avoid TypeError\n",
    "        pass\n",
    "    \n",
    "    return stemmed_token"
   ]
  },
  {
   "cell_type": "markdown",
   "id": "99b30320",
   "metadata": {},
   "source": [
    "## Data Preprocessing: EDA"
   ]
  },
  {
   "cell_type": "markdown",
   "id": "94420419",
   "metadata": {},
   "source": [
    "##### 20 most important words"
   ]
  },
  {
   "cell_type": "code",
   "execution_count": 26,
   "id": "3a5c2d58",
   "metadata": {
    "scrolled": false
   },
   "outputs": [
    {
     "data": {
      "image/png": "[encoded data removed]",
      "text/plain": [
       "<Figure size 640x480 with 1 Axes>"
      ]
     },
     "metadata": {},
     "output_type": "display_data"
    }
   ],
   "source": [
    "cv = CountVectorizer(tokenizer=tokenizer,\n",
    "                    stop_words=\"english\")   #w/o removing keywords to compare the frequency\n",
    "\n",
    "X_df = cv.fit_transform(X_train)\n",
    "X_plot = pd.DataFrame(X_df.todense(), columns=cv.get_feature_names_out())\n",
    "\n",
    "X_plot.sum().sort_values(ascending=False).head(20).plot(kind=\"barh\");"
   ]
  },
  {
   "cell_type": "markdown",
   "id": "609ea605",
   "metadata": {},
   "source": [
    "The most important words appeared to include 'deaf' and 'blind'. That is the reason they are excluded in tokenization because it will be meaningless for classification if the keywords are included."
   ]
  },
  {
   "cell_type": "markdown",
   "id": "9b1b6c4f",
   "metadata": {},
   "source": [
    "##### Investigation of most important word 'nt'"
   ]
  },
  {
   "cell_type": "code",
   "execution_count": 27,
   "id": "24452740",
   "metadata": {},
   "outputs": [
    {
     "data": {
      "text/plain": [
       "0"
      ]
     },
     "execution_count": 27,
     "metadata": {},
     "output_type": "execute_result"
    }
   ],
   "source": [
    "# find word of 'nt' to see if this word has a special meaning or come our from contraction like isn't, hasn't, don't\n",
    "# check count of list to match with the frequency of word in plot\n",
    "count = 0\n",
    "for row in df[\"title_selftext\"]:\n",
    "    output = re.findall(r\"\\bnt\\b\", row)\n",
    "    if len(output) >=1:\n",
    "        print(output, \"\\n\", row, \"\\n\")\n",
    "        count += len(output)\n",
    "count"
   ]
  },
  {
   "cell_type": "code",
   "execution_count": 28,
   "id": "1aaa23ae",
   "metadata": {},
   "outputs": [
    {
     "data": {
      "text/plain": [
       "2731"
      ]
     },
     "execution_count": 28,
     "metadata": {},
     "output_type": "execute_result"
    }
   ],
   "source": [
    "# find word that end with 'nt' to confirm most of them are contraction\n",
    "# uncomment to see the output\n",
    "count = 0\n",
    "for row in df[\"title_selftext\"]:\n",
    "    output = re.findall(r\"\\b\\w*n't\\b\", row)\n",
    "    if len(output) >=1:\n",
    "#         print(output, \"\\n\", row, \"\\n\")\n",
    "        count += len(output)\n",
    "count"
   ]
  },
  {
   "cell_type": "markdown",
   "id": "3145f540",
   "metadata": {},
   "source": [
    "It is cleared that 'nt' has no special meaning, they are just contraction like can't, don't, hasn't, haven't...They are separated by tokenization. \n",
    "\n",
    "It is also important to highlight that most of the tokens appeared to be a common word in communication/ opinion expression. For example, 'just', 'know', 'does', 'want'. This could contribute to model overfitting. Hence, other than count vectorizer, tf-idf vectorizer will be utilized to take into consideration the weightage of each token. tf-idf vectorizer weights more heavily for words that occur often in one document but don't occur in many documents."
   ]
  },
  {
   "cell_type": "code",
   "execution_count": 29,
   "id": "8e07a6ad",
   "metadata": {
    "scrolled": true
   },
   "outputs": [
    {
     "data": {
      "text/plain": [
       "1796"
      ]
     },
     "execution_count": 29,
     "metadata": {},
     "output_type": "execute_result"
    }
   ],
   "source": [
    "# find word of 'deaf' to have a view of the community in reddit\n",
    "# uncomment to see the output\n",
    "count = 0\n",
    "for row in df[\"title_selftext\"]:\n",
    "    output = re.findall(r\"\\bdeaf\\b\", row)\n",
    "    if len(output) >=1:\n",
    "#         print(output, \"\\n\", row, \"\\n\")\n",
    "        count += len(output)\n",
    "count"
   ]
  },
  {
   "cell_type": "code",
   "execution_count": 30,
   "id": "cfa34124",
   "metadata": {
    "scrolled": true
   },
   "outputs": [
    {
     "data": {
      "text/plain": [
       "1333"
      ]
     },
     "execution_count": 30,
     "metadata": {},
     "output_type": "execute_result"
    }
   ],
   "source": [
    "# find word of 'blind' to have a view of the community in reddit\n",
    "# uncomment to see the output\n",
    "count = 0\n",
    "for row in df[\"title_selftext\"]:\n",
    "    output = re.findall(r\"\\bblind\\b\", row)\n",
    "    if len(output) >=1:\n",
    "#         print(output, \"\\n\", row, \"\\n\")\n",
    "        count += len(output)\n",
    "count"
   ]
  },
  {
   "cell_type": "markdown",
   "id": "a921bac3",
   "metadata": {},
   "source": [
    "## Modeling"
   ]
  },
  {
   "cell_type": "markdown",
   "id": "f5fe5d14",
   "metadata": {},
   "source": [
    "Modeling Function: A function is created to automate gridsearchcv. The following are included:\n",
    "1. training score\n",
    "2. testing score\n",
    "3. mean cross-validated score of the best_estimator (best score)\n",
    "4. confusion matrix\n",
    "5. accuracy score\n",
    "6. precision score\n",
    "7. sensitivity (recall/ true positive rate)\n",
    "8. specificity (true negative rate)\n",
    "9. best estimator\n",
    "\n",
    "Accuracy measures the number of correct predictions made by a model in relation to the total number of predictions made.\n",
    "\n",
    "Precision measures the proportion of positively predicted labels that are actually correct. This has lesser interest in this project as compared to accuracy.\n",
    "\n",
    "However, because accuracy could be affected by imbalance class in the subreddit posts, sensitivity/true positive and specificity/true negative rates are also considered."
   ]
  },
  {
   "cell_type": "code",
   "execution_count": 31,
   "id": "af852afe",
   "metadata": {},
   "outputs": [],
   "source": [
    "def modeling(pipe, transformer, estimator=None):\n",
    "    \n",
    "    #diff param for diff type of transformer (count vec, tfidf vec)\n",
    "    if transformer == \"cv\":\n",
    "        params = {'cv__analyzer': ['word'],\n",
    "          'cv__tokenizer': [tokenizer],\n",
    "          'cv__preprocessor': [None, porterstemmer],\n",
    "          'cv__stop_words': [keywords, stop_words],\n",
    "          'cv__max_features': [2000, 3000, 4000, 5000],\n",
    "          'cv__ngram_range': [(1, 1), (1,2), (1,3)],\n",
    "          'cv__min_df': [2, 3],\n",
    "          'cv__max_df': [.9, .95],\n",
    "          'cv__strip_accents': [\"unicode\", \"ascii\"]}\n",
    "        \n",
    "    elif transformer == \"tfidf\":\n",
    "        params = {'tfidf__analyzer': ['word'],\n",
    "          'tfidf__tokenizer': [tokenizer],\n",
    "          'tfidf__preprocessor': [None, porterstemmer],\n",
    "          'tfidf__stop_words': [keywords, stop_words],\n",
    "          'tfidf__max_features': [2000, 3000, 4000, 5000],\n",
    "          'tfidf__ngram_range': [(1, 1), (1,2), (1,3)],\n",
    "          'tfidf__min_df': [2, 3],\n",
    "          'tfidf__max_df': [.9, .95],\n",
    "          'tfidf__strip_accents': [\"unicode\", \"ascii\"]}\n",
    "     \n",
    "    #additional param for diff type of estimator\n",
    "    if estimator == 'log_reg':\n",
    "        params['log_reg__C'] = [0.1, 1, 10]\n",
    "        params['log_reg__penalty'] = ['l1', 'l2']\n",
    "        params['log_reg__solver'] = ['liblinear']\n",
    "        params['log_reg__max_iter'] = [100, 200, 500]\n",
    "        \n",
    "    elif estimator == 'knn':\n",
    "        params['knn__n_neighbors'] = [3, 5, 7, 9]\n",
    "        params['knn__weights'] = ['uniform', 'distance']\n",
    "        params['knn__p'] = [1,2]                                  # 1 is manhattan_distance, 2 is euclidean_distance \n",
    "    \n",
    "    # initiate grid search cv\n",
    "    gs = GridSearchCV(pipe, param_grid=params, cv=5, n_jobs=-1, verbose=1)\n",
    "    # fit the gridsearch on the training data\n",
    "    gs.fit(X_train, y_train)\n",
    "    # make predictions on new data\n",
    "    y_pred = gs.predict(X_test)\n",
    "\n",
    "    #score for training set\n",
    "    train_score = gs.score(X_train, y_train)\n",
    "    print(f\"Training score: {round(train_score,4)}\")\n",
    "    \n",
    "    #score for testing set\n",
    "    test_score = gs.score(X_test, y_test)\n",
    "    print(f\"Testing score: {round(test_score,4)}\")\n",
    "    \n",
    "    #mean cross-validated score of the best_estimator\n",
    "    if gs.best_score_ is not None:\n",
    "        best_score = gs.best_score_\n",
    "        print(f\"Best score: {round(best_score,4)}\")\n",
    "    else:\n",
    "        best_score = gs.best_estimator_.score(X_train, y_train)\n",
    "        print(\"No cross-validation score was better than default parameters.\")\n",
    "        print(f\"Best score: {round(best_score,4)}\")    \n",
    "        \n",
    "    #confusion matrix\n",
    "    tn, fp, fn, tp = confusion_matrix(y_test, y_pred).ravel()\n",
    "    cm_multinb = confusion_matrix(y_test, y_pred)\n",
    "    display_multinb = ConfusionMatrixDisplay(cm_multinb)\n",
    "    display_multinb.plot();\n",
    "          \n",
    "    #accuracy (same as test score)\n",
    "    accuracy = accuracy_score(y_test, y_pred)\n",
    "    print(f\"Accuracy: {round(accuracy, 4)}\")\n",
    "    \n",
    "    #precision\n",
    "    precision = precision_score(y_test, y_pred)\n",
    "    print(f\"Precision: {round(precision, 4)}\")\n",
    "                  \n",
    "    #recall/ sensitivity\n",
    "    sensitivity = recall_score(y_test, y_pred)  \n",
    "    print(f\"Sensitivity: {round(sensitivity, 4)}\")\n",
    "    \n",
    "    #specificity\n",
    "    specificity = tn/(tn+fn)\n",
    "    print(f\"Specificity: {round(specificity, 4)}\")\n",
    "\n",
    "    # best param\n",
    "    best_params = gs.best_params_\n",
    "    return(f\"Params: {best_params}\")"
   ]
  },
  {
   "cell_type": "markdown",
   "id": "dbb3458c",
   "metadata": {},
   "source": [
    "#### 1. Baseline Accuracy"
   ]
  },
  {
   "cell_type": "code",
   "execution_count": 32,
   "id": "6b39c949",
   "metadata": {
    "scrolled": true
   },
   "outputs": [
    {
     "data": {
      "text/plain": [
       "1    0.539474\n",
       "0    0.460526\n",
       "Name: subreddit, dtype: float64"
      ]
     },
     "execution_count": 32,
     "metadata": {},
     "output_type": "execute_result"
    }
   ],
   "source": [
    "y_train.value_counts(normalize=True)"
   ]
  },
  {
   "cell_type": "markdown",
   "id": "68294e08",
   "metadata": {},
   "source": [
    "This is a simple baseline model that simply predict the accuracy rate for positive (deaf) and negative (blind). For the majority class (positive), it achieved an accuracy rate of 54% if all are predicted to be positive. Hence, if the predictive models are performing worse than the baseline model, it is considered to be performing poorly and required further tuning/feature engineering."
   ]
  },
  {
   "cell_type": "markdown",
   "id": "8021a2a7",
   "metadata": {},
   "source": [
    "#### 2. Logistic Regression Model"
   ]
  },
  {
   "cell_type": "code",
   "execution_count": 33,
   "id": "d024d01c",
   "metadata": {},
   "outputs": [],
   "source": [
    "# %%time\n",
    "\n",
    "# #count vectorizer\n",
    "# pipe = Pipeline([\n",
    "#         ('cv', CountVectorizer()),\n",
    "#         ('log_reg', LogisticRegression())])\n",
    "\n",
    "# modeling(pipe=pipe, transformer=\"cv\", estimator=\"log_reg\")\n",
    "\n",
    "# #running time 5h 52m\n",
    "# #best params: max_df=0.9, max_features=5000, min_df=2, ngram_range=(1, 3), stop_words=stop_words,\n",
    "# #strip_accents=unicode, log_reg__C=0.1, log_reg__max_iter: 100, log_reg__penalty: l2, cv__preprocessor: None\n",
    "\n",
    "# #refer screenshot for the performance/score"
   ]
  },
  {
   "cell_type": "code",
   "execution_count": 34,
   "id": "71c5360f",
   "metadata": {},
   "outputs": [],
   "source": [
    "# %%time\n",
    "\n",
    "# #tfidf vectorizer\n",
    "# pipe = Pipeline([\n",
    "#         ('tfidf', TfidfVectorizer()),\n",
    "#         ('log_reg', LogisticRegression())])\n",
    "\n",
    "# modeling(pipe=pipe, transformer=\"tfidf\", estimator=\"log_reg\")\n",
    "\n",
    "# #running time 7h 10m\n",
    "# #best params: max_df=0.9, max_features=4000, min_df=3, ngram_range=(1, 3), stop_words=stop_words,\n",
    "# #strip_accents=unicode, log_reg__C=1, log_reg__max_iter: 100, log_reg__penalty: l2, tfidf__preprocessor: None\n",
    "\n",
    "# #refer screenshot for the performance/score"
   ]
  },
  {
   "cell_type": "markdown",
   "id": "a4b2c58d",
   "metadata": {},
   "source": [
    "Overfitting occurs in both cases using different transformers. Apparently count vectorizer has higher variance comparing to tfidf vectorizer.\n",
    "\n",
    "In terms of the difference in parameters used by both transformers, tfidf used 4k max feature, 3 min df and C=1;\n",
    "while count used 5k, 2 min df and C=0.1.\n",
    "\n",
    "Min df is a lower frequency threshold for the occurrence of a word in the document corpus. By using 3 min df in tfidf vec, words that occur in fewer than 3 documents will be excluded from the vocabulary. They are too rare to be useful for classification. \n",
    "\n",
    "Although tfidf has overfitted 6% in training dataset, it has higher accuracy (0.9211), sensitivity (0.9245) and specificity rate (0.9122) as comparing to count vectorizer that overfitted 7.7% and have lower score. Overall, the model has correctly classified 92.11% of the instances. In terms of specificity and sensitivity, the model has corrently identified 92.45% of all actual positive instance (deaf), and 91.22% of all negative instance (blind).\n",
    "\n",
    "Hence, logistic regression using tf-idf vector has better performance/accuracy not only to the baseline model, but to the logistic regression using count vector as well."
   ]
  },
  {
   "cell_type": "markdown",
   "id": "f5c0d284",
   "metadata": {},
   "source": [
    "#### 3. Naive Baiyes Model"
   ]
  },
  {
   "cell_type": "code",
   "execution_count": 35,
   "id": "731d5d6e",
   "metadata": {},
   "outputs": [],
   "source": [
    "# %%time\n",
    "\n",
    "# #count vectorizer\n",
    "# pipe = Pipeline([\n",
    "#         ('cv', CountVectorizer()),\n",
    "#         ('multi_nb', MultinomialNB())])\n",
    "\n",
    "# modeling(pipe=pipe, transformer=\"cv\")\n",
    "\n",
    "# #running time 28m\n",
    "# #best params: max_df=0.9, max_features=3000, min_df=2, ngram_range=(1, 3), stop_words=stop_words,\n",
    "# #strip_accents=unicode, preprocessor: None"
   ]
  },
  {
   "cell_type": "code",
   "execution_count": 36,
   "id": "9921a89e",
   "metadata": {
    "scrolled": false
   },
   "outputs": [],
   "source": [
    "# %%time\n",
    "\n",
    "# #tfidf vectorizer\n",
    "# pipe = Pipeline([\n",
    "#         ('tfidf', TfidfVectorizer()),\n",
    "#         ('multi_nb', MultinomialNB())])\n",
    "\n",
    "# modeling(pipe=pipe, transformer=\"tfidf\")\n",
    "\n",
    "# #running time 28m\n",
    "# #best params: max_df=0.9, max_features=2000, min_df=3, ngram_range=(1, 3), stop_words=stop_words,\n",
    "# #strip_accents=unicode, preprocessor: None"
   ]
  },
  {
   "cell_type": "markdown",
   "id": "45869b32",
   "metadata": {},
   "source": [
    "TF-IDF (Term Frequency-Inverse Document Frequency) is generally considered better than count vectorizer in text classification tasks because it takes into account not only the frequency of a term in a document but also how important that term is in the context of the entire corpus. However, the result shows differently in Naive Bayes.\n",
    "\n",
    "The underlying reason could be the assumption in this mdoel. Naive Bayes assumes that the features are independent, and count vectorization captures the raw frequency of each word without taking into account their distribution across documents. However, the difference is very small. With larger dataset, tfidf vector could be working better than count vector.\n",
    "\n",
    "Overall, the performance is better in terms of lower variance and higher accuracy by using count vector as compared to tfidf vector, although both models have overfitting issue. The difference in the parameter includes using 2k max features and 3 min df in tfidf vector, while in count vector it is using 3k max features and 2 min df.\n",
    "\n",
    "Note: The slightly higher score in sensitivity and specificity of the model using tf-idf vector is traded off for lower variance.\n",
    "\n",
    "As compared to the previous models, which is the logistic regression, Naive Bayes has 1.48% lower accuracy. However, Naive bayes provides much lower variance to give much steady prediction. Therefore, Naive Bayes is selected over logistic regression to trade for a lower variance of 2.84%."
   ]
  },
  {
   "cell_type": "markdown",
   "id": "90a895c3",
   "metadata": {},
   "source": [
    "#### 4. KNN Model"
   ]
  },
  {
   "cell_type": "code",
   "execution_count": 37,
   "id": "32fd8d37",
   "metadata": {},
   "outputs": [],
   "source": [
    "# %%time\n",
    "\n",
    "# #count vectorizer\n",
    "# pipe = Pipeline([\n",
    "#         ('cv', CountVectorizer()),\n",
    "#         ('knn', KNeighborsClassifier())])\n",
    "\n",
    "# modeling(pipe=pipe, transformer=\"cv\", estimator=\"knn\")\n",
    "\n",
    "# #running time 6h 35m\n",
    "# #best params: max_df=0.9, max_features=2000, min_df=3, ngram_range=(1, 2), stop_words=stop_words,\n",
    "# #strip_accents=unicode, n_neighbors=9, knn__p: 2, knn__weights:uniform\n",
    "\n",
    "# #refer screenshot for the performance/score"
   ]
  },
  {
   "cell_type": "code",
   "execution_count": 38,
   "id": "57de0523",
   "metadata": {},
   "outputs": [],
   "source": [
    "# %%time\n",
    "\n",
    "# #tfidf vectorizer\n",
    "# pipe = Pipeline([\n",
    "#         ('tfidf', TfidfVectorizer()),\n",
    "#         ('knn', KNeighborsClassifier())])\n",
    "\n",
    "# modeling(pipe=pipe, transformer=\"tfidf\", estimator=\"knn\")\n",
    "\n",
    "# #running time 5h 24m\n",
    "# #best params: max_df=0.9, max_features=5000, min_df=3, ngram_range=(1, 2), stop_words=stop_words,\n",
    "# #strip_accents=unicode, n_neighbors=9, knn__p: 2, knn__weights:uniform\n",
    "\n",
    "# #refer screenshot for the performance/score"
   ]
  },
  {
   "cell_type": "markdown",
   "id": "0bfb44b7",
   "metadata": {},
   "source": [
    "k-Nearest Neighbors (k-NN) is a distance-based algorithm that uses the similarities between data points to make predictions. However, compared to other models such as Logistic Regression and Naive Bayes, k-NN does not perform well due to curse of dimensionality.\n",
    "\n",
    "As the number of dimensions or features increases, the distance between any two points becomes less meaningful and the points become more uniformly distributed. This can make it difficult to find meaningful nearest neighbors and can reduce the accuracy of the k-NN algorithm.\n",
    "\n",
    "KNN using TF-IDF vector is expected to have lower variance than KNN using count vector because it can better handle the high-dimensional, sparse nature of the feature space and effectively capture the underlying structure of the data, while count vector introduces bias and noise into the data because it included common word that has higher frequency in the document. This is proved by the variance output, in which count vector gives 14.52% variance while tfidf vector gives 4.48% variance only.\n",
    "\n",
    "However, Naive Bayes still outperform KNN with better score and lower variance. "
   ]
  },
  {
   "cell_type": "markdown",
   "id": "1b7319c1",
   "metadata": {},
   "source": [
    "## Changes in Modeling Function"
   ]
  },
  {
   "cell_type": "markdown",
   "id": "3772d114",
   "metadata": {},
   "source": [
    "It is computationally expensive to run the model with first function. Hence, some parameter is removed, which are different options for stopwords, strip accent, preprocessor. The selected option has best performance in all previous models."
   ]
  },
  {
   "cell_type": "code",
   "execution_count": 77,
   "id": "280f6604",
   "metadata": {},
   "outputs": [],
   "source": [
    "def modeling_2(pipe, transformer, estimator=None):\n",
    "    \n",
    "    #diff param for diff type of transformer (count vec, tfidf vec)\n",
    "    if transformer == \"cv\":\n",
    "        params = {'cv__analyzer': ['word'],\n",
    "          'cv__tokenizer': [tokenizer],\n",
    "          'cv__preprocessor': [None],\n",
    "          'cv__stop_words': [stop_words],\n",
    "          'cv__max_features': [2000, 3000, 4000, 5000],\n",
    "          'cv__ngram_range': [(1, 1), (1,2), (1,3)],\n",
    "          'cv__min_df': [2, 3],\n",
    "          'cv__max_df': [.9, .95],\n",
    "          'cv__strip_accents': [\"unicode\"]}\n",
    "        \n",
    "    elif transformer == \"tfidf\":\n",
    "        params = {'tfidf__analyzer': ['word'],\n",
    "          'tfidf__tokenizer': [tokenizer],\n",
    "          'tfidf__preprocessor': [None],\n",
    "          'tfidf__stop_words': [stop_words],\n",
    "          'tfidf__max_features': [2000, 3000, 4000, 5000],\n",
    "          'tfidf__ngram_range': [(1, 1), (1,2), (1,3)],\n",
    "          'tfidf__min_df': [2, 3],\n",
    "          'tfidf__max_df': [.9, .95],\n",
    "          'tfidf__strip_accents': [\"unicode\"]}\n",
    "     \n",
    "    #additional param for diff type of estimator   \n",
    "    if estimator == 'dt':\n",
    "        params['dt__max_depth'] = [5,8,10]\n",
    "        params['dt__min_samples_split'] = [5,10,15]\n",
    "        params['dt__min_samples_leaf'] = [5,10,15]\n",
    "        params['dt__ccp_alpha'] = [0, 1, 10]\n",
    "        params['dt__splitter'] = ['best', 'random']\n",
    "        params['dt__random_state'] = [33]\n",
    "        \n",
    "    elif estimator == 'bagging':                 #additional random state\n",
    "        params['bagging__base_estimator__random_state'] = [33]\n",
    "        params['bagging__base_estimator__max_depth'] = [5,10]\n",
    "        params['bagging__base_estimator__min_samples_split'] = [5,10]\n",
    "        params['bagging__base_estimator__min_samples_leaf'] = [5,10]                        \n",
    "        params['bagging__base_estimator__splitter'] = ['best', 'random']\n",
    "        params['bagging__base_estimator__ccp_alpha'] = [0, 1, 10]\n",
    "    \n",
    "        \n",
    "    elif estimator == 'r_forest':                #everything same as 'dt', but without splitter because of the diff natures\n",
    "        params['r_forest__max_depth'] = [5,8,10]\n",
    "        params['r_forest__random_state'] = [33]\n",
    "        params['r_forest__min_samples_split'] = [5,10,15]\n",
    "        params['r_forest__min_samples_leaf'] = [5,10,15]\n",
    "        params['r_forest__ccp_alpha'] = [0, 1, 10]\n",
    "        \n",
    "    elif estimator == 'extra_tree':                #everything same as 'r_forest', except the default bootstrap=False\n",
    "        params['extra_tree__max_depth'] = [5,8,10]   #and multiple thresholds for each features is randomly selected\n",
    "        params['extra_tree__random_state'] = [33]    #while in 'r_forest' only a single best threshold is selected\n",
    "        params['extra_tree__min_samples_split'] = [5,10,15]\n",
    "        params['extra_tree__min_samples_leaf'] = [5,10,15]\n",
    "        params['extra_tree__ccp_alpha'] = [0, 1, 10]\n",
    "    \n",
    "    elif estimator == 'ada_b':                      #no bootstrap involve, not including base estimator para\n",
    "        params['ada_b__learning_rate'] = [0.1, 0.3, 0.5, 0.8, 1.0]  #because by its nature i should keep as stumps\n",
    "        params['ada_b__random_state'] = [33]\n",
    "        params['ada_b__n_estimators'] = [30, 50, 80, 100]    \n",
    "        \n",
    "    # initiate grid search cv\n",
    "    gs = GridSearchCV(pipe, param_grid=params, cv=5, n_jobs=-1, verbose=1)\n",
    "    # fit the gridsearch on the training data\n",
    "    gs.fit(X_train, y_train)\n",
    "    # make predictions on new data\n",
    "    y_pred = gs.predict(X_test)\n",
    "\n",
    "    #score for training set\n",
    "    train_score = gs.score(X_train, y_train)\n",
    "    print(f\"Training score: {round(train_score,4)}\")\n",
    "    \n",
    "    #score for testing set\n",
    "    test_score = gs.score(X_test, y_test)\n",
    "    print(f\"Testing score: {round(test_score,4)}\")\n",
    "    \n",
    "    #mean cross-validated score of the best_estimator\n",
    "    if gs.best_score_ is not None:\n",
    "        best_score = gs.best_score_\n",
    "        print(f\"Best score: {round(best_score,4)}\")\n",
    "    else:\n",
    "        best_score = gs.best_estimator_.score(X_train, y_train)\n",
    "        print(\"No cross-validation score was better than default parameters.\")\n",
    "        print(f\"Best score: {round(best_score,4)}\")    \n",
    "        \n",
    "    #confusion matrix\n",
    "    tn, fp, fn, tp = confusion_matrix(y_test, y_pred).ravel()\n",
    "    cm_multinb = confusion_matrix(y_test, y_pred)\n",
    "    display_multinb = ConfusionMatrixDisplay(cm_multinb)\n",
    "    display_multinb.plot();\n",
    "          \n",
    "    #accuracy (same as test score)\n",
    "    accuracy = accuracy_score(y_test, y_pred)\n",
    "    print(f\"Accuracy: {round(accuracy, 4)}\")\n",
    "    \n",
    "    #precision\n",
    "    precision = precision_score(y_test, y_pred)\n",
    "    print(f\"Precision: {round(precision, 4)}\")\n",
    "                  \n",
    "    #recall/ sensitivity\n",
    "    sensitivity = recall_score(y_test, y_pred)  \n",
    "    print(f\"Sensitivity: {round(sensitivity, 4)}\")\n",
    "    \n",
    "    #specificity\n",
    "    specificity = tn/(tn+fn)\n",
    "    print(f\"Specificity: {round(specificity, 4)}\")\n",
    "\n",
    "    # best param\n",
    "    best_params = gs.best_params_\n",
    "    return(f\"Params: {best_params}\")"
   ]
  },
  {
   "cell_type": "markdown",
   "id": "6dbca020",
   "metadata": {},
   "source": [
    "#### 5. Decision Tree Model"
   ]
  },
  {
   "cell_type": "code",
   "execution_count": 48,
   "id": "d9e76d58",
   "metadata": {},
   "outputs": [
    {
     "name": "stdout",
     "output_type": "stream",
     "text": [
      "Fitting 5 folds for each of 7776 candidates, totalling 38880 fits\n",
      "Training score: 0.8335\n",
      "Testing score: 0.8668\n",
      "Best score: 0.8215\n",
      "Accuracy: 0.8668\n",
      "Precision: 0.9741\n",
      "Sensitivity: 0.7735\n",
      "Specificity: 0.7866\n",
      "Wall time: 2h 53min 7s\n"
     ]
    },
    {
     "data": {
      "text/plain": [
       "\"Params: {'cv__analyzer': 'word', 'cv__max_df': 0.9, 'cv__max_features': 2000, 'cv__min_df': 2, 'cv__ngram_range': (1, 1), 'cv__preprocessor': None, 'cv__stop_words': ['latterly', 'along', 'full', 'empty', 'thru', 'anyway', 'as', 'already', 'put', 'whole', 'in', 'although', 'while', 'has', 'were', 'cry', 'under', 'nowhere', 'keep', 'such', 'never', 'couldnt', 'himself', 'next', 'ie', 'fifteen', 'us', 'very', 'otherwise', 'another', 'if', 'about', 'get', 'alone', 'nevertheless', 'on', 'all', 'amongst', 'off', 'whereafter', 'yours', 'bill', 'bottom', 'be', 'front', 'well', 'being', 'something', 'fire', 'third', 'anyhow', 'our', 'somehow', 'nothing', 'noone', 'made', 'until', 'rather', 'between', 'is', 'of', 'more', 'around', 'might', 'whoever', 'therein', 'ourselves', 'any', 'due', 'namely', 'up', 'both', 'whereupon', 'everyone', 'however', 'no', 'yourselves', 'hereupon', 'than', 'fill', 'every', 'sincere', 'afterwards', 'so', 'elsewhere', 'thence', 'hereafter', 'everything', 'whither', 'can', 'co', 'what', 'each', 'other', 'mill', 'two', 'beyond', 'four', 'below', 'former', 'fifty', 'this', 'seemed', 'whom', 'why', 'even', 'her', 'themselves', 'therefore', 'during', 'become', 'twelve', 'wherein', 'least', 're', 'formerly', 'should', 'though', 'beforehand', 'onto', 'serious', 'their', 'nobody', 'whatever', 'thin', 'not', 'do', 'she', 'nine', 'almost', 'that', 'been', 'then', 'herself', 'several', 'it', 'hers', 'out', 'hasnt', 'most', 'because', 'sometimes', 'besides', 'eleven', 'among', 'where', 'his', 'you', 'name', 'found', 'would', 'cannot', 'my', 'i', 'once', 'thus', 'indeed', 'interest', 'whereby', 'whose', 'take', 'etc', 'thereupon', 'toward', 'may', 'which', 'only', 'at', 'go', 'forty', 'yourself', 'else', 'throughout', 'few', 'give', 'last', 'above', 'sixty', 'for', 'further', 'wherever', 'across', 'seem', 'moreover', 'myself', 'either', 'an', 'often', 'how', 'within', 'cant', 'after', 'a', 'hereby', 'those', 'whether', 'too', 'could', 'hence', 'system', 'perhaps', 'ours', 'done', 'them', 'but', 'they', 'latter', 'neither', 'back', 'or', 'beside', 'three', 'seeming', 'same', 'please', 'without', 'describe', 'again', 'and', 'are', 'from', 'was', 'hundred', 'see', 'now', 'amoungst', 'much', 'will', 'sometime', 'via', 'its', 'thereafter', 'through', 'detail', 'he', 'whereas', 'de', 'thereby', 'thick', 'anything', 'becomes', 'ten', 'part', 'somewhere', 'there', 'upon', 'six', 'him', 'top', 'twenty', 'first', 'eg', 'we', 'whence', 'meanwhile', 'with', 'me', 'one', 'to', 'ltd', 'own', 'many', 'none', 'who', 'always', 'mostly', 'mine', 'con', 'inc', 'when', 'herein', 'un', 'anyone', 'here', 'move', 'find', 'show', 'ever', 'less', 'five', 'towards', 'against', 'eight', 'everywhere', 'must', 'itself', 'over', 'together', 'these', 'some', 'someone', 'whenever', 'before', 'others', 'call', 'had', 'have', 'except', 'becoming', 'also', 'side', 'into', 'still', 'became', 'by', 'yet', 'am', 'since', 'per', 'amount', 'nor', 'enough', 'seems', 'the', 'anywhere', 'behind', 'your', 'down', 'deaf', 'blind'], 'cv__strip_accents': 'unicode', 'cv__tokenizer': <function tokenizer at 0x00000233EEFA34C0>, 'dt__ccp_alpha': 0, 'dt__max_depth': 10, 'dt__min_samples_leaf': 10, 'dt__min_samples_split': 5, 'dt__random_state': 33, 'dt__splitter': 'best'}\""
      ]
     },
     "execution_count": 48,
     "metadata": {},
     "output_type": "execute_result"
    },
    {
     "data": {
      "image/png": "[encoded data removed]",
      "text/plain": [
       "<Figure size 640x480 with 2 Axes>"
      ]
     },
     "metadata": {},
     "output_type": "display_data"
    }
   ],
   "source": [
    "%%time\n",
    "\n",
    "#count vectorizer\n",
    "pipe = Pipeline([\n",
    "        ('cv', CountVectorizer()),\n",
    "        ('dt', DecisionTreeClassifier())])\n",
    "\n",
    "modeling_2(pipe=pipe, transformer=\"cv\", estimator=\"dt\")\n",
    "\n",
    "#running time 2h 53m\n",
    "#best param: cv__max_df: 0.9, cv__max_features: 2000, cv__min_df: 2, cv__ngram_range: (1, 1),\n",
    "#dt__ccp_alpha: 0, dt__max_depth: 10, dt__min_samples_leaf: 10, dt__min_samples_split: 5, dt__splitter: best\n",
    "\n",
    "#refer screenshot for the performance/score"
   ]
  },
  {
   "cell_type": "code",
   "execution_count": 51,
   "id": "da7135f7",
   "metadata": {},
   "outputs": [
    {
     "name": "stdout",
     "output_type": "stream",
     "text": [
      "Fitting 5 folds for each of 7776 candidates, totalling 38880 fits\n",
      "Training score: 0.847\n",
      "Testing score: 0.8668\n",
      "Best score: 0.8335\n",
      "Accuracy: 0.8668\n",
      "Precision: 0.9634\n",
      "Sensitivity: 0.7826\n",
      "Specificity: 0.7917\n",
      "Wall time: 3h 5min 8s\n"
     ]
    },
    {
     "data": {
      "text/plain": [
       "\"Params: {'dt__ccp_alpha': 0, 'dt__max_depth': 10, 'dt__min_samples_leaf': 10, 'dt__min_samples_split': 5, 'dt__random_state': 33, 'dt__splitter': 'best', 'tfidf__analyzer': 'word', 'tfidf__max_df': 0.9, 'tfidf__max_features': 3000, 'tfidf__min_df': 3, 'tfidf__ngram_range': (1, 3), 'tfidf__preprocessor': None, 'tfidf__stop_words': ['latterly', 'along', 'full', 'empty', 'thru', 'anyway', 'as', 'already', 'put', 'whole', 'in', 'although', 'while', 'has', 'were', 'cry', 'under', 'nowhere', 'keep', 'such', 'never', 'couldnt', 'himself', 'next', 'ie', 'fifteen', 'us', 'very', 'otherwise', 'another', 'if', 'about', 'get', 'alone', 'nevertheless', 'on', 'all', 'amongst', 'off', 'whereafter', 'yours', 'bill', 'bottom', 'be', 'front', 'well', 'being', 'something', 'fire', 'third', 'anyhow', 'our', 'somehow', 'nothing', 'noone', 'made', 'until', 'rather', 'between', 'is', 'of', 'more', 'around', 'might', 'whoever', 'therein', 'ourselves', 'any', 'due', 'namely', 'up', 'both', 'whereupon', 'everyone', 'however', 'no', 'yourselves', 'hereupon', 'than', 'fill', 'every', 'sincere', 'afterwards', 'so', 'elsewhere', 'thence', 'hereafter', 'everything', 'whither', 'can', 'co', 'what', 'each', 'other', 'mill', 'two', 'beyond', 'four', 'below', 'former', 'fifty', 'this', 'seemed', 'whom', 'why', 'even', 'her', 'themselves', 'therefore', 'during', 'become', 'twelve', 'wherein', 'least', 're', 'formerly', 'should', 'though', 'beforehand', 'onto', 'serious', 'their', 'nobody', 'whatever', 'thin', 'not', 'do', 'she', 'nine', 'almost', 'that', 'been', 'then', 'herself', 'several', 'it', 'hers', 'out', 'hasnt', 'most', 'because', 'sometimes', 'besides', 'eleven', 'among', 'where', 'his', 'you', 'name', 'found', 'would', 'cannot', 'my', 'i', 'once', 'thus', 'indeed', 'interest', 'whereby', 'whose', 'take', 'etc', 'thereupon', 'toward', 'may', 'which', 'only', 'at', 'go', 'forty', 'yourself', 'else', 'throughout', 'few', 'give', 'last', 'above', 'sixty', 'for', 'further', 'wherever', 'across', 'seem', 'moreover', 'myself', 'either', 'an', 'often', 'how', 'within', 'cant', 'after', 'a', 'hereby', 'those', 'whether', 'too', 'could', 'hence', 'system', 'perhaps', 'ours', 'done', 'them', 'but', 'they', 'latter', 'neither', 'back', 'or', 'beside', 'three', 'seeming', 'same', 'please', 'without', 'describe', 'again', 'and', 'are', 'from', 'was', 'hundred', 'see', 'now', 'amoungst', 'much', 'will', 'sometime', 'via', 'its', 'thereafter', 'through', 'detail', 'he', 'whereas', 'de', 'thereby', 'thick', 'anything', 'becomes', 'ten', 'part', 'somewhere', 'there', 'upon', 'six', 'him', 'top', 'twenty', 'first', 'eg', 'we', 'whence', 'meanwhile', 'with', 'me', 'one', 'to', 'ltd', 'own', 'many', 'none', 'who', 'always', 'mostly', 'mine', 'con', 'inc', 'when', 'herein', 'un', 'anyone', 'here', 'move', 'find', 'show', 'ever', 'less', 'five', 'towards', 'against', 'eight', 'everywhere', 'must', 'itself', 'over', 'together', 'these', 'some', 'someone', 'whenever', 'before', 'others', 'call', 'had', 'have', 'except', 'becoming', 'also', 'side', 'into', 'still', 'became', 'by', 'yet', 'am', 'since', 'per', 'amount', 'nor', 'enough', 'seems', 'the', 'anywhere', 'behind', 'your', 'down', 'deaf', 'blind'], 'tfidf__strip_accents': 'unicode', 'tfidf__tokenizer': <function tokenizer at 0x00000233EEFA34C0>}\""
      ]
     },
     "execution_count": 51,
     "metadata": {},
     "output_type": "execute_result"
    },
    {
     "data": {
      "image/png": "[encoded data removed]",
      "text/plain": [
       "<Figure size 640x480 with 2 Axes>"
      ]
     },
     "metadata": {},
     "output_type": "display_data"
    }
   ],
   "source": [
    "%%time\n",
    "\n",
    "#tfidf vectorizer\n",
    "pipe = Pipeline([\n",
    "        ('tfidf', TfidfVectorizer()),\n",
    "        ('dt', DecisionTreeClassifier())])\n",
    "\n",
    "modeling_2(pipe=pipe, transformer=\"tfidf\", estimator=\"dt\")\n",
    "\n",
    "#running time 3h 5m\n",
    "#best params: 'dt__ccp_alpha': 0, 'dt__max_depth': 10, 'dt__min_samples_leaf': 10, 'dt__min_samples_split': 5,\n",
    "#'dt__splitter': 'best',  'tfidf__max_df': 0.9, 'tfidf__max_features': 3000, 'tfidf__min_df': 3,\n",
    "#'tfidf__ngram_range': (1, 3)\n",
    "\n",
    "#refer screenshot for the performance/score"
   ]
  },
  {
   "cell_type": "markdown",
   "id": "b8fb8949",
   "metadata": {},
   "source": [
    "#### 6. Bagging Classifier"
   ]
  },
  {
   "cell_type": "code",
   "execution_count": 65,
   "id": "c6a30e07",
   "metadata": {},
   "outputs": [
    {
     "name": "stdout",
     "output_type": "stream",
     "text": [
      "Fitting 5 folds for each of 2304 candidates, totalling 11520 fits\n",
      "Training score: 0.8536\n",
      "Testing score: 0.8755\n",
      "Best score: 0.8487\n",
      "Accuracy: 0.8755\n",
      "Precision: 0.9641\n",
      "Sensitivity: 0.7986\n",
      "Specificity: 0.804\n"
     ]
    },
    {
     "data": {
      "text/plain": [
       "\"Params: {'bagging__base_estimator__ccp_alpha': 0, 'bagging__base_estimator__max_depth': 10, 'bagging__base_estimator__min_samples_leaf': 10, 'bagging__base_estimator__min_samples_split': 5, 'bagging__base_estimator__random_state': 33, 'bagging__base_estimator__splitter': 'random', 'cv__analyzer': 'word', 'cv__max_df': 0.9, 'cv__max_features': 2000, 'cv__min_df': 2, 'cv__ngram_range': (1, 1), 'cv__preprocessor': None, 'cv__stop_words': ['latterly', 'along', 'full', 'empty', 'thru', 'anyway', 'as', 'already', 'put', 'whole', 'in', 'although', 'while', 'has', 'were', 'cry', 'under', 'nowhere', 'keep', 'such', 'never', 'couldnt', 'himself', 'next', 'ie', 'fifteen', 'us', 'very', 'otherwise', 'another', 'if', 'about', 'get', 'alone', 'nevertheless', 'on', 'all', 'amongst', 'off', 'whereafter', 'yours', 'bill', 'bottom', 'be', 'front', 'well', 'being', 'something', 'fire', 'third', 'anyhow', 'our', 'somehow', 'nothing', 'noone', 'made', 'until', 'rather', 'between', 'is', 'of', 'more', 'around', 'might', 'whoever', 'therein', 'ourselves', 'any', 'due', 'namely', 'up', 'both', 'whereupon', 'everyone', 'however', 'no', 'yourselves', 'hereupon', 'than', 'fill', 'every', 'sincere', 'afterwards', 'so', 'elsewhere', 'thence', 'hereafter', 'everything', 'whither', 'can', 'co', 'what', 'each', 'other', 'mill', 'two', 'beyond', 'four', 'below', 'former', 'fifty', 'this', 'seemed', 'whom', 'why', 'even', 'her', 'themselves', 'therefore', 'during', 'become', 'twelve', 'wherein', 'least', 're', 'formerly', 'should', 'though', 'beforehand', 'onto', 'serious', 'their', 'nobody', 'whatever', 'thin', 'not', 'do', 'she', 'nine', 'almost', 'that', 'been', 'then', 'herself', 'several', 'it', 'hers', 'out', 'hasnt', 'most', 'because', 'sometimes', 'besides', 'eleven', 'among', 'where', 'his', 'you', 'name', 'found', 'would', 'cannot', 'my', 'i', 'once', 'thus', 'indeed', 'interest', 'whereby', 'whose', 'take', 'etc', 'thereupon', 'toward', 'may', 'which', 'only', 'at', 'go', 'forty', 'yourself', 'else', 'throughout', 'few', 'give', 'last', 'above', 'sixty', 'for', 'further', 'wherever', 'across', 'seem', 'moreover', 'myself', 'either', 'an', 'often', 'how', 'within', 'cant', 'after', 'a', 'hereby', 'those', 'whether', 'too', 'could', 'hence', 'system', 'perhaps', 'ours', 'done', 'them', 'but', 'they', 'latter', 'neither', 'back', 'or', 'beside', 'three', 'seeming', 'same', 'please', 'without', 'describe', 'again', 'and', 'are', 'from', 'was', 'hundred', 'see', 'now', 'amoungst', 'much', 'will', 'sometime', 'via', 'its', 'thereafter', 'through', 'detail', 'he', 'whereas', 'de', 'thereby', 'thick', 'anything', 'becomes', 'ten', 'part', 'somewhere', 'there', 'upon', 'six', 'him', 'top', 'twenty', 'first', 'eg', 'we', 'whence', 'meanwhile', 'with', 'me', 'one', 'to', 'ltd', 'own', 'many', 'none', 'who', 'always', 'mostly', 'mine', 'con', 'inc', 'when', 'herein', 'un', 'anyone', 'here', 'move', 'find', 'show', 'ever', 'less', 'five', 'towards', 'against', 'eight', 'everywhere', 'must', 'itself', 'over', 'together', 'these', 'some', 'someone', 'whenever', 'before', 'others', 'call', 'had', 'have', 'except', 'becoming', 'also', 'side', 'into', 'still', 'became', 'by', 'yet', 'am', 'since', 'per', 'amount', 'nor', 'enough', 'seems', 'the', 'anywhere', 'behind', 'your', 'down', 'deaf', 'blind'], 'cv__strip_accents': 'unicode', 'cv__tokenizer': <function tokenizer at 0x00000233EEFA34C0>}\""
      ]
     },
     "execution_count": 65,
     "metadata": {},
     "output_type": "execute_result"
    },
    {
     "data": {
      "image/png": "[encoded data removed]",
      "text/plain": [
       "<Figure size 640x480 with 2 Axes>"
      ]
     },
     "metadata": {},
     "output_type": "display_data"
    }
   ],
   "source": [
    "from sklearn.ensemble import BaggingClassifier\n",
    "\n",
    "#count vectorizer\n",
    "pipe = Pipeline([\n",
    "        ('cv', CountVectorizer()),\n",
    "        ('bagging', BaggingClassifier(base_estimator=DecisionTreeClassifier()))])\n",
    "\n",
    "modeling_2(pipe=pipe, transformer=\"cv\", estimator=\"bagging\")\n",
    "\n",
    "#best params: 'bagging__base_estimator__ccp_alpha': 0, 'bagging__base_estimator__max_depth': 10,\n",
    "#'bagging__base_estimator__min_samples_leaf': 10, 'bagging__base_estimator__min_samples_split': 5,\n",
    "#'bagging__base_estimator__splitter': 'random', 'cv__max_df': 0.9, 'cv__max_features': 2000,\n",
    "#'cv__min_df': 2, 'cv__ngram_range': (1, 1)\n",
    "\n",
    "#refer screenshot for the performance/score"
   ]
  },
  {
   "cell_type": "code",
   "execution_count": 66,
   "id": "e883af58",
   "metadata": {
    "scrolled": false
   },
   "outputs": [
    {
     "name": "stdout",
     "output_type": "stream",
     "text": [
      "Fitting 5 folds for each of 2304 candidates, totalling 11520 fits\n",
      "Training score: 0.8594\n",
      "Testing score: 0.8779\n",
      "Best score: 0.8512\n",
      "Accuracy: 0.8779\n",
      "Precision: 0.9643\n",
      "Sensitivity: 0.8032\n",
      "Specificity: 0.8076\n"
     ]
    },
    {
     "data": {
      "text/plain": [
       "\"Params: {'bagging__base_estimator__ccp_alpha': 0, 'bagging__base_estimator__max_depth': 10, 'bagging__base_estimator__min_samples_leaf': 5, 'bagging__base_estimator__min_samples_split': 10, 'bagging__base_estimator__random_state': 33, 'bagging__base_estimator__splitter': 'best', 'tfidf__analyzer': 'word', 'tfidf__max_df': 0.95, 'tfidf__max_features': 3000, 'tfidf__min_df': 3, 'tfidf__ngram_range': (1, 2), 'tfidf__preprocessor': None, 'tfidf__stop_words': ['latterly', 'along', 'full', 'empty', 'thru', 'anyway', 'as', 'already', 'put', 'whole', 'in', 'although', 'while', 'has', 'were', 'cry', 'under', 'nowhere', 'keep', 'such', 'never', 'couldnt', 'himself', 'next', 'ie', 'fifteen', 'us', 'very', 'otherwise', 'another', 'if', 'about', 'get', 'alone', 'nevertheless', 'on', 'all', 'amongst', 'off', 'whereafter', 'yours', 'bill', 'bottom', 'be', 'front', 'well', 'being', 'something', 'fire', 'third', 'anyhow', 'our', 'somehow', 'nothing', 'noone', 'made', 'until', 'rather', 'between', 'is', 'of', 'more', 'around', 'might', 'whoever', 'therein', 'ourselves', 'any', 'due', 'namely', 'up', 'both', 'whereupon', 'everyone', 'however', 'no', 'yourselves', 'hereupon', 'than', 'fill', 'every', 'sincere', 'afterwards', 'so', 'elsewhere', 'thence', 'hereafter', 'everything', 'whither', 'can', 'co', 'what', 'each', 'other', 'mill', 'two', 'beyond', 'four', 'below', 'former', 'fifty', 'this', 'seemed', 'whom', 'why', 'even', 'her', 'themselves', 'therefore', 'during', 'become', 'twelve', 'wherein', 'least', 're', 'formerly', 'should', 'though', 'beforehand', 'onto', 'serious', 'their', 'nobody', 'whatever', 'thin', 'not', 'do', 'she', 'nine', 'almost', 'that', 'been', 'then', 'herself', 'several', 'it', 'hers', 'out', 'hasnt', 'most', 'because', 'sometimes', 'besides', 'eleven', 'among', 'where', 'his', 'you', 'name', 'found', 'would', 'cannot', 'my', 'i', 'once', 'thus', 'indeed', 'interest', 'whereby', 'whose', 'take', 'etc', 'thereupon', 'toward', 'may', 'which', 'only', 'at', 'go', 'forty', 'yourself', 'else', 'throughout', 'few', 'give', 'last', 'above', 'sixty', 'for', 'further', 'wherever', 'across', 'seem', 'moreover', 'myself', 'either', 'an', 'often', 'how', 'within', 'cant', 'after', 'a', 'hereby', 'those', 'whether', 'too', 'could', 'hence', 'system', 'perhaps', 'ours', 'done', 'them', 'but', 'they', 'latter', 'neither', 'back', 'or', 'beside', 'three', 'seeming', 'same', 'please', 'without', 'describe', 'again', 'and', 'are', 'from', 'was', 'hundred', 'see', 'now', 'amoungst', 'much', 'will', 'sometime', 'via', 'its', 'thereafter', 'through', 'detail', 'he', 'whereas', 'de', 'thereby', 'thick', 'anything', 'becomes', 'ten', 'part', 'somewhere', 'there', 'upon', 'six', 'him', 'top', 'twenty', 'first', 'eg', 'we', 'whence', 'meanwhile', 'with', 'me', 'one', 'to', 'ltd', 'own', 'many', 'none', 'who', 'always', 'mostly', 'mine', 'con', 'inc', 'when', 'herein', 'un', 'anyone', 'here', 'move', 'find', 'show', 'ever', 'less', 'five', 'towards', 'against', 'eight', 'everywhere', 'must', 'itself', 'over', 'together', 'these', 'some', 'someone', 'whenever', 'before', 'others', 'call', 'had', 'have', 'except', 'becoming', 'also', 'side', 'into', 'still', 'became', 'by', 'yet', 'am', 'since', 'per', 'amount', 'nor', 'enough', 'seems', 'the', 'anywhere', 'behind', 'your', 'down', 'deaf', 'blind'], 'tfidf__strip_accents': 'unicode', 'tfidf__tokenizer': <function tokenizer at 0x00000233EEFA34C0>}\""
      ]
     },
     "execution_count": 66,
     "metadata": {},
     "output_type": "execute_result"
    },
    {
     "data": {
      "image/png": "[encoded data removed]",
      "text/plain": [
       "<Figure size 640x480 with 2 Axes>"
      ]
     },
     "metadata": {},
     "output_type": "display_data"
    }
   ],
   "source": [
    "#tfidf vectorizer\n",
    "pipe = Pipeline([\n",
    "        ('tfidf', TfidfVectorizer()),\n",
    "        ('bagging', BaggingClassifier(base_estimator=DecisionTreeClassifier()))])\n",
    "\n",
    "modeling_2(pipe=pipe, transformer=\"tfidf\", estimator=\"bagging\")\n",
    "\n",
    "#best params: bagging__base_estimator__ccp_alpha': 0, 'bagging__base_estimator__max_depth': 10,\n",
    "#'bagging__base_estimator__min_samples_leaf': 5, 'bagging__base_estimator__min_samples_split': 10,\n",
    "#bagging__base_estimator__splitter': 'best', tfidf__max_df': 0.95, 'tfidf__max_features': 3000, \n",
    "#'tfidf__min_df': 3, 'tfidf__ngram_range': (1, 2)\n",
    "\n",
    "#refer screenshot for the performance/score"
   ]
  },
  {
   "cell_type": "markdown",
   "id": "1c287dcf",
   "metadata": {},
   "source": [
    "#### 7. Random Forest"
   ]
  },
  {
   "cell_type": "code",
   "execution_count": 83,
   "id": "7b5fd571",
   "metadata": {},
   "outputs": [
    {
     "name": "stderr",
     "output_type": "stream",
     "text": [
      "UsageError: Line magic function `%` not found.\n"
     ]
    }
   ],
   "source": [
    "% time\n",
    "#count vectorizer\n",
    "pipe = Pipeline([\n",
    "        ('cv', CountVectorizer()),\n",
    "        ('r_forest', RandomForestClassifier())])\n",
    "\n",
    "modeling_2(pipe=pipe, transformer=\"cv\", estimator=\"r_forest\")\n",
    "\n",
    "#best params: 'cv__max_df': 0.9, 'cv__max_features': 4000, 'cv__min_df': 2, 'cv__ngram_range': (1, 3)\n",
    "#r_forest__ccp_alpha': 0, 'r_forest__max_depth': 10, 'r_forest__min_samples_leaf': 5, 'r_forest__min_samples_split': 5\n",
    "\n",
    "#refer screenshot for the performance/score"
   ]
  },
  {
   "cell_type": "code",
   "execution_count": 68,
   "id": "27be2365",
   "metadata": {},
   "outputs": [
    {
     "name": "stdout",
     "output_type": "stream",
     "text": [
      "Fitting 5 folds for each of 3888 candidates, totalling 19440 fits\n",
      "Training score: 0.9223\n",
      "Testing score: 0.8989\n",
      "Best score: 0.9001\n",
      "Accuracy: 0.8989\n",
      "Precision: 0.8706\n",
      "Sensitivity: 0.9542\n",
      "Specificity: 0.9398\n"
     ]
    },
    {
     "data": {
      "text/plain": [
       "\"Params: {'r_forest__ccp_alpha': 0, 'r_forest__max_depth': 10, 'r_forest__min_samples_leaf': 10, 'r_forest__min_samples_split': 5, 'r_forest__random_state': 33, 'tfidf__analyzer': 'word', 'tfidf__max_df': 0.9, 'tfidf__max_features': 4000, 'tfidf__min_df': 2, 'tfidf__ngram_range': (1, 3), 'tfidf__preprocessor': None, 'tfidf__stop_words': ['latterly', 'along', 'full', 'empty', 'thru', 'anyway', 'as', 'already', 'put', 'whole', 'in', 'although', 'while', 'has', 'were', 'cry', 'under', 'nowhere', 'keep', 'such', 'never', 'couldnt', 'himself', 'next', 'ie', 'fifteen', 'us', 'very', 'otherwise', 'another', 'if', 'about', 'get', 'alone', 'nevertheless', 'on', 'all', 'amongst', 'off', 'whereafter', 'yours', 'bill', 'bottom', 'be', 'front', 'well', 'being', 'something', 'fire', 'third', 'anyhow', 'our', 'somehow', 'nothing', 'noone', 'made', 'until', 'rather', 'between', 'is', 'of', 'more', 'around', 'might', 'whoever', 'therein', 'ourselves', 'any', 'due', 'namely', 'up', 'both', 'whereupon', 'everyone', 'however', 'no', 'yourselves', 'hereupon', 'than', 'fill', 'every', 'sincere', 'afterwards', 'so', 'elsewhere', 'thence', 'hereafter', 'everything', 'whither', 'can', 'co', 'what', 'each', 'other', 'mill', 'two', 'beyond', 'four', 'below', 'former', 'fifty', 'this', 'seemed', 'whom', 'why', 'even', 'her', 'themselves', 'therefore', 'during', 'become', 'twelve', 'wherein', 'least', 're', 'formerly', 'should', 'though', 'beforehand', 'onto', 'serious', 'their', 'nobody', 'whatever', 'thin', 'not', 'do', 'she', 'nine', 'almost', 'that', 'been', 'then', 'herself', 'several', 'it', 'hers', 'out', 'hasnt', 'most', 'because', 'sometimes', 'besides', 'eleven', 'among', 'where', 'his', 'you', 'name', 'found', 'would', 'cannot', 'my', 'i', 'once', 'thus', 'indeed', 'interest', 'whereby', 'whose', 'take', 'etc', 'thereupon', 'toward', 'may', 'which', 'only', 'at', 'go', 'forty', 'yourself', 'else', 'throughout', 'few', 'give', 'last', 'above', 'sixty', 'for', 'further', 'wherever', 'across', 'seem', 'moreover', 'myself', 'either', 'an', 'often', 'how', 'within', 'cant', 'after', 'a', 'hereby', 'those', 'whether', 'too', 'could', 'hence', 'system', 'perhaps', 'ours', 'done', 'them', 'but', 'they', 'latter', 'neither', 'back', 'or', 'beside', 'three', 'seeming', 'same', 'please', 'without', 'describe', 'again', 'and', 'are', 'from', 'was', 'hundred', 'see', 'now', 'amoungst', 'much', 'will', 'sometime', 'via', 'its', 'thereafter', 'through', 'detail', 'he', 'whereas', 'de', 'thereby', 'thick', 'anything', 'becomes', 'ten', 'part', 'somewhere', 'there', 'upon', 'six', 'him', 'top', 'twenty', 'first', 'eg', 'we', 'whence', 'meanwhile', 'with', 'me', 'one', 'to', 'ltd', 'own', 'many', 'none', 'who', 'always', 'mostly', 'mine', 'con', 'inc', 'when', 'herein', 'un', 'anyone', 'here', 'move', 'find', 'show', 'ever', 'less', 'five', 'towards', 'against', 'eight', 'everywhere', 'must', 'itself', 'over', 'together', 'these', 'some', 'someone', 'whenever', 'before', 'others', 'call', 'had', 'have', 'except', 'becoming', 'also', 'side', 'into', 'still', 'became', 'by', 'yet', 'am', 'since', 'per', 'amount', 'nor', 'enough', 'seems', 'the', 'anywhere', 'behind', 'your', 'down', 'deaf', 'blind'], 'tfidf__strip_accents': 'unicode', 'tfidf__tokenizer': <function tokenizer at 0x00000233EEFA34C0>}\""
      ]
     },
     "execution_count": 68,
     "metadata": {},
     "output_type": "execute_result"
    },
    {
     "data": {
      "image/png": "[encoded data removed]",
      "text/plain": [
       "<Figure size 640x480 with 2 Axes>"
      ]
     },
     "metadata": {},
     "output_type": "display_data"
    }
   ],
   "source": [
    "#tfidf vectorizer\n",
    "pipe = Pipeline([\n",
    "        ('tfidf', TfidfVectorizer()),\n",
    "        ('r_forest', RandomForestClassifier())])\n",
    "\n",
    "modeling_2(pipe=pipe, transformer=\"tfidf\", estimator=\"r_forest\")\n",
    "\n",
    "#best params: 'r_forest__ccp_alpha': 0, 'r_forest__max_depth': 10, 'r_forest__min_samples_leaf': 10,\n",
    "#'r_forest__min_samples_split': 5, 'tfidf__max_df': 0.9, 'tfidf__max_features': 4000,\n",
    "#'tfidf__min_df': 2, 'tfidf__ngram_range': (1, 3)\n",
    "\n",
    "#refer screenshot for the performance/score"
   ]
  },
  {
   "cell_type": "markdown",
   "id": "4178313d",
   "metadata": {},
   "source": [
    "#### 8. Extra Trees"
   ]
  },
  {
   "cell_type": "code",
   "execution_count": 69,
   "id": "b873ee02",
   "metadata": {},
   "outputs": [
    {
     "name": "stdout",
     "output_type": "stream",
     "text": [
      "Fitting 5 folds for each of 3888 candidates, totalling 19440 fits\n",
      "Training score: 0.8376\n",
      "Testing score: 0.8274\n",
      "Best score: 0.8224\n",
      "Accuracy: 0.8274\n",
      "Precision: 0.7601\n",
      "Sensitivity: 0.9931\n",
      "Specificity: 0.9875\n"
     ]
    },
    {
     "data": {
      "text/plain": [
       "\"Params: {'cv__analyzer': 'word', 'cv__max_df': 0.9, 'cv__max_features': 2000, 'cv__min_df': 3, 'cv__ngram_range': (1, 2), 'cv__preprocessor': None, 'cv__stop_words': ['latterly', 'along', 'full', 'empty', 'thru', 'anyway', 'as', 'already', 'put', 'whole', 'in', 'although', 'while', 'has', 'were', 'cry', 'under', 'nowhere', 'keep', 'such', 'never', 'couldnt', 'himself', 'next', 'ie', 'fifteen', 'us', 'very', 'otherwise', 'another', 'if', 'about', 'get', 'alone', 'nevertheless', 'on', 'all', 'amongst', 'off', 'whereafter', 'yours', 'bill', 'bottom', 'be', 'front', 'well', 'being', 'something', 'fire', 'third', 'anyhow', 'our', 'somehow', 'nothing', 'noone', 'made', 'until', 'rather', 'between', 'is', 'of', 'more', 'around', 'might', 'whoever', 'therein', 'ourselves', 'any', 'due', 'namely', 'up', 'both', 'whereupon', 'everyone', 'however', 'no', 'yourselves', 'hereupon', 'than', 'fill', 'every', 'sincere', 'afterwards', 'so', 'elsewhere', 'thence', 'hereafter', 'everything', 'whither', 'can', 'co', 'what', 'each', 'other', 'mill', 'two', 'beyond', 'four', 'below', 'former', 'fifty', 'this', 'seemed', 'whom', 'why', 'even', 'her', 'themselves', 'therefore', 'during', 'become', 'twelve', 'wherein', 'least', 're', 'formerly', 'should', 'though', 'beforehand', 'onto', 'serious', 'their', 'nobody', 'whatever', 'thin', 'not', 'do', 'she', 'nine', 'almost', 'that', 'been', 'then', 'herself', 'several', 'it', 'hers', 'out', 'hasnt', 'most', 'because', 'sometimes', 'besides', 'eleven', 'among', 'where', 'his', 'you', 'name', 'found', 'would', 'cannot', 'my', 'i', 'once', 'thus', 'indeed', 'interest', 'whereby', 'whose', 'take', 'etc', 'thereupon', 'toward', 'may', 'which', 'only', 'at', 'go', 'forty', 'yourself', 'else', 'throughout', 'few', 'give', 'last', 'above', 'sixty', 'for', 'further', 'wherever', 'across', 'seem', 'moreover', 'myself', 'either', 'an', 'often', 'how', 'within', 'cant', 'after', 'a', 'hereby', 'those', 'whether', 'too', 'could', 'hence', 'system', 'perhaps', 'ours', 'done', 'them', 'but', 'they', 'latter', 'neither', 'back', 'or', 'beside', 'three', 'seeming', 'same', 'please', 'without', 'describe', 'again', 'and', 'are', 'from', 'was', 'hundred', 'see', 'now', 'amoungst', 'much', 'will', 'sometime', 'via', 'its', 'thereafter', 'through', 'detail', 'he', 'whereas', 'de', 'thereby', 'thick', 'anything', 'becomes', 'ten', 'part', 'somewhere', 'there', 'upon', 'six', 'him', 'top', 'twenty', 'first', 'eg', 'we', 'whence', 'meanwhile', 'with', 'me', 'one', 'to', 'ltd', 'own', 'many', 'none', 'who', 'always', 'mostly', 'mine', 'con', 'inc', 'when', 'herein', 'un', 'anyone', 'here', 'move', 'find', 'show', 'ever', 'less', 'five', 'towards', 'against', 'eight', 'everywhere', 'must', 'itself', 'over', 'together', 'these', 'some', 'someone', 'whenever', 'before', 'others', 'call', 'had', 'have', 'except', 'becoming', 'also', 'side', 'into', 'still', 'became', 'by', 'yet', 'am', 'since', 'per', 'amount', 'nor', 'enough', 'seems', 'the', 'anywhere', 'behind', 'your', 'down', 'deaf', 'blind'], 'cv__strip_accents': 'unicode', 'cv__tokenizer': <function tokenizer at 0x00000233EEFA34C0>, 'extra_tree__ccp_alpha': 0, 'extra_tree__max_depth': 10, 'extra_tree__min_samples_leaf': 5, 'extra_tree__min_samples_split': 15, 'extra_tree__random_state': 33}\""
      ]
     },
     "execution_count": 69,
     "metadata": {},
     "output_type": "execute_result"
    },
    {
     "data": {
      "image/png": "[encoded data removed]",
      "text/plain": [
       "<Figure size 640x480 with 2 Axes>"
      ]
     },
     "metadata": {},
     "output_type": "display_data"
    }
   ],
   "source": [
    "from sklearn.ensemble import ExtraTreesClassifier\n",
    "\n",
    "#count vectorizer\n",
    "pipe = Pipeline([\n",
    "        ('cv', CountVectorizer()),\n",
    "        ('extra_tree', ExtraTreesClassifier())])\n",
    "\n",
    "modeling_2(pipe=pipe, transformer=\"cv\", estimator=\"extra_tree\")\n",
    "\n",
    "#best params: 'cv__max_df': 0.9, 'cv__max_features': 2000, 'cv__min_df': 3, 'cv__ngram_range': (1, 2),\n",
    "#extra_tree__ccp_alpha': 0, 'extra_tree__max_depth': 10, 'extra_tree__min_samples_leaf': 5,\n",
    "#'extra_tree__min_samples_split': 15\n",
    "\n",
    "#refer screenshot for the performance/score"
   ]
  },
  {
   "cell_type": "code",
   "execution_count": 70,
   "id": "b508521d",
   "metadata": {},
   "outputs": [
    {
     "name": "stdout",
     "output_type": "stream",
     "text": [
      "Fitting 5 folds for each of 3888 candidates, totalling 19440 fits\n",
      "Training score: 0.8631\n",
      "Testing score: 0.8545\n",
      "Best score: 0.8602\n",
      "Accuracy: 0.8545\n",
      "Precision: 0.797\n",
      "Sensitivity: 0.9794\n",
      "Specificity: 0.9672\n"
     ]
    },
    {
     "data": {
      "text/plain": [
       "\"Params: {'extra_tree__ccp_alpha': 0, 'extra_tree__max_depth': 10, 'extra_tree__min_samples_leaf': 5, 'extra_tree__min_samples_split': 15, 'extra_tree__random_state': 33, 'tfidf__analyzer': 'word', 'tfidf__max_df': 0.9, 'tfidf__max_features': 2000, 'tfidf__min_df': 3, 'tfidf__ngram_range': (1, 1), 'tfidf__preprocessor': None, 'tfidf__stop_words': ['latterly', 'along', 'full', 'empty', 'thru', 'anyway', 'as', 'already', 'put', 'whole', 'in', 'although', 'while', 'has', 'were', 'cry', 'under', 'nowhere', 'keep', 'such', 'never', 'couldnt', 'himself', 'next', 'ie', 'fifteen', 'us', 'very', 'otherwise', 'another', 'if', 'about', 'get', 'alone', 'nevertheless', 'on', 'all', 'amongst', 'off', 'whereafter', 'yours', 'bill', 'bottom', 'be', 'front', 'well', 'being', 'something', 'fire', 'third', 'anyhow', 'our', 'somehow', 'nothing', 'noone', 'made', 'until', 'rather', 'between', 'is', 'of', 'more', 'around', 'might', 'whoever', 'therein', 'ourselves', 'any', 'due', 'namely', 'up', 'both', 'whereupon', 'everyone', 'however', 'no', 'yourselves', 'hereupon', 'than', 'fill', 'every', 'sincere', 'afterwards', 'so', 'elsewhere', 'thence', 'hereafter', 'everything', 'whither', 'can', 'co', 'what', 'each', 'other', 'mill', 'two', 'beyond', 'four', 'below', 'former', 'fifty', 'this', 'seemed', 'whom', 'why', 'even', 'her', 'themselves', 'therefore', 'during', 'become', 'twelve', 'wherein', 'least', 're', 'formerly', 'should', 'though', 'beforehand', 'onto', 'serious', 'their', 'nobody', 'whatever', 'thin', 'not', 'do', 'she', 'nine', 'almost', 'that', 'been', 'then', 'herself', 'several', 'it', 'hers', 'out', 'hasnt', 'most', 'because', 'sometimes', 'besides', 'eleven', 'among', 'where', 'his', 'you', 'name', 'found', 'would', 'cannot', 'my', 'i', 'once', 'thus', 'indeed', 'interest', 'whereby', 'whose', 'take', 'etc', 'thereupon', 'toward', 'may', 'which', 'only', 'at', 'go', 'forty', 'yourself', 'else', 'throughout', 'few', 'give', 'last', 'above', 'sixty', 'for', 'further', 'wherever', 'across', 'seem', 'moreover', 'myself', 'either', 'an', 'often', 'how', 'within', 'cant', 'after', 'a', 'hereby', 'those', 'whether', 'too', 'could', 'hence', 'system', 'perhaps', 'ours', 'done', 'them', 'but', 'they', 'latter', 'neither', 'back', 'or', 'beside', 'three', 'seeming', 'same', 'please', 'without', 'describe', 'again', 'and', 'are', 'from', 'was', 'hundred', 'see', 'now', 'amoungst', 'much', 'will', 'sometime', 'via', 'its', 'thereafter', 'through', 'detail', 'he', 'whereas', 'de', 'thereby', 'thick', 'anything', 'becomes', 'ten', 'part', 'somewhere', 'there', 'upon', 'six', 'him', 'top', 'twenty', 'first', 'eg', 'we', 'whence', 'meanwhile', 'with', 'me', 'one', 'to', 'ltd', 'own', 'many', 'none', 'who', 'always', 'mostly', 'mine', 'con', 'inc', 'when', 'herein', 'un', 'anyone', 'here', 'move', 'find', 'show', 'ever', 'less', 'five', 'towards', 'against', 'eight', 'everywhere', 'must', 'itself', 'over', 'together', 'these', 'some', 'someone', 'whenever', 'before', 'others', 'call', 'had', 'have', 'except', 'becoming', 'also', 'side', 'into', 'still', 'became', 'by', 'yet', 'am', 'since', 'per', 'amount', 'nor', 'enough', 'seems', 'the', 'anywhere', 'behind', 'your', 'down', 'deaf', 'blind'], 'tfidf__strip_accents': 'unicode', 'tfidf__tokenizer': <function tokenizer at 0x00000233EEFA34C0>}\""
      ]
     },
     "execution_count": 70,
     "metadata": {},
     "output_type": "execute_result"
    },
    {
     "data": {
      "image/png": "[encoded data removed]",
      "text/plain": [
       "<Figure size 640x480 with 2 Axes>"
      ]
     },
     "metadata": {},
     "output_type": "display_data"
    }
   ],
   "source": [
    "#tfidf vectorizer\n",
    "pipe = Pipeline([\n",
    "        ('tfidf', TfidfVectorizer()),\n",
    "        ('extra_tree', ExtraTreesClassifier())])\n",
    "\n",
    "modeling_2(pipe=pipe, transformer=\"tfidf\", estimator=\"extra_tree\")\n",
    "\n",
    "#best params: 'extra_tree__ccp_alpha': 0, 'extra_tree__max_depth': 10, 'extra_tree__min_samples_leaf': 5,\n",
    "#'extra_tree__min_samples_split': 15,'tfidf__max_df': 0.9, 'tfidf__max_features': 2000,\n",
    "#'tfidf__min_df': 3, 'tfidf__ngram_range': (1, 1)\n",
    "\n",
    "#refer screenshot for the performance/score"
   ]
  },
  {
   "cell_type": "markdown",
   "id": "51ec6851",
   "metadata": {},
   "source": [
    "#### 9. Ada Boost"
   ]
  },
  {
   "cell_type": "code",
   "execution_count": 78,
   "id": "0f045b15",
   "metadata": {},
   "outputs": [
    {
     "name": "stdout",
     "output_type": "stream",
     "text": [
      "Fitting 5 folds for each of 960 candidates, totalling 4800 fits\n",
      "Training score: 0.9272\n",
      "Testing score: 0.9174\n",
      "Best score: 0.8919\n",
      "Accuracy: 0.9174\n",
      "Precision: 0.9625\n",
      "Sensitivity: 0.881\n",
      "Specificity: 0.8735\n",
      "Wall time: 24min 17s\n"
     ]
    },
    {
     "data": {
      "text/plain": [
       "\"Params: {'ada_b__learning_rate': 0.5, 'ada_b__n_estimators': 100, 'ada_b__random_state': 33, 'cv__analyzer': 'word', 'cv__max_df': 0.9, 'cv__max_features': 3000, 'cv__min_df': 3, 'cv__ngram_range': (1, 1), 'cv__preprocessor': None, 'cv__stop_words': ['latterly', 'along', 'full', 'empty', 'thru', 'anyway', 'as', 'already', 'put', 'whole', 'in', 'although', 'while', 'has', 'were', 'cry', 'under', 'nowhere', 'keep', 'such', 'never', 'couldnt', 'himself', 'next', 'ie', 'fifteen', 'us', 'very', 'otherwise', 'another', 'if', 'about', 'get', 'alone', 'nevertheless', 'on', 'all', 'amongst', 'off', 'whereafter', 'yours', 'bill', 'bottom', 'be', 'front', 'well', 'being', 'something', 'fire', 'third', 'anyhow', 'our', 'somehow', 'nothing', 'noone', 'made', 'until', 'rather', 'between', 'is', 'of', 'more', 'around', 'might', 'whoever', 'therein', 'ourselves', 'any', 'due', 'namely', 'up', 'both', 'whereupon', 'everyone', 'however', 'no', 'yourselves', 'hereupon', 'than', 'fill', 'every', 'sincere', 'afterwards', 'so', 'elsewhere', 'thence', 'hereafter', 'everything', 'whither', 'can', 'co', 'what', 'each', 'other', 'mill', 'two', 'beyond', 'four', 'below', 'former', 'fifty', 'this', 'seemed', 'whom', 'why', 'even', 'her', 'themselves', 'therefore', 'during', 'become', 'twelve', 'wherein', 'least', 're', 'formerly', 'should', 'though', 'beforehand', 'onto', 'serious', 'their', 'nobody', 'whatever', 'thin', 'not', 'do', 'she', 'nine', 'almost', 'that', 'been', 'then', 'herself', 'several', 'it', 'hers', 'out', 'hasnt', 'most', 'because', 'sometimes', 'besides', 'eleven', 'among', 'where', 'his', 'you', 'name', 'found', 'would', 'cannot', 'my', 'i', 'once', 'thus', 'indeed', 'interest', 'whereby', 'whose', 'take', 'etc', 'thereupon', 'toward', 'may', 'which', 'only', 'at', 'go', 'forty', 'yourself', 'else', 'throughout', 'few', 'give', 'last', 'above', 'sixty', 'for', 'further', 'wherever', 'across', 'seem', 'moreover', 'myself', 'either', 'an', 'often', 'how', 'within', 'cant', 'after', 'a', 'hereby', 'those', 'whether', 'too', 'could', 'hence', 'system', 'perhaps', 'ours', 'done', 'them', 'but', 'they', 'latter', 'neither', 'back', 'or', 'beside', 'three', 'seeming', 'same', 'please', 'without', 'describe', 'again', 'and', 'are', 'from', 'was', 'hundred', 'see', 'now', 'amoungst', 'much', 'will', 'sometime', 'via', 'its', 'thereafter', 'through', 'detail', 'he', 'whereas', 'de', 'thereby', 'thick', 'anything', 'becomes', 'ten', 'part', 'somewhere', 'there', 'upon', 'six', 'him', 'top', 'twenty', 'first', 'eg', 'we', 'whence', 'meanwhile', 'with', 'me', 'one', 'to', 'ltd', 'own', 'many', 'none', 'who', 'always', 'mostly', 'mine', 'con', 'inc', 'when', 'herein', 'un', 'anyone', 'here', 'move', 'find', 'show', 'ever', 'less', 'five', 'towards', 'against', 'eight', 'everywhere', 'must', 'itself', 'over', 'together', 'these', 'some', 'someone', 'whenever', 'before', 'others', 'call', 'had', 'have', 'except', 'becoming', 'also', 'side', 'into', 'still', 'became', 'by', 'yet', 'am', 'since', 'per', 'amount', 'nor', 'enough', 'seems', 'the', 'anywhere', 'behind', 'your', 'down', 'deaf', 'blind'], 'cv__strip_accents': 'unicode', 'cv__tokenizer': <function tokenizer at 0x00000233EEFA34C0>}\""
      ]
     },
     "execution_count": 78,
     "metadata": {},
     "output_type": "execute_result"
    },
    {
     "data": {
      "image/png": "[encoded data removed]",
      "text/plain": [
       "<Figure size 640x480 with 2 Axes>"
      ]
     },
     "metadata": {},
     "output_type": "display_data"
    }
   ],
   "source": [
    "%%time\n",
    "from sklearn.ensemble import AdaBoostClassifier\n",
    "\n",
    "#count vectorizer\n",
    "pipe = Pipeline([\n",
    "        ('cv', CountVectorizer()),\n",
    "        ('ada_b', AdaBoostClassifier())])\n",
    "\n",
    "modeling_2(pipe=pipe, transformer=\"cv\", estimator=\"ada_b\")\n",
    "\n",
    "#running time 24m\n",
    "#best params: 'ada_b__learning_rate': 0.5, 'ada_b__n_estimators': 100,'cv__max_df': 0.9,\n",
    "#'cv__max_features': 3000, 'cv__min_df': 3, 'cv__ngram_range': (1, 1)\n",
    "\n",
    "#refer screenshot for the performance/score"
   ]
  },
  {
   "cell_type": "code",
   "execution_count": 79,
   "id": "a78996de",
   "metadata": {},
   "outputs": [
    {
     "name": "stdout",
     "output_type": "stream",
     "text": [
      "Fitting 5 folds for each of 960 candidates, totalling 4800 fits\n",
      "Training score: 0.9165\n",
      "Testing score: 0.9014\n",
      "Best score: 0.8857\n",
      "Accuracy: 0.9014\n",
      "Precision: 0.9589\n",
      "Sensitivity: 0.8535\n",
      "Specificity: 0.8483\n",
      "Wall time: 25min 51s\n"
     ]
    },
    {
     "data": {
      "text/plain": [
       "\"Params: {'ada_b__learning_rate': 0.3, 'ada_b__n_estimators': 100, 'ada_b__random_state': 33, 'tfidf__analyzer': 'word', 'tfidf__max_df': 0.9, 'tfidf__max_features': 2000, 'tfidf__min_df': 3, 'tfidf__ngram_range': (1, 1), 'tfidf__preprocessor': None, 'tfidf__stop_words': ['latterly', 'along', 'full', 'empty', 'thru', 'anyway', 'as', 'already', 'put', 'whole', 'in', 'although', 'while', 'has', 'were', 'cry', 'under', 'nowhere', 'keep', 'such', 'never', 'couldnt', 'himself', 'next', 'ie', 'fifteen', 'us', 'very', 'otherwise', 'another', 'if', 'about', 'get', 'alone', 'nevertheless', 'on', 'all', 'amongst', 'off', 'whereafter', 'yours', 'bill', 'bottom', 'be', 'front', 'well', 'being', 'something', 'fire', 'third', 'anyhow', 'our', 'somehow', 'nothing', 'noone', 'made', 'until', 'rather', 'between', 'is', 'of', 'more', 'around', 'might', 'whoever', 'therein', 'ourselves', 'any', 'due', 'namely', 'up', 'both', 'whereupon', 'everyone', 'however', 'no', 'yourselves', 'hereupon', 'than', 'fill', 'every', 'sincere', 'afterwards', 'so', 'elsewhere', 'thence', 'hereafter', 'everything', 'whither', 'can', 'co', 'what', 'each', 'other', 'mill', 'two', 'beyond', 'four', 'below', 'former', 'fifty', 'this', 'seemed', 'whom', 'why', 'even', 'her', 'themselves', 'therefore', 'during', 'become', 'twelve', 'wherein', 'least', 're', 'formerly', 'should', 'though', 'beforehand', 'onto', 'serious', 'their', 'nobody', 'whatever', 'thin', 'not', 'do', 'she', 'nine', 'almost', 'that', 'been', 'then', 'herself', 'several', 'it', 'hers', 'out', 'hasnt', 'most', 'because', 'sometimes', 'besides', 'eleven', 'among', 'where', 'his', 'you', 'name', 'found', 'would', 'cannot', 'my', 'i', 'once', 'thus', 'indeed', 'interest', 'whereby', 'whose', 'take', 'etc', 'thereupon', 'toward', 'may', 'which', 'only', 'at', 'go', 'forty', 'yourself', 'else', 'throughout', 'few', 'give', 'last', 'above', 'sixty', 'for', 'further', 'wherever', 'across', 'seem', 'moreover', 'myself', 'either', 'an', 'often', 'how', 'within', 'cant', 'after', 'a', 'hereby', 'those', 'whether', 'too', 'could', 'hence', 'system', 'perhaps', 'ours', 'done', 'them', 'but', 'they', 'latter', 'neither', 'back', 'or', 'beside', 'three', 'seeming', 'same', 'please', 'without', 'describe', 'again', 'and', 'are', 'from', 'was', 'hundred', 'see', 'now', 'amoungst', 'much', 'will', 'sometime', 'via', 'its', 'thereafter', 'through', 'detail', 'he', 'whereas', 'de', 'thereby', 'thick', 'anything', 'becomes', 'ten', 'part', 'somewhere', 'there', 'upon', 'six', 'him', 'top', 'twenty', 'first', 'eg', 'we', 'whence', 'meanwhile', 'with', 'me', 'one', 'to', 'ltd', 'own', 'many', 'none', 'who', 'always', 'mostly', 'mine', 'con', 'inc', 'when', 'herein', 'un', 'anyone', 'here', 'move', 'find', 'show', 'ever', 'less', 'five', 'towards', 'against', 'eight', 'everywhere', 'must', 'itself', 'over', 'together', 'these', 'some', 'someone', 'whenever', 'before', 'others', 'call', 'had', 'have', 'except', 'becoming', 'also', 'side', 'into', 'still', 'became', 'by', 'yet', 'am', 'since', 'per', 'amount', 'nor', 'enough', 'seems', 'the', 'anywhere', 'behind', 'your', 'down', 'deaf', 'blind'], 'tfidf__strip_accents': 'unicode', 'tfidf__tokenizer': <function tokenizer at 0x00000233EEFA34C0>}\""
      ]
     },
     "execution_count": 79,
     "metadata": {},
     "output_type": "execute_result"
    },
    {
     "data": {
      "image/png": "[encoded data removed]",
      "text/plain": [
       "<Figure size 640x480 with 2 Axes>"
      ]
     },
     "metadata": {},
     "output_type": "display_data"
    }
   ],
   "source": [
    "%%time\n",
    "\n",
    "#tfidf vectorizer\n",
    "pipe = Pipeline([\n",
    "        ('tfidf', TfidfVectorizer()),\n",
    "        ('ada_b', AdaBoostClassifier())])\n",
    "\n",
    "modeling_2(pipe=pipe, transformer=\"tfidf\", estimator=\"ada_b\")\n",
    "\n",
    "#running time 26m\n",
    "#best params: 'ada_b__learning_rate': 0.3, 'ada_b__n_estimators': 100, 'tfidf__max_df': 0.9,\n",
    "#'tfidf__max_features': 2000, 'tfidf__min_df': 3, 'tfidf__ngram_range': (1, 1)"
   ]
  },
  {
   "cell_type": "code",
   "execution_count": null,
   "id": "3394d827",
   "metadata": {},
   "outputs": [],
   "source": []
  },
  {
   "cell_type": "markdown",
   "id": "aebebba8",
   "metadata": {},
   "source": [
    "#### 10. Gradient Boosting"
   ]
  },
  {
   "cell_type": "code",
   "execution_count": null,
   "id": "89361896",
   "metadata": {},
   "outputs": [],
   "source": [
    "from sklearn.ensemble import GradientBoostingClassifier\n"
   ]
  },
  {
   "cell_type": "markdown",
   "id": "5aba1006",
   "metadata": {},
   "source": [
    "## Evaluation"
   ]
  },
  {
   "cell_type": "markdown",
   "id": "777f4bed",
   "metadata": {},
   "source": [
    "knn, nb and decision trees are nonparametric models\n",
    "\n",
    "Nonparametric models are often preferred over parametric models when there is little or no prior knowledge about the underlying data distribution or when the data is complex and nonlinear. They do not make any assumptions about the underlying data distribution and instead rely on the data itself to infer the model."
   ]
  },
  {
   "cell_type": "markdown",
   "id": "dce0db18",
   "metadata": {},
   "source": [
    "these are not hard and fast rules and the choice between count vectors and TF-IDF vectors should ultimately be based on experimentation and evaluation of the performance of the models on specific tasks and datasets."
   ]
  },
  {
   "cell_type": "code",
   "execution_count": null,
   "id": "7003905e",
   "metadata": {},
   "outputs": [],
   "source": [
    "\n",
    "\n",
    "#     # convert training data to df\n",
    "#     X_train_df = pd.DataFrame(cv.fit_transform(X_train).todense(),\n",
    "#                               columns=cv.get_feature_names_out())\n",
    "#     # top 20 most frequent words\n",
    "#     X_train_df.sum().sort_values(ascending=False).head(20).plot(kind=\"barh\");"
   ]
  },
  {
   "cell_type": "code",
   "execution_count": null,
   "id": "0b56ae17",
   "metadata": {},
   "outputs": [],
   "source": [
    "# Instantiate Sentiment Intensity Analyzer\n",
    "sent = SentimentIntensityAnalyzer()\n",
    "\n",
    "# Calculate sentiment of yelp_1.\n",
    "sent.polarity_scores(yelp_1)"
   ]
  },
  {
   "cell_type": "code",
   "execution_count": null,
   "id": "cdd2d315",
   "metadata": {},
   "outputs": [],
   "source": [
    " In contrast, other models such as SVMs and Naive Bayes can handle high-dimensional data more efficiently."
   ]
  },
  {
   "cell_type": "markdown",
   "id": "2b2b6744",
   "metadata": {},
   "source": [
    "## Interpretation"
   ]
  },
  {
   "cell_type": "code",
   "execution_count": null,
   "id": "78e2d5e3",
   "metadata": {
    "scrolled": false
   },
   "outputs": [],
   "source": [
    "%%time\n",
    "#Interpretation of coeff of the best estimator, Naive Bayes\n",
    "\n",
    "pipe = Pipeline([\n",
    "        ('cv', CountVectorizer()),\n",
    "        ('multi_nb', MultinomialNB())])\n",
    "\n",
    "params = {'cv__analyzer': ['word'],\n",
    "  'cv__tokenizer': [tokenizer],\n",
    "  'cv__preprocessor': [None],\n",
    "  'cv__stop_words': [stop_words],\n",
    "  'cv__max_features': [3000],\n",
    "  'cv__ngram_range': [(1,3)],\n",
    "  'cv__min_df': [2],\n",
    "  'cv__max_df': [.9],\n",
    "  'cv__strip_accents': [\"unicode\"]}\n",
    "    \n",
    "# initiate grid search cv\n",
    "gs = GridSearchCV(pipe, param_grid=params, cv=5, n_jobs=-1, verbose=1)\n",
    "# fit the gridsearch on the training data\n",
    "gs.fit(X_train, y_train)\n",
    "# make predictions on new data\n",
    "y_pred = gs.predict(X_test)\n",
    "\n",
    "\n",
    "#log probability difference by subtracting coeff group 0 from group 1\n",
    "log_prob = gs.best_estimator_.named_steps['multi_nb'].feature_log_prob_[1] \\\n",
    "            - gs.best_estimator_.named_steps['multi_nb'].feature_log_prob_[0]\n",
    "#create df to store the log diff and the exponential of them\n",
    "df_data = {\"log_prob_diff\": log_prob, \"exponential\": np.exp(abs(log_prob))}\n",
    "log_df = pd.DataFrame(df_data, index=gs.best_estimator_[0].get_feature_names_out())\n",
    "\n",
    "\n",
    "print(\"\\n\")\n",
    "\n",
    "print(\"For negative/blind group:\")\n",
    "print(log_df.sort_values(by=\"log_prob_diff\", ascending=True).head(20))\n",
    "\n",
    "print(\"\\n\")\n",
    "\n",
    "print(\"For positive/deaf group:\")\n",
    "print(log_df.sort_values(by=\"log_prob_diff\", ascending=False).head(10))"
   ]
  },
  {
   "cell_type": "markdown",
   "id": "1b392a1b",
   "metadata": {},
   "source": [
    "**For negative/blind group:**\n",
    "\n",
    "The most important word \"visually impaired\" is 155 times more likely to be in the document belongs to blind group compared to deaf group.\n",
    "\n",
    "The ten words that have the strongest association with blind group are \"visually impaired\", \"voiceover\", \"low vision\", \"visually\", \"screen reader\", \"guide dog\", \"cane\", \"jaws\", \"braille\". Note that \"rblind\" is a community in reddit, so it should be eliminated from the list.\n",
    "\n",
    "\n",
    "<font size=2>*cane*: A person with a completely white cane, this will usually mean they are blind, or visually impaired. Pedestrians with a red and white striped cane however, are deafblind (with both sight and hearing impairments).\n",
    "    \n",
    "<font size=2>*jaws*: Job Access With Speech. It is the world's most popular screen reader, developed for computer users whose vision loss prevents them from seeing screen content or navigating with a mouse. JAWS provides speech and Braille output for the most popular computer applications on your PC.\n",
    "    \n",
    "<font size=2>*braille*: It is a system of raised dots that can be read with the fingers by people who are blind or who have low vision.\n",
    "\n",
    "**For positive/deaf group:**\n",
    "\n",
    "The most important word \"asl\" means American Sign Language (ASL). It is a complete, natural language that has the same linguistic properties as spoken languages, with grammar that differs from English. ASL is expressed by movements of the hands and face. This word is 190 times more likely to be in the document belongs to deaf group compared to blind group.\n",
    "\n",
    "The ten words that have the strongest association with deaf group are \"asl\", \"interpreter\", \"hoh, \"hearing aid\", \"audiologist\", \"ci\",  \"hearing loss\". Note that \"hearing aids\" and \"hearing aid\" are just singular and plural forms. While \"signing\" and \"sign language\" are refering the same thing as \"asl\".\n",
    "\n",
    "<font size=2>*hoh*: Hard of Hearing (HoH). It refers to someone who doesn't hear well.\n",
    "\n",
    "<font size=2>*ci*: Cochlear Implant. It is a small, complex electronic device that can help to provide a sense of sound to a person who is profoundly deaf or severely hard-of-hearing.\n"
   ]
  },
  {
   "cell_type": "markdown",
   "id": "40e5cb8d",
   "metadata": {},
   "source": [
    "## Conclusion"
   ]
  },
  {
   "cell_type": "markdown",
   "id": "da8d9439",
   "metadata": {},
   "source": [
    "||Logistic Regression|Naive Bayes|KNN|Decision Tree|Bagging|Random Forest|Extra Trees|Ada Boost|\n",
    "|---|---|---|---|---|---|---|---|---|\n",
    "|**Total fits**|34560|1920|30720|38880|11520|19440|19440|4800|\n",
    "|---|---|---|---|---|---|---|---|---|\n",
    "|---|**Count, Tf-idf**|**Count, Tf-idf**|**Count, Tf-idf**|**Count, Tf-idf**|**Count, Tf-idf**|**Count, Tf-idf**|**Count, Tf-idf**|**Count, Tf-idf**|\n",
    "|**Training score**|0.9856, 0.9786|0.9465, 0.9490|0.8668, 0.9050|0.8335, 0.8470|0.8536, 0.8594|0.9157, 0.9223|0.8376, 0.8631|0.9272, 0.9165|\n",
    "|**Testing score**|0.9125, 0.9211|0.9063, 0.8977|0.7176, 0.8681|0.8668, 0.8668|0.8755, 0.8779|0.9014, 0.8989|0.8274, 0.8545|0.9174, 0.9014|\n",
    "|**GS Cross Val score**|0.9083, 0.9190|0.9153, 0.9083|0.7216, 0.8602|0.8215, 0.8335|0.8487, 0.8512|0.9030, 0.9001|0.8224, 0.8602|0.8919, 0.8857|\n",
    "|**Variance**|7.73%, 5.96% |**3.12%**, 4.07%|14.52%, 4.48%|1.20%, 1.35% |0.49%, 0.82%|**1.27%**, 2.22%|1.52%, **0.29%**|3.53%, 3.08%|\n",
    "|---|---|---|---|---|---|---|---|---|\n",
    "|**Accuracy**|0.9125, 0.9211|**0.9063**, 0.8977|0.7176, 0.8681|0.8668, 0.8668|0.8755, 0.8779|**0.9014**, 0.8989|0.8274, **0.8545**|0.9174, 0.9014|\n",
    "|**Precision**|0.9316, 0.9287|0.9329, 0.9078|0.7537, 0.8733|0.9741, 0.9634|0.9641, 0.9643|0.8680, 0.8706|0.7601, 0.7970|0.9625, 0.9589|\n",
    "|**Sensitivity**|0.9039, 0.9245|**0.8902**, 0.9016|0.7071, 0.8833|0.7735, 0.7826|0.7986, 0.8032|**0.9634**, 0.9542|0.9931, **0.9794**|0.8810, 08535|\n",
    "|**Specificity**|0.8915, 0.9122|**0.8782**, 0.8859|0.6808, 0.8618|0.7866, 0.7917|0.8040, 0.8076|**0.9509**, 0.9398|0.9875, **0.9672**|0.8735, 0.8483|\n",
    "\n",
    "Baseline Model Accuracy = 0.5395"
   ]
  },
  {
   "cell_type": "markdown",
   "id": "575af507",
   "metadata": {},
   "source": [
    "In terms of lower variance and higher scores in sensitivity and specificity, the top 3 models that stands out are Naive Bayes, Random Forest and Extra Trees."
   ]
  },
  {
   "cell_type": "markdown",
   "id": "2d07d70e",
   "metadata": {},
   "source": [
    "## Recommendation"
   ]
  },
  {
   "cell_type": "code",
   "execution_count": null,
   "id": "d37e9d12",
   "metadata": {},
   "outputs": [],
   "source": []
  },
  {
   "cell_type": "markdown",
   "id": "883d9d1f",
   "metadata": {},
   "source": [
    "change result for ada boost\n",
    "\n",
    "screenshot the result\n",
    "\n",
    "interpret \n",
    "\n",
    "comparing words importance between coutn and tfidf"
   ]
  }
 ],
 "metadata": {
  "kernelspec": {
   "display_name": "Python 3 (ipykernel)",
   "language": "python",
   "name": "python3"
  },
  "language_info": {
   "codemirror_mode": {
    "name": "ipython",
    "version": 3
   },
   "file_extension": ".py",
   "mimetype": "text/x-python",
   "name": "python",
   "nbconvert_exporter": "python",
   "pygments_lexer": "ipython3",
   "version": "3.9.13"
  }
 },
 "nbformat": 4,
 "nbformat_minor": 5
}
